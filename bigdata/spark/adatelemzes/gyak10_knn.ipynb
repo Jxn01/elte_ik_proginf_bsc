{
 "cells": [
  {
   "cell_type": "code",
   "execution_count": 1,
   "id": "f961013b",
   "metadata": {},
   "outputs": [],
   "source": [
    "import numpy as np\n",
    "import pandas as pd\n",
    "from matplotlib import pyplot as plt"
   ]
  },
  {
   "cell_type": "markdown",
   "id": "e047b58b",
   "metadata": {},
   "source": [
    "## Adattisztítás"
   ]
  },
  {
   "cell_type": "code",
   "execution_count": 2,
   "id": "0f0a1f7e",
   "metadata": {},
   "outputs": [
    {
     "data": {
      "text/html": [
       "<div>\n",
       "<style scoped>\n",
       "    .dataframe tbody tr th:only-of-type {\n",
       "        vertical-align: middle;\n",
       "    }\n",
       "\n",
       "    .dataframe tbody tr th {\n",
       "        vertical-align: top;\n",
       "    }\n",
       "\n",
       "    .dataframe thead th {\n",
       "        text-align: right;\n",
       "    }\n",
       "</style>\n",
       "<table border=\"1\" class=\"dataframe\">\n",
       "  <thead>\n",
       "    <tr style=\"text-align: right;\">\n",
       "      <th></th>\n",
       "      <th>#</th>\n",
       "      <th>Name</th>\n",
       "      <th>Type 1</th>\n",
       "      <th>Type 2</th>\n",
       "      <th>Total</th>\n",
       "      <th>HP</th>\n",
       "      <th>Attack</th>\n",
       "      <th>Defense</th>\n",
       "      <th>Sp. Atk</th>\n",
       "      <th>Sp. Def</th>\n",
       "      <th>Speed</th>\n",
       "      <th>Generation</th>\n",
       "      <th>Legendary</th>\n",
       "    </tr>\n",
       "  </thead>\n",
       "  <tbody>\n",
       "    <tr>\n",
       "      <th>0</th>\n",
       "      <td>1</td>\n",
       "      <td>Bulbasaur</td>\n",
       "      <td>Grass</td>\n",
       "      <td>Poison</td>\n",
       "      <td>318</td>\n",
       "      <td>45.0</td>\n",
       "      <td>49</td>\n",
       "      <td>49.0</td>\n",
       "      <td>65</td>\n",
       "      <td>65.0</td>\n",
       "      <td>45.0</td>\n",
       "      <td>1</td>\n",
       "      <td>False</td>\n",
       "    </tr>\n",
       "    <tr>\n",
       "      <th>1</th>\n",
       "      <td>2</td>\n",
       "      <td>Ivysaur</td>\n",
       "      <td>Grass</td>\n",
       "      <td>Poison</td>\n",
       "      <td>405</td>\n",
       "      <td>60.0</td>\n",
       "      <td>62</td>\n",
       "      <td>63.0</td>\n",
       "      <td>80</td>\n",
       "      <td>80.0</td>\n",
       "      <td>60.0</td>\n",
       "      <td>1</td>\n",
       "      <td>False</td>\n",
       "    </tr>\n",
       "    <tr>\n",
       "      <th>2</th>\n",
       "      <td>3</td>\n",
       "      <td>Venusaur</td>\n",
       "      <td>Grass</td>\n",
       "      <td>Poison</td>\n",
       "      <td>525</td>\n",
       "      <td>80.0</td>\n",
       "      <td>82</td>\n",
       "      <td>83.0</td>\n",
       "      <td>100</td>\n",
       "      <td>100.0</td>\n",
       "      <td>80.0</td>\n",
       "      <td>1</td>\n",
       "      <td>False</td>\n",
       "    </tr>\n",
       "    <tr>\n",
       "      <th>3</th>\n",
       "      <td>3</td>\n",
       "      <td>VenusaurMega Venusaur</td>\n",
       "      <td>Grass</td>\n",
       "      <td>Poison</td>\n",
       "      <td>625</td>\n",
       "      <td>80.0</td>\n",
       "      <td>100</td>\n",
       "      <td>123.0</td>\n",
       "      <td>122</td>\n",
       "      <td>120.0</td>\n",
       "      <td>80.0</td>\n",
       "      <td>1</td>\n",
       "      <td>False</td>\n",
       "    </tr>\n",
       "    <tr>\n",
       "      <th>4</th>\n",
       "      <td>4</td>\n",
       "      <td>Charmander</td>\n",
       "      <td>Fire</td>\n",
       "      <td>NaN</td>\n",
       "      <td>310</td>\n",
       "      <td>39.0</td>\n",
       "      <td>52</td>\n",
       "      <td>43.0</td>\n",
       "      <td>60</td>\n",
       "      <td>50.0</td>\n",
       "      <td>65.0</td>\n",
       "      <td>1</td>\n",
       "      <td>False</td>\n",
       "    </tr>\n",
       "  </tbody>\n",
       "</table>\n",
       "</div>"
      ],
      "text/plain": [
       "   #                   Name Type 1  Type 2  Total    HP  Attack  Defense  \\\n",
       "0  1              Bulbasaur  Grass  Poison    318  45.0      49     49.0   \n",
       "1  2                Ivysaur  Grass  Poison    405  60.0      62     63.0   \n",
       "2  3               Venusaur  Grass  Poison    525  80.0      82     83.0   \n",
       "3  3  VenusaurMega Venusaur  Grass  Poison    625  80.0     100    123.0   \n",
       "4  4             Charmander   Fire     NaN    310  39.0      52     43.0   \n",
       "\n",
       "   Sp. Atk  Sp. Def  Speed  Generation  Legendary  \n",
       "0       65     65.0   45.0           1      False  \n",
       "1       80     80.0   60.0           1      False  \n",
       "2      100    100.0   80.0           1      False  \n",
       "3      122    120.0   80.0           1      False  \n",
       "4       60     50.0   65.0           1      False  "
      ]
     },
     "execution_count": 2,
     "metadata": {},
     "output_type": "execute_result"
    }
   ],
   "source": [
    "# Az adatfeldolgozás első lépése az adatot olyan feldolgozható formára hozni.\n",
    "# Ennek a része a megfelelő oszlopok kiválasztása, átalakítása, sorok szűrése és az adattisztítás is.\n",
    "\n",
    "# Az adattisztítás során a következőket vizsgáljuk meg:\n",
    "# Vannak-e hiányzó értékek?\n",
    "# Vannak-e kiugró értékek?\n",
    "# Vannak-e inkonzisztens adatok?\n",
    "\n",
    "df = pd.read_csv(\"Pokemon_cleaning.csv\")\n",
    "df.head()"
   ]
  },
  {
   "cell_type": "markdown",
   "id": "0fe53871",
   "metadata": {},
   "source": [
    "## Feladat 1\n",
    "\n",
    "Az adathalmaz tartalmaz 3 furcsaságot, amelyeket jó lenne megtalálni és kijavítani mielőtt elkezdünk dolgozni!\n",
    "Mik ezek és mit tudunk tenni?"
   ]
  },
  {
   "cell_type": "code",
   "execution_count": 3,
   "id": "3df2a268",
   "metadata": {},
   "outputs": [
    {
     "data": {
      "text/html": [
       "<div>\n",
       "<style scoped>\n",
       "    .dataframe tbody tr th:only-of-type {\n",
       "        vertical-align: middle;\n",
       "    }\n",
       "\n",
       "    .dataframe tbody tr th {\n",
       "        vertical-align: top;\n",
       "    }\n",
       "\n",
       "    .dataframe thead th {\n",
       "        text-align: right;\n",
       "    }\n",
       "</style>\n",
       "<table border=\"1\" class=\"dataframe\">\n",
       "  <thead>\n",
       "    <tr style=\"text-align: right;\">\n",
       "      <th></th>\n",
       "      <th>#</th>\n",
       "      <th>Total</th>\n",
       "      <th>HP</th>\n",
       "      <th>Attack</th>\n",
       "      <th>Defense</th>\n",
       "      <th>Sp. Atk</th>\n",
       "      <th>Sp. Def</th>\n",
       "      <th>Speed</th>\n",
       "      <th>Generation</th>\n",
       "    </tr>\n",
       "  </thead>\n",
       "  <tbody>\n",
       "    <tr>\n",
       "      <th>count</th>\n",
       "      <td>800.000000</td>\n",
       "      <td>800.000000</td>\n",
       "      <td>797.000000</td>\n",
       "      <td>800.000000</td>\n",
       "      <td>799.000000</td>\n",
       "      <td>800.000000</td>\n",
       "      <td>799.000000</td>\n",
       "      <td>799.000000</td>\n",
       "      <td>800.00000</td>\n",
       "    </tr>\n",
       "    <tr>\n",
       "      <th>mean</th>\n",
       "      <td>362.813750</td>\n",
       "      <td>435.103750</td>\n",
       "      <td>75.494354</td>\n",
       "      <td>79.001250</td>\n",
       "      <td>73.847309</td>\n",
       "      <td>72.820000</td>\n",
       "      <td>71.867334</td>\n",
       "      <td>68.205257</td>\n",
       "      <td>3.32375</td>\n",
       "    </tr>\n",
       "    <tr>\n",
       "      <th>std</th>\n",
       "      <td>208.343798</td>\n",
       "      <td>119.961729</td>\n",
       "      <td>176.514834</td>\n",
       "      <td>32.457366</td>\n",
       "      <td>31.202736</td>\n",
       "      <td>32.722294</td>\n",
       "      <td>27.828555</td>\n",
       "      <td>29.173673</td>\n",
       "      <td>1.66129</td>\n",
       "    </tr>\n",
       "    <tr>\n",
       "      <th>min</th>\n",
       "      <td>1.000000</td>\n",
       "      <td>180.000000</td>\n",
       "      <td>1.000000</td>\n",
       "      <td>5.000000</td>\n",
       "      <td>5.000000</td>\n",
       "      <td>10.000000</td>\n",
       "      <td>20.000000</td>\n",
       "      <td>-1.000000</td>\n",
       "      <td>1.00000</td>\n",
       "    </tr>\n",
       "    <tr>\n",
       "      <th>25%</th>\n",
       "      <td>184.750000</td>\n",
       "      <td>330.000000</td>\n",
       "      <td>50.000000</td>\n",
       "      <td>55.000000</td>\n",
       "      <td>50.000000</td>\n",
       "      <td>49.750000</td>\n",
       "      <td>50.000000</td>\n",
       "      <td>45.000000</td>\n",
       "      <td>2.00000</td>\n",
       "    </tr>\n",
       "    <tr>\n",
       "      <th>50%</th>\n",
       "      <td>364.500000</td>\n",
       "      <td>450.000000</td>\n",
       "      <td>65.000000</td>\n",
       "      <td>75.000000</td>\n",
       "      <td>70.000000</td>\n",
       "      <td>65.000000</td>\n",
       "      <td>70.000000</td>\n",
       "      <td>65.000000</td>\n",
       "      <td>3.00000</td>\n",
       "    </tr>\n",
       "    <tr>\n",
       "      <th>75%</th>\n",
       "      <td>539.250000</td>\n",
       "      <td>515.000000</td>\n",
       "      <td>80.000000</td>\n",
       "      <td>100.000000</td>\n",
       "      <td>90.000000</td>\n",
       "      <td>95.000000</td>\n",
       "      <td>90.000000</td>\n",
       "      <td>90.000000</td>\n",
       "      <td>5.00000</td>\n",
       "    </tr>\n",
       "    <tr>\n",
       "      <th>max</th>\n",
       "      <td>721.000000</td>\n",
       "      <td>780.000000</td>\n",
       "      <td>5000.000000</td>\n",
       "      <td>190.000000</td>\n",
       "      <td>230.000000</td>\n",
       "      <td>194.000000</td>\n",
       "      <td>230.000000</td>\n",
       "      <td>180.000000</td>\n",
       "      <td>6.00000</td>\n",
       "    </tr>\n",
       "  </tbody>\n",
       "</table>\n",
       "</div>"
      ],
      "text/plain": [
       "                #       Total           HP      Attack     Defense  \\\n",
       "count  800.000000  800.000000   797.000000  800.000000  799.000000   \n",
       "mean   362.813750  435.103750    75.494354   79.001250   73.847309   \n",
       "std    208.343798  119.961729   176.514834   32.457366   31.202736   \n",
       "min      1.000000  180.000000     1.000000    5.000000    5.000000   \n",
       "25%    184.750000  330.000000    50.000000   55.000000   50.000000   \n",
       "50%    364.500000  450.000000    65.000000   75.000000   70.000000   \n",
       "75%    539.250000  515.000000    80.000000  100.000000   90.000000   \n",
       "max    721.000000  780.000000  5000.000000  190.000000  230.000000   \n",
       "\n",
       "          Sp. Atk     Sp. Def       Speed  Generation  \n",
       "count  800.000000  799.000000  799.000000   800.00000  \n",
       "mean    72.820000   71.867334   68.205257     3.32375  \n",
       "std     32.722294   27.828555   29.173673     1.66129  \n",
       "min     10.000000   20.000000   -1.000000     1.00000  \n",
       "25%     49.750000   50.000000   45.000000     2.00000  \n",
       "50%     65.000000   70.000000   65.000000     3.00000  \n",
       "75%     95.000000   90.000000   90.000000     5.00000  \n",
       "max    194.000000  230.000000  180.000000     6.00000  "
      ]
     },
     "execution_count": 3,
     "metadata": {},
     "output_type": "execute_result"
    }
   ],
   "source": [
    "# Érdemes megvizsgálni az adatunk alapvető statisztikáit inkonzisztencia után kutatva\n",
    "\n",
    "df.describe()"
   ]
  },
  {
   "cell_type": "code",
   "execution_count": 4,
   "id": "9c2b66e8",
   "metadata": {},
   "outputs": [
    {
     "data": {
      "text/html": [
       "<div>\n",
       "<style scoped>\n",
       "    .dataframe tbody tr th:only-of-type {\n",
       "        vertical-align: middle;\n",
       "    }\n",
       "\n",
       "    .dataframe tbody tr th {\n",
       "        vertical-align: top;\n",
       "    }\n",
       "\n",
       "    .dataframe thead th {\n",
       "        text-align: right;\n",
       "    }\n",
       "</style>\n",
       "<table border=\"1\" class=\"dataframe\">\n",
       "  <thead>\n",
       "    <tr style=\"text-align: right;\">\n",
       "      <th></th>\n",
       "      <th>#</th>\n",
       "      <th>Name</th>\n",
       "      <th>Type 1</th>\n",
       "      <th>Type 2</th>\n",
       "      <th>Total</th>\n",
       "      <th>HP</th>\n",
       "      <th>Attack</th>\n",
       "      <th>Defense</th>\n",
       "      <th>Sp. Atk</th>\n",
       "      <th>Sp. Def</th>\n",
       "      <th>Speed</th>\n",
       "      <th>Generation</th>\n",
       "      <th>Legendary</th>\n",
       "    </tr>\n",
       "  </thead>\n",
       "  <tbody>\n",
       "    <tr>\n",
       "      <th>407</th>\n",
       "      <td>372</td>\n",
       "      <td>Shelgon</td>\n",
       "      <td>Dragon</td>\n",
       "      <td>NaN</td>\n",
       "      <td>420</td>\n",
       "      <td>65.0</td>\n",
       "      <td>95</td>\n",
       "      <td>100.0</td>\n",
       "      <td>60</td>\n",
       "      <td>50.0</td>\n",
       "      <td>-1.0</td>\n",
       "      <td>3</td>\n",
       "      <td>False</td>\n",
       "    </tr>\n",
       "  </tbody>\n",
       "</table>\n",
       "</div>"
      ],
      "text/plain": [
       "       #     Name  Type 1 Type 2  Total    HP  Attack  Defense  Sp. Atk  \\\n",
       "407  372  Shelgon  Dragon    NaN    420  65.0      95    100.0       60   \n",
       "\n",
       "     Sp. Def  Speed  Generation  Legendary  \n",
       "407     50.0   -1.0           3      False  "
      ]
     },
     "execution_count": 4,
     "metadata": {},
     "output_type": "execute_result"
    }
   ],
   "source": [
    "# Megvan a problémás sor!\n",
    "\n",
    "# Mit tegyünk?\n",
    "# Dobjuk el a sort\n",
    "# Helyettesítsük valamilyen konstans értékkel\n",
    "# Próbáljuk kitalálni nagyjából milyen érték szerepelhet ott\n",
    "\n",
    "df[df['Speed'] == -1]"
   ]
  },
  {
   "cell_type": "code",
   "execution_count": 5,
   "id": "034ba79b",
   "metadata": {},
   "outputs": [],
   "source": [
    "# Javjtsuk ki a hibát!\n",
    "# Helyettesítsük az átlaggal\n",
    "\n",
    "df.at[407, 'Speed'] = df['Speed'].mean()"
   ]
  },
  {
   "cell_type": "code",
   "execution_count": 6,
   "id": "341be81d",
   "metadata": {},
   "outputs": [
    {
     "data": {
      "text/plain": [
       "(array([796.,   0.,   0.,   0.,   0.,   0.,   0.,   0.,   0.,   1.]),\n",
       " array([1.0000e+00, 5.0090e+02, 1.0008e+03, 1.5007e+03, 2.0006e+03,\n",
       "        2.5005e+03, 3.0004e+03, 3.5003e+03, 4.0002e+03, 4.5001e+03,\n",
       "        5.0000e+03]),\n",
       " <BarContainer object of 10 artists>)"
      ]
     },
     "execution_count": 6,
     "metadata": {},
     "output_type": "execute_result"
    },
    {
     "data": {
      "image/png": "[encoded data removed]",
      "text/plain": [
       "<Figure size 640x480 with 1 Axes>"
      ]
     },
     "metadata": {},
     "output_type": "display_data"
    }
   ],
   "source": [
    "# Rajzoljuk ki a HP oszlop hisztogramját\n",
    "# Itt látszik, hogy van egy nagyon kiugró értékünk\n",
    "\n",
    "plt.hist(df['HP'])"
   ]
  },
  {
   "cell_type": "code",
   "execution_count": 7,
   "id": "dfb197cf",
   "metadata": {},
   "outputs": [
    {
     "data": {
      "text/html": [
       "<div>\n",
       "<style scoped>\n",
       "    .dataframe tbody tr th:only-of-type {\n",
       "        vertical-align: middle;\n",
       "    }\n",
       "\n",
       "    .dataframe tbody tr th {\n",
       "        vertical-align: top;\n",
       "    }\n",
       "\n",
       "    .dataframe thead th {\n",
       "        text-align: right;\n",
       "    }\n",
       "</style>\n",
       "<table border=\"1\" class=\"dataframe\">\n",
       "  <thead>\n",
       "    <tr style=\"text-align: right;\">\n",
       "      <th></th>\n",
       "      <th>#</th>\n",
       "      <th>Name</th>\n",
       "      <th>Type 1</th>\n",
       "      <th>Type 2</th>\n",
       "      <th>Total</th>\n",
       "      <th>HP</th>\n",
       "      <th>Attack</th>\n",
       "      <th>Defense</th>\n",
       "      <th>Sp. Atk</th>\n",
       "      <th>Sp. Def</th>\n",
       "      <th>Speed</th>\n",
       "      <th>Generation</th>\n",
       "      <th>Legendary</th>\n",
       "    </tr>\n",
       "  </thead>\n",
       "  <tbody>\n",
       "    <tr>\n",
       "      <th>89</th>\n",
       "      <td>82</td>\n",
       "      <td>Magneton</td>\n",
       "      <td>Electric</td>\n",
       "      <td>Steel</td>\n",
       "      <td>465</td>\n",
       "      <td>5000.0</td>\n",
       "      <td>60</td>\n",
       "      <td>95.0</td>\n",
       "      <td>120</td>\n",
       "      <td>70.0</td>\n",
       "      <td>70.0</td>\n",
       "      <td>1</td>\n",
       "      <td>False</td>\n",
       "    </tr>\n",
       "    <tr>\n",
       "      <th>121</th>\n",
       "      <td>113</td>\n",
       "      <td>Chansey</td>\n",
       "      <td>Normal</td>\n",
       "      <td>NaN</td>\n",
       "      <td>450</td>\n",
       "      <td>250.0</td>\n",
       "      <td>5</td>\n",
       "      <td>5.0</td>\n",
       "      <td>35</td>\n",
       "      <td>105.0</td>\n",
       "      <td>50.0</td>\n",
       "      <td>1</td>\n",
       "      <td>False</td>\n",
       "    </tr>\n",
       "    <tr>\n",
       "      <th>155</th>\n",
       "      <td>143</td>\n",
       "      <td>Snorlax</td>\n",
       "      <td>Normal</td>\n",
       "      <td>NaN</td>\n",
       "      <td>540</td>\n",
       "      <td>160.0</td>\n",
       "      <td>110</td>\n",
       "      <td>65.0</td>\n",
       "      <td>65</td>\n",
       "      <td>110.0</td>\n",
       "      <td>30.0</td>\n",
       "      <td>1</td>\n",
       "      <td>False</td>\n",
       "    </tr>\n",
       "    <tr>\n",
       "      <th>217</th>\n",
       "      <td>202</td>\n",
       "      <td>Wobbuffet</td>\n",
       "      <td>Psychic</td>\n",
       "      <td>NaN</td>\n",
       "      <td>405</td>\n",
       "      <td>190.0</td>\n",
       "      <td>33</td>\n",
       "      <td>58.0</td>\n",
       "      <td>33</td>\n",
       "      <td>58.0</td>\n",
       "      <td>33.0</td>\n",
       "      <td>2</td>\n",
       "      <td>False</td>\n",
       "    </tr>\n",
       "    <tr>\n",
       "      <th>261</th>\n",
       "      <td>242</td>\n",
       "      <td>Blissey</td>\n",
       "      <td>Normal</td>\n",
       "      <td>NaN</td>\n",
       "      <td>540</td>\n",
       "      <td>255.0</td>\n",
       "      <td>10</td>\n",
       "      <td>10.0</td>\n",
       "      <td>75</td>\n",
       "      <td>135.0</td>\n",
       "      <td>55.0</td>\n",
       "      <td>2</td>\n",
       "      <td>False</td>\n",
       "    </tr>\n",
       "    <tr>\n",
       "      <th>351</th>\n",
       "      <td>321</td>\n",
       "      <td>Wailord</td>\n",
       "      <td>Water</td>\n",
       "      <td>NaN</td>\n",
       "      <td>500</td>\n",
       "      <td>170.0</td>\n",
       "      <td>90</td>\n",
       "      <td>45.0</td>\n",
       "      <td>90</td>\n",
       "      <td>45.0</td>\n",
       "      <td>60.0</td>\n",
       "      <td>3</td>\n",
       "      <td>False</td>\n",
       "    </tr>\n",
       "    <tr>\n",
       "      <th>655</th>\n",
       "      <td>594</td>\n",
       "      <td>Alomomola</td>\n",
       "      <td>Water</td>\n",
       "      <td>NaN</td>\n",
       "      <td>470</td>\n",
       "      <td>165.0</td>\n",
       "      <td>75</td>\n",
       "      <td>80.0</td>\n",
       "      <td>40</td>\n",
       "      <td>45.0</td>\n",
       "      <td>65.0</td>\n",
       "      <td>5</td>\n",
       "      <td>False</td>\n",
       "    </tr>\n",
       "  </tbody>\n",
       "</table>\n",
       "</div>"
      ],
      "text/plain": [
       "       #       Name    Type 1 Type 2  Total      HP  Attack  Defense  Sp. Atk  \\\n",
       "89    82   Magneton  Electric  Steel    465  5000.0      60     95.0      120   \n",
       "121  113    Chansey    Normal    NaN    450   250.0       5      5.0       35   \n",
       "155  143    Snorlax    Normal    NaN    540   160.0     110     65.0       65   \n",
       "217  202  Wobbuffet   Psychic    NaN    405   190.0      33     58.0       33   \n",
       "261  242    Blissey    Normal    NaN    540   255.0      10     10.0       75   \n",
       "351  321    Wailord     Water    NaN    500   170.0      90     45.0       90   \n",
       "655  594  Alomomola     Water    NaN    470   165.0      75     80.0       40   \n",
       "\n",
       "     Sp. Def  Speed  Generation  Legendary  \n",
       "89      70.0   70.0           1      False  \n",
       "121    105.0   50.0           1      False  \n",
       "155    110.0   30.0           1      False  \n",
       "217     58.0   33.0           2      False  \n",
       "261    135.0   55.0           2      False  \n",
       "351     45.0   60.0           3      False  \n",
       "655     45.0   65.0           5      False  "
      ]
     },
     "execution_count": 7,
     "metadata": {},
     "output_type": "execute_result"
    }
   ],
   "source": [
    "# Megvan a problémás sor!\n",
    "\n",
    "df[df['HP'] > 150]"
   ]
  },
  {
   "cell_type": "code",
   "execution_count": 8,
   "id": "2985f995",
   "metadata": {},
   "outputs": [],
   "source": [
    "# Javjtsuk ki a hibát!\n",
    "\n",
    "df.at[89, 'HP'] = df['HP'].mean()"
   ]
  },
  {
   "cell_type": "code",
   "execution_count": 9,
   "id": "f96cfdf1",
   "metadata": {},
   "outputs": [
    {
     "data": {
      "text/plain": [
       "(array([ 10., 200., 335., 186.,  50.,  10.,   3.,   1.,   0.,   2.]),\n",
       " array([  1. ,  26.4,  51.8,  77.2, 102.6, 128. , 153.4, 178.8, 204.2,\n",
       "        229.6, 255. ]),\n",
       " <BarContainer object of 10 artists>)"
      ]
     },
     "execution_count": 9,
     "metadata": {},
     "output_type": "execute_result"
    },
    {
     "data": {
      "image/png": "[encoded data removed]",
      "text/plain": [
       "<Figure size 640x480 with 1 Axes>"
      ]
     },
     "metadata": {},
     "output_type": "display_data"
    }
   ],
   "source": [
    "# Mostmár jól néz ki a hisztogram\n",
    "\n",
    "plt.hist(df['HP'])"
   ]
  },
  {
   "cell_type": "code",
   "execution_count": 10,
   "id": "4348a1bd",
   "metadata": {},
   "outputs": [
    {
     "data": {
      "text/plain": [
       "#               0\n",
       "Name            0\n",
       "Type 1          0\n",
       "Type 2        386\n",
       "Total           0\n",
       "HP              3\n",
       "Attack          0\n",
       "Defense         1\n",
       "Sp. Atk         0\n",
       "Sp. Def         1\n",
       "Speed           1\n",
       "Generation      0\n",
       "Legendary       0\n",
       "dtype: int64"
      ]
     },
     "execution_count": 10,
     "metadata": {},
     "output_type": "execute_result"
    }
   ],
   "source": [
    "# Vizsgáljuk meg vannak-e hiányzó értékek\n",
    "\n",
    "# Mit tegyünk?\n",
    "# Dobjuk el a sorokat\n",
    "# Töltsük fel valamilyen konstans értékkel\n",
    "# Próbáljuk kitalálni nagyjából milyen érték szerepelhet ott\n",
    "\n",
    "df.isnull().sum()"
   ]
  },
  {
   "cell_type": "code",
   "execution_count": 11,
   "id": "232a35e6",
   "metadata": {},
   "outputs": [
    {
     "data": {
      "text/plain": [
       "0      45.0\n",
       "1      60.0\n",
       "2      80.0\n",
       "3      80.0\n",
       "4      39.0\n",
       "       ... \n",
       "795    50.0\n",
       "796    50.0\n",
       "797    80.0\n",
       "798    80.0\n",
       "799    80.0\n",
       "Name: HP, Length: 800, dtype: float64"
      ]
     },
     "execution_count": 11,
     "metadata": {},
     "output_type": "execute_result"
    }
   ],
   "source": [
    "# Ezeket most nem hajtom végre, később kezelem a hiányzó értékeket!\n",
    "\n",
    "# Konstanssal való kitöltés\n",
    "df.fillna(value=0)\n",
    "# A rákövetkező lévő sorban lévő értékkel kitöltése\n",
    "df.fillna(method='ffill')\n",
    "# Az oszlop átlagával történő kitöltés\n",
    "df['HP'].fillna(df['HP'].mean())\n",
    "\n",
    "# Ha a fillna() függvénynek megadjuk az inplace=True paramétert, akkor módosítja a dataframe-et"
   ]
  },
  {
   "cell_type": "markdown",
   "id": "2b45b26c",
   "metadata": {},
   "source": [
    "## Adatok átalakítása"
   ]
  },
  {
   "cell_type": "code",
   "execution_count": 12,
   "id": "351b53b4",
   "metadata": {},
   "outputs": [],
   "source": [
    "# Könyvtár gépi tanulás algorimtusokhoz\n",
    "# Preprocessing - előfeldolgozási algoritmusok\n",
    "\n",
    "# Telepítés: !pip install scikit-learn\n",
    "\n",
    "from sklearn import preprocessing"
   ]
  },
  {
   "cell_type": "code",
   "execution_count": 13,
   "id": "86b3f957",
   "metadata": {},
   "outputs": [
    {
     "data": {
      "text/plain": [
       "0        Grass\n",
       "1        Grass\n",
       "2        Grass\n",
       "3        Grass\n",
       "4         Fire\n",
       "        ...   \n",
       "795       Rock\n",
       "796       Rock\n",
       "797    Psychic\n",
       "798    Psychic\n",
       "799       Fire\n",
       "Name: Type 1, Length: 800, dtype: object"
      ]
     },
     "execution_count": 13,
     "metadata": {},
     "output_type": "execute_result"
    }
   ],
   "source": [
    "# A típus különböző kategóriákat jelöl. Hogyan lehetne ezt numerikus típusú oszloppá alakítani?\n",
    "\n",
    "df['Type 1']"
   ]
  },
  {
   "cell_type": "code",
   "execution_count": 14,
   "id": "1cd60ba3",
   "metadata": {},
   "outputs": [
    {
     "data": {
      "text/plain": [
       "array([[ 9.],\n",
       "       [ 9.],\n",
       "       [ 9.],\n",
       "       [ 9.],\n",
       "       [ 6.],\n",
       "       [ 6.],\n",
       "       [ 6.],\n",
       "       [ 6.],\n",
       "       [ 6.],\n",
       "       [17.],\n",
       "       [17.],\n",
       "       [17.],\n",
       "       [17.],\n",
       "       [ 0.],\n",
       "       [ 0.]])"
      ]
     },
     "execution_count": 14,
     "metadata": {},
     "output_type": "execute_result"
    }
   ],
   "source": [
    "# OrdinalEncoder\n",
    "# A különböző típusokat számokkal helyettesíti\n",
    "\n",
    "enc = preprocessing.OrdinalEncoder()\n",
    "encoded = enc.fit_transform(df[['Type 1']])\n",
    "encoded[:15]"
   ]
  },
  {
   "cell_type": "code",
   "execution_count": 15,
   "id": "540858bb",
   "metadata": {},
   "outputs": [
    {
     "data": {
      "text/html": [
       "<div>\n",
       "<style scoped>\n",
       "    .dataframe tbody tr th:only-of-type {\n",
       "        vertical-align: middle;\n",
       "    }\n",
       "\n",
       "    .dataframe tbody tr th {\n",
       "        vertical-align: top;\n",
       "    }\n",
       "\n",
       "    .dataframe thead th {\n",
       "        text-align: right;\n",
       "    }\n",
       "</style>\n",
       "<table border=\"1\" class=\"dataframe\">\n",
       "  <thead>\n",
       "    <tr style=\"text-align: right;\">\n",
       "      <th></th>\n",
       "      <th>Type1_Bug</th>\n",
       "      <th>Type1_Dark</th>\n",
       "      <th>Type1_Dragon</th>\n",
       "      <th>Type1_Electric</th>\n",
       "      <th>Type1_Fairy</th>\n",
       "      <th>Type1_Fighting</th>\n",
       "      <th>Type1_Fire</th>\n",
       "      <th>Type1_Flying</th>\n",
       "      <th>Type1_Ghost</th>\n",
       "      <th>Type1_Grass</th>\n",
       "      <th>Type1_Ground</th>\n",
       "      <th>Type1_Ice</th>\n",
       "      <th>Type1_Normal</th>\n",
       "      <th>Type1_Poison</th>\n",
       "      <th>Type1_Psychic</th>\n",
       "      <th>Type1_Rock</th>\n",
       "      <th>Type1_Steel</th>\n",
       "      <th>Type1_Water</th>\n",
       "    </tr>\n",
       "  </thead>\n",
       "  <tbody>\n",
       "    <tr>\n",
       "      <th>0</th>\n",
       "      <td>0</td>\n",
       "      <td>0</td>\n",
       "      <td>0</td>\n",
       "      <td>0</td>\n",
       "      <td>0</td>\n",
       "      <td>0</td>\n",
       "      <td>0</td>\n",
       "      <td>0</td>\n",
       "      <td>0</td>\n",
       "      <td>1</td>\n",
       "      <td>0</td>\n",
       "      <td>0</td>\n",
       "      <td>0</td>\n",
       "      <td>0</td>\n",
       "      <td>0</td>\n",
       "      <td>0</td>\n",
       "      <td>0</td>\n",
       "      <td>0</td>\n",
       "    </tr>\n",
       "    <tr>\n",
       "      <th>1</th>\n",
       "      <td>0</td>\n",
       "      <td>0</td>\n",
       "      <td>0</td>\n",
       "      <td>0</td>\n",
       "      <td>0</td>\n",
       "      <td>0</td>\n",
       "      <td>0</td>\n",
       "      <td>0</td>\n",
       "      <td>0</td>\n",
       "      <td>1</td>\n",
       "      <td>0</td>\n",
       "      <td>0</td>\n",
       "      <td>0</td>\n",
       "      <td>0</td>\n",
       "      <td>0</td>\n",
       "      <td>0</td>\n",
       "      <td>0</td>\n",
       "      <td>0</td>\n",
       "    </tr>\n",
       "    <tr>\n",
       "      <th>2</th>\n",
       "      <td>0</td>\n",
       "      <td>0</td>\n",
       "      <td>0</td>\n",
       "      <td>0</td>\n",
       "      <td>0</td>\n",
       "      <td>0</td>\n",
       "      <td>0</td>\n",
       "      <td>0</td>\n",
       "      <td>0</td>\n",
       "      <td>1</td>\n",
       "      <td>0</td>\n",
       "      <td>0</td>\n",
       "      <td>0</td>\n",
       "      <td>0</td>\n",
       "      <td>0</td>\n",
       "      <td>0</td>\n",
       "      <td>0</td>\n",
       "      <td>0</td>\n",
       "    </tr>\n",
       "    <tr>\n",
       "      <th>3</th>\n",
       "      <td>0</td>\n",
       "      <td>0</td>\n",
       "      <td>0</td>\n",
       "      <td>0</td>\n",
       "      <td>0</td>\n",
       "      <td>0</td>\n",
       "      <td>0</td>\n",
       "      <td>0</td>\n",
       "      <td>0</td>\n",
       "      <td>1</td>\n",
       "      <td>0</td>\n",
       "      <td>0</td>\n",
       "      <td>0</td>\n",
       "      <td>0</td>\n",
       "      <td>0</td>\n",
       "      <td>0</td>\n",
       "      <td>0</td>\n",
       "      <td>0</td>\n",
       "    </tr>\n",
       "    <tr>\n",
       "      <th>4</th>\n",
       "      <td>0</td>\n",
       "      <td>0</td>\n",
       "      <td>0</td>\n",
       "      <td>0</td>\n",
       "      <td>0</td>\n",
       "      <td>0</td>\n",
       "      <td>1</td>\n",
       "      <td>0</td>\n",
       "      <td>0</td>\n",
       "      <td>0</td>\n",
       "      <td>0</td>\n",
       "      <td>0</td>\n",
       "      <td>0</td>\n",
       "      <td>0</td>\n",
       "      <td>0</td>\n",
       "      <td>0</td>\n",
       "      <td>0</td>\n",
       "      <td>0</td>\n",
       "    </tr>\n",
       "    <tr>\n",
       "      <th>...</th>\n",
       "      <td>...</td>\n",
       "      <td>...</td>\n",
       "      <td>...</td>\n",
       "      <td>...</td>\n",
       "      <td>...</td>\n",
       "      <td>...</td>\n",
       "      <td>...</td>\n",
       "      <td>...</td>\n",
       "      <td>...</td>\n",
       "      <td>...</td>\n",
       "      <td>...</td>\n",
       "      <td>...</td>\n",
       "      <td>...</td>\n",
       "      <td>...</td>\n",
       "      <td>...</td>\n",
       "      <td>...</td>\n",
       "      <td>...</td>\n",
       "      <td>...</td>\n",
       "    </tr>\n",
       "    <tr>\n",
       "      <th>795</th>\n",
       "      <td>0</td>\n",
       "      <td>0</td>\n",
       "      <td>0</td>\n",
       "      <td>0</td>\n",
       "      <td>0</td>\n",
       "      <td>0</td>\n",
       "      <td>0</td>\n",
       "      <td>0</td>\n",
       "      <td>0</td>\n",
       "      <td>0</td>\n",
       "      <td>0</td>\n",
       "      <td>0</td>\n",
       "      <td>0</td>\n",
       "      <td>0</td>\n",
       "      <td>0</td>\n",
       "      <td>1</td>\n",
       "      <td>0</td>\n",
       "      <td>0</td>\n",
       "    </tr>\n",
       "    <tr>\n",
       "      <th>796</th>\n",
       "      <td>0</td>\n",
       "      <td>0</td>\n",
       "      <td>0</td>\n",
       "      <td>0</td>\n",
       "      <td>0</td>\n",
       "      <td>0</td>\n",
       "      <td>0</td>\n",
       "      <td>0</td>\n",
       "      <td>0</td>\n",
       "      <td>0</td>\n",
       "      <td>0</td>\n",
       "      <td>0</td>\n",
       "      <td>0</td>\n",
       "      <td>0</td>\n",
       "      <td>0</td>\n",
       "      <td>1</td>\n",
       "      <td>0</td>\n",
       "      <td>0</td>\n",
       "    </tr>\n",
       "    <tr>\n",
       "      <th>797</th>\n",
       "      <td>0</td>\n",
       "      <td>0</td>\n",
       "      <td>0</td>\n",
       "      <td>0</td>\n",
       "      <td>0</td>\n",
       "      <td>0</td>\n",
       "      <td>0</td>\n",
       "      <td>0</td>\n",
       "      <td>0</td>\n",
       "      <td>0</td>\n",
       "      <td>0</td>\n",
       "      <td>0</td>\n",
       "      <td>0</td>\n",
       "      <td>0</td>\n",
       "      <td>1</td>\n",
       "      <td>0</td>\n",
       "      <td>0</td>\n",
       "      <td>0</td>\n",
       "    </tr>\n",
       "    <tr>\n",
       "      <th>798</th>\n",
       "      <td>0</td>\n",
       "      <td>0</td>\n",
       "      <td>0</td>\n",
       "      <td>0</td>\n",
       "      <td>0</td>\n",
       "      <td>0</td>\n",
       "      <td>0</td>\n",
       "      <td>0</td>\n",
       "      <td>0</td>\n",
       "      <td>0</td>\n",
       "      <td>0</td>\n",
       "      <td>0</td>\n",
       "      <td>0</td>\n",
       "      <td>0</td>\n",
       "      <td>1</td>\n",
       "      <td>0</td>\n",
       "      <td>0</td>\n",
       "      <td>0</td>\n",
       "    </tr>\n",
       "    <tr>\n",
       "      <th>799</th>\n",
       "      <td>0</td>\n",
       "      <td>0</td>\n",
       "      <td>0</td>\n",
       "      <td>0</td>\n",
       "      <td>0</td>\n",
       "      <td>0</td>\n",
       "      <td>1</td>\n",
       "      <td>0</td>\n",
       "      <td>0</td>\n",
       "      <td>0</td>\n",
       "      <td>0</td>\n",
       "      <td>0</td>\n",
       "      <td>0</td>\n",
       "      <td>0</td>\n",
       "      <td>0</td>\n",
       "      <td>0</td>\n",
       "      <td>0</td>\n",
       "      <td>0</td>\n",
       "    </tr>\n",
       "  </tbody>\n",
       "</table>\n",
       "<p>800 rows × 18 columns</p>\n",
       "</div>"
      ],
      "text/plain": [
       "     Type1_Bug  Type1_Dark  Type1_Dragon  Type1_Electric  Type1_Fairy  \\\n",
       "0            0           0             0               0            0   \n",
       "1            0           0             0               0            0   \n",
       "2            0           0             0               0            0   \n",
       "3            0           0             0               0            0   \n",
       "4            0           0             0               0            0   \n",
       "..         ...         ...           ...             ...          ...   \n",
       "795          0           0             0               0            0   \n",
       "796          0           0             0               0            0   \n",
       "797          0           0             0               0            0   \n",
       "798          0           0             0               0            0   \n",
       "799          0           0             0               0            0   \n",
       "\n",
       "     Type1_Fighting  Type1_Fire  Type1_Flying  Type1_Ghost  Type1_Grass  \\\n",
       "0                 0           0             0            0            1   \n",
       "1                 0           0             0            0            1   \n",
       "2                 0           0             0            0            1   \n",
       "3                 0           0             0            0            1   \n",
       "4                 0           1             0            0            0   \n",
       "..              ...         ...           ...          ...          ...   \n",
       "795               0           0             0            0            0   \n",
       "796               0           0             0            0            0   \n",
       "797               0           0             0            0            0   \n",
       "798               0           0             0            0            0   \n",
       "799               0           1             0            0            0   \n",
       "\n",
       "     Type1_Ground  Type1_Ice  Type1_Normal  Type1_Poison  Type1_Psychic  \\\n",
       "0               0          0             0             0              0   \n",
       "1               0          0             0             0              0   \n",
       "2               0          0             0             0              0   \n",
       "3               0          0             0             0              0   \n",
       "4               0          0             0             0              0   \n",
       "..            ...        ...           ...           ...            ...   \n",
       "795             0          0             0             0              0   \n",
       "796             0          0             0             0              0   \n",
       "797             0          0             0             0              1   \n",
       "798             0          0             0             0              1   \n",
       "799             0          0             0             0              0   \n",
       "\n",
       "     Type1_Rock  Type1_Steel  Type1_Water  \n",
       "0             0            0            0  \n",
       "1             0            0            0  \n",
       "2             0            0            0  \n",
       "3             0            0            0  \n",
       "4             0            0            0  \n",
       "..          ...          ...          ...  \n",
       "795           1            0            0  \n",
       "796           1            0            0  \n",
       "797           0            0            0  \n",
       "798           0            0            0  \n",
       "799           0            0            0  \n",
       "\n",
       "[800 rows x 18 columns]"
      ]
     },
     "execution_count": 15,
     "metadata": {},
     "output_type": "execute_result"
    }
   ],
   "source": [
    "# One Hot Encoding pandassal\n",
    "# Egy oszlopból annyi oszlopot készít, ahány különböző érték előfordul benne\n",
    "# get_dummies()\n",
    "\n",
    "cols = pd.get_dummies(df['Type 1'], prefix='Type1')\n",
    "cols"
   ]
  },
  {
   "cell_type": "code",
   "execution_count": 16,
   "id": "9e3165d8",
   "metadata": {},
   "outputs": [
    {
     "data": {
      "text/plain": [
       "array([[0., 0., 0., 0., 0., 0., 0., 0., 0., 1., 0., 0., 0., 0., 0., 0.,\n",
       "        0., 0.],\n",
       "       [0., 0., 0., 0., 0., 0., 0., 0., 0., 1., 0., 0., 0., 0., 0., 0.,\n",
       "        0., 0.],\n",
       "       [0., 0., 0., 0., 0., 0., 0., 0., 0., 1., 0., 0., 0., 0., 0., 0.,\n",
       "        0., 0.],\n",
       "       [0., 0., 0., 0., 0., 0., 0., 0., 0., 1., 0., 0., 0., 0., 0., 0.,\n",
       "        0., 0.],\n",
       "       [0., 0., 0., 0., 0., 0., 1., 0., 0., 0., 0., 0., 0., 0., 0., 0.,\n",
       "        0., 0.],\n",
       "       [0., 0., 0., 0., 0., 0., 1., 0., 0., 0., 0., 0., 0., 0., 0., 0.,\n",
       "        0., 0.],\n",
       "       [0., 0., 0., 0., 0., 0., 1., 0., 0., 0., 0., 0., 0., 0., 0., 0.,\n",
       "        0., 0.],\n",
       "       [0., 0., 0., 0., 0., 0., 1., 0., 0., 0., 0., 0., 0., 0., 0., 0.,\n",
       "        0., 0.],\n",
       "       [0., 0., 0., 0., 0., 0., 1., 0., 0., 0., 0., 0., 0., 0., 0., 0.,\n",
       "        0., 0.],\n",
       "       [0., 0., 0., 0., 0., 0., 0., 0., 0., 0., 0., 0., 0., 0., 0., 0.,\n",
       "        0., 1.]])"
      ]
     },
     "execution_count": 16,
     "metadata": {},
     "output_type": "execute_result"
    }
   ],
   "source": [
    "# One Hot Encoding sklearnnel\n",
    "\n",
    "enc = preprocessing.OneHotEncoder()\n",
    "encoded = enc.fit_transform(df[['Type 1']])\n",
    "encoded.toarray()[:10]"
   ]
  },
  {
   "cell_type": "code",
   "execution_count": 17,
   "id": "8070a428",
   "metadata": {},
   "outputs": [
    {
     "data": {
      "text/plain": [
       "0          Elso\n",
       "1       Masodik\n",
       "2      Harmadik\n",
       "3      Harmadik\n",
       "4          Elso\n",
       "         ...   \n",
       "795    Harmadik\n",
       "796    Negyedik\n",
       "797    Negyedik\n",
       "798    Negyedik\n",
       "799    Negyedik\n",
       "Name: Attack, Length: 800, dtype: category\n",
       "Categories (4, object): ['Elso' < 'Masodik' < 'Harmadik' < 'Negyedik']"
      ]
     },
     "execution_count": 17,
     "metadata": {},
     "output_type": "execute_result"
    }
   ],
   "source": [
    "# Adatok binelése (diszkretizálás) kvantilisek alapján\n",
    "\n",
    "my_labels = ['Elso', 'Masodik', 'Harmadik', 'Negyedik']\n",
    "pd.qcut(df['Attack'], q=4, labels=my_labels)"
   ]
  },
  {
   "cell_type": "code",
   "execution_count": 18,
   "id": "efe5e04c",
   "metadata": {},
   "outputs": [
    {
     "data": {
      "text/plain": [
       "0          Elso\n",
       "1       Masodik\n",
       "2       Masodik\n",
       "3       Masodik\n",
       "4       Masodik\n",
       "         ...   \n",
       "795     Masodik\n",
       "796    Negyedik\n",
       "797    Harmadik\n",
       "798    Negyedik\n",
       "799    Harmadik\n",
       "Name: Attack, Length: 800, dtype: category\n",
       "Categories (4, object): ['Elso' < 'Masodik' < 'Harmadik' < 'Negyedik']"
      ]
     },
     "execution_count": 18,
     "metadata": {},
     "output_type": "execute_result"
    }
   ],
   "source": [
    "# Binelés a határok megadásával\n",
    "\n",
    "my_bins = [0, 50, 100, 150, 200]\n",
    "pd.cut(df['Attack'], bins=my_bins, labels=my_labels)"
   ]
  },
  {
   "cell_type": "markdown",
   "id": "f6a77dbc",
   "metadata": {},
   "source": [
    "## Modell készítése"
   ]
  },
  {
   "cell_type": "code",
   "execution_count": 19,
   "id": "82508787",
   "metadata": {},
   "outputs": [
    {
     "data": {
      "text/html": [
       "<div>\n",
       "<style scoped>\n",
       "    .dataframe tbody tr th:only-of-type {\n",
       "        vertical-align: middle;\n",
       "    }\n",
       "\n",
       "    .dataframe tbody tr th {\n",
       "        vertical-align: top;\n",
       "    }\n",
       "\n",
       "    .dataframe thead th {\n",
       "        text-align: right;\n",
       "    }\n",
       "</style>\n",
       "<table border=\"1\" class=\"dataframe\">\n",
       "  <thead>\n",
       "    <tr style=\"text-align: right;\">\n",
       "      <th></th>\n",
       "      <th>HP</th>\n",
       "      <th>Attack</th>\n",
       "      <th>Defense</th>\n",
       "      <th>Speed</th>\n",
       "      <th>Generation</th>\n",
       "    </tr>\n",
       "  </thead>\n",
       "  <tbody>\n",
       "    <tr>\n",
       "      <th>0</th>\n",
       "      <td>45.0</td>\n",
       "      <td>49</td>\n",
       "      <td>49.0</td>\n",
       "      <td>45.0</td>\n",
       "      <td>1</td>\n",
       "    </tr>\n",
       "    <tr>\n",
       "      <th>1</th>\n",
       "      <td>60.0</td>\n",
       "      <td>62</td>\n",
       "      <td>63.0</td>\n",
       "      <td>60.0</td>\n",
       "      <td>1</td>\n",
       "    </tr>\n",
       "    <tr>\n",
       "      <th>2</th>\n",
       "      <td>80.0</td>\n",
       "      <td>82</td>\n",
       "      <td>83.0</td>\n",
       "      <td>80.0</td>\n",
       "      <td>1</td>\n",
       "    </tr>\n",
       "    <tr>\n",
       "      <th>3</th>\n",
       "      <td>80.0</td>\n",
       "      <td>100</td>\n",
       "      <td>123.0</td>\n",
       "      <td>80.0</td>\n",
       "      <td>1</td>\n",
       "    </tr>\n",
       "    <tr>\n",
       "      <th>4</th>\n",
       "      <td>39.0</td>\n",
       "      <td>52</td>\n",
       "      <td>43.0</td>\n",
       "      <td>65.0</td>\n",
       "      <td>1</td>\n",
       "    </tr>\n",
       "    <tr>\n",
       "      <th>...</th>\n",
       "      <td>...</td>\n",
       "      <td>...</td>\n",
       "      <td>...</td>\n",
       "      <td>...</td>\n",
       "      <td>...</td>\n",
       "    </tr>\n",
       "    <tr>\n",
       "      <th>795</th>\n",
       "      <td>50.0</td>\n",
       "      <td>100</td>\n",
       "      <td>150.0</td>\n",
       "      <td>50.0</td>\n",
       "      <td>6</td>\n",
       "    </tr>\n",
       "    <tr>\n",
       "      <th>796</th>\n",
       "      <td>50.0</td>\n",
       "      <td>160</td>\n",
       "      <td>110.0</td>\n",
       "      <td>110.0</td>\n",
       "      <td>6</td>\n",
       "    </tr>\n",
       "    <tr>\n",
       "      <th>797</th>\n",
       "      <td>80.0</td>\n",
       "      <td>110</td>\n",
       "      <td>60.0</td>\n",
       "      <td>70.0</td>\n",
       "      <td>6</td>\n",
       "    </tr>\n",
       "    <tr>\n",
       "      <th>798</th>\n",
       "      <td>80.0</td>\n",
       "      <td>160</td>\n",
       "      <td>60.0</td>\n",
       "      <td>80.0</td>\n",
       "      <td>6</td>\n",
       "    </tr>\n",
       "    <tr>\n",
       "      <th>799</th>\n",
       "      <td>80.0</td>\n",
       "      <td>110</td>\n",
       "      <td>120.0</td>\n",
       "      <td>70.0</td>\n",
       "      <td>6</td>\n",
       "    </tr>\n",
       "  </tbody>\n",
       "</table>\n",
       "<p>800 rows × 5 columns</p>\n",
       "</div>"
      ],
      "text/plain": [
       "       HP  Attack  Defense  Speed  Generation\n",
       "0    45.0      49     49.0   45.0           1\n",
       "1    60.0      62     63.0   60.0           1\n",
       "2    80.0      82     83.0   80.0           1\n",
       "3    80.0     100    123.0   80.0           1\n",
       "4    39.0      52     43.0   65.0           1\n",
       "..    ...     ...      ...    ...         ...\n",
       "795  50.0     100    150.0   50.0           6\n",
       "796  50.0     160    110.0  110.0           6\n",
       "797  80.0     110     60.0   70.0           6\n",
       "798  80.0     160     60.0   80.0           6\n",
       "799  80.0     110    120.0   70.0           6\n",
       "\n",
       "[800 rows x 5 columns]"
      ]
     },
     "execution_count": 19,
     "metadata": {},
     "output_type": "execute_result"
    }
   ],
   "source": [
    "# Vállasszuk ki azokat az attribútumokat, amelyekre valóban szükségünk van\n",
    "# Határozzuk meg melyik attribútum lesz az osztálycímke\n",
    "\n",
    "features = ['HP', 'Attack', 'Defense', 'Speed', 'Generation']\n",
    "label = 'Legendary'\n",
    "feat_data = df[features].copy()\n",
    "label_data = df[label].copy()\n",
    "feat_data"
   ]
  },
  {
   "cell_type": "code",
   "execution_count": 20,
   "id": "8e284b1f",
   "metadata": {},
   "outputs": [
    {
     "data": {
      "text/plain": [
       "HP            3\n",
       "Attack        0\n",
       "Defense       1\n",
       "Speed         1\n",
       "Generation    0\n",
       "dtype: int64"
      ]
     },
     "execution_count": 20,
     "metadata": {},
     "output_type": "execute_result"
    }
   ],
   "source": [
    "# Kezeljük a hiányzó értékeket\n",
    "\n",
    "feat_data[features].isnull().sum()"
   ]
  },
  {
   "cell_type": "code",
   "execution_count": 21,
   "id": "f50b9d58",
   "metadata": {},
   "outputs": [],
   "source": [
    "# Hiányzó érték helyettesítése az oszlop átlagával\n",
    "\n",
    "feat_data['Defense'].fillna(feat_data['Defense'].mean(), inplace=True)\n",
    "feat_data['Speed'].fillna(feat_data['Speed'].mean(), inplace=True)\n",
    "feat_data['HP'].fillna(feat_data['Speed'].mean(), inplace=True)"
   ]
  },
  {
   "cell_type": "code",
   "execution_count": 22,
   "id": "4c6f79aa",
   "metadata": {},
   "outputs": [
    {
     "data": {
      "text/plain": [
       "HP            0\n",
       "Attack        0\n",
       "Defense       0\n",
       "Speed         0\n",
       "Generation    0\n",
       "dtype: int64"
      ]
     },
     "execution_count": 22,
     "metadata": {},
     "output_type": "execute_result"
    }
   ],
   "source": [
    "# Eltűntek a hiányzó értékek\n",
    "\n",
    "feat_data.isnull().sum()"
   ]
  },
  {
   "cell_type": "code",
   "execution_count": 23,
   "id": "abd27771",
   "metadata": {},
   "outputs": [],
   "source": [
    "# Az adatunkat felbontjuk tanító és tesztelő halmazra\n",
    "\n",
    "from sklearn.model_selection import train_test_split\n",
    "\n",
    "X_train, X_test, y_train, y_test = train_test_split(feat_data, label_data, test_size=0.2, random_state=42)"
   ]
  },
  {
   "cell_type": "code",
   "execution_count": 24,
   "id": "0eea245e",
   "metadata": {},
   "outputs": [
    {
     "name": "stdout",
     "output_type": "stream",
     "text": [
      "(640, 5)\n",
      "(160, 5)\n"
     ]
    }
   ],
   "source": [
    "print(X_train.shape) # 640 tanító rekord\n",
    "print(X_test.shape) # 160 tesztelő rekord"
   ]
  },
  {
   "cell_type": "code",
   "execution_count": 25,
   "id": "a4d9921c",
   "metadata": {},
   "outputs": [
    {
     "data": {
      "text/html": [
       "<style>#sk-container-id-1 {color: black;}#sk-container-id-1 pre{padding: 0;}#sk-container-id-1 div.sk-toggleable {background-color: white;}#sk-container-id-1 label.sk-toggleable__label {cursor: pointer;display: block;width: 100%;margin-bottom: 0;padding: 0.3em;box-sizing: border-box;text-align: center;}#sk-container-id-1 label.sk-toggleable__label-arrow:before {content: \"▸\";float: left;margin-right: 0.25em;color: #696969;}#sk-container-id-1 label.sk-toggleable__label-arrow:hover:before {color: black;}#sk-container-id-1 div.sk-estimator:hover label.sk-toggleable__label-arrow:before {color: black;}#sk-container-id-1 div.sk-toggleable__content {max-height: 0;max-width: 0;overflow: hidden;text-align: left;background-color: #f0f8ff;}#sk-container-id-1 div.sk-toggleable__content pre {margin: 0.2em;color: black;border-radius: 0.25em;background-color: #f0f8ff;}#sk-container-id-1 input.sk-toggleable__control:checked~div.sk-toggleable__content {max-height: 200px;max-width: 100%;overflow: auto;}#sk-container-id-1 input.sk-toggleable__control:checked~label.sk-toggleable__label-arrow:before {content: \"▾\";}#sk-container-id-1 div.sk-estimator input.sk-toggleable__control:checked~label.sk-toggleable__label {background-color: #d4ebff;}#sk-container-id-1 div.sk-label input.sk-toggleable__control:checked~label.sk-toggleable__label {background-color: #d4ebff;}#sk-container-id-1 input.sk-hidden--visually {border: 0;clip: rect(1px 1px 1px 1px);clip: rect(1px, 1px, 1px, 1px);height: 1px;margin: -1px;overflow: hidden;padding: 0;position: absolute;width: 1px;}#sk-container-id-1 div.sk-estimator {font-family: monospace;background-color: #f0f8ff;border: 1px dotted black;border-radius: 0.25em;box-sizing: border-box;margin-bottom: 0.5em;}#sk-container-id-1 div.sk-estimator:hover {background-color: #d4ebff;}#sk-container-id-1 div.sk-parallel-item::after {content: \"\";width: 100%;border-bottom: 1px solid gray;flex-grow: 1;}#sk-container-id-1 div.sk-label:hover label.sk-toggleable__label {background-color: #d4ebff;}#sk-container-id-1 div.sk-serial::before {content: \"\";position: absolute;border-left: 1px solid gray;box-sizing: border-box;top: 0;bottom: 0;left: 50%;z-index: 0;}#sk-container-id-1 div.sk-serial {display: flex;flex-direction: column;align-items: center;background-color: white;padding-right: 0.2em;padding-left: 0.2em;position: relative;}#sk-container-id-1 div.sk-item {position: relative;z-index: 1;}#sk-container-id-1 div.sk-parallel {display: flex;align-items: stretch;justify-content: center;background-color: white;position: relative;}#sk-container-id-1 div.sk-item::before, #sk-container-id-1 div.sk-parallel-item::before {content: \"\";position: absolute;border-left: 1px solid gray;box-sizing: border-box;top: 0;bottom: 0;left: 50%;z-index: -1;}#sk-container-id-1 div.sk-parallel-item {display: flex;flex-direction: column;z-index: 1;position: relative;background-color: white;}#sk-container-id-1 div.sk-parallel-item:first-child::after {align-self: flex-end;width: 50%;}#sk-container-id-1 div.sk-parallel-item:last-child::after {align-self: flex-start;width: 50%;}#sk-container-id-1 div.sk-parallel-item:only-child::after {width: 0;}#sk-container-id-1 div.sk-dashed-wrapped {border: 1px dashed gray;margin: 0 0.4em 0.5em 0.4em;box-sizing: border-box;padding-bottom: 0.4em;background-color: white;}#sk-container-id-1 div.sk-label label {font-family: monospace;font-weight: bold;display: inline-block;line-height: 1.2em;}#sk-container-id-1 div.sk-label-container {text-align: center;}#sk-container-id-1 div.sk-container {/* jupyter's `normalize.less` sets `[hidden] { display: none; }` but bootstrap.min.css set `[hidden] { display: none !important; }` so we also need the `!important` here to be able to override the default hidden behavior on the sphinx rendered scikit-learn.org. See: https://github.com/scikit-learn/scikit-learn/issues/21755 */display: inline-block !important;position: relative;}#sk-container-id-1 div.sk-text-repr-fallback {display: none;}</style><div id=\"sk-container-id-1\" class=\"sk-top-container\"><div class=\"sk-text-repr-fallback\"><pre>KNeighborsClassifier(n_neighbors=10)</pre><b>In a Jupyter environment, please rerun this cell to show the HTML representation or trust the notebook. <br />On GitHub, the HTML representation is unable to render, please try loading this page with nbviewer.org.</b></div><div class=\"sk-container\" hidden><div class=\"sk-item\"><div class=\"sk-estimator sk-toggleable\"><input class=\"sk-toggleable__control sk-hidden--visually\" id=\"sk-estimator-id-1\" type=\"checkbox\" checked><label for=\"sk-estimator-id-1\" class=\"sk-toggleable__label sk-toggleable__label-arrow\">KNeighborsClassifier</label><div class=\"sk-toggleable__content\"><pre>KNeighborsClassifier(n_neighbors=10)</pre></div></div></div></div></div>"
      ],
      "text/plain": [
       "KNeighborsClassifier(n_neighbors=10)"
      ]
     },
     "execution_count": 25,
     "metadata": {},
     "output_type": "execute_result"
    }
   ],
   "source": [
    "# K-legközelebbi szomszéd osztályozó létrehozása\n",
    "\n",
    "from sklearn import neighbors\n",
    "\n",
    "n_neighbors = 10\n",
    "\n",
    "clf = neighbors.KNeighborsClassifier(n_neighbors)\n",
    "clf.fit(X_train, y_train)\n",
    "clf"
   ]
  },
  {
   "cell_type": "code",
   "execution_count": 26,
   "id": "d895f6a5",
   "metadata": {},
   "outputs": [
    {
     "data": {
      "text/plain": [
       "array([ True])"
      ]
     },
     "execution_count": 26,
     "metadata": {},
     "output_type": "execute_result"
    }
   ],
   "source": [
    "# Egy sor osztályozása\n",
    "# clf.predict([[106,110,90,130,1]])\n",
    "\n",
    "data = pd.DataFrame({'HP': [106], 'Attack': [110], 'Defense': [90], 'Speed': [130], 'Generation': [1]})\n",
    "clf.predict(data)"
   ]
  },
  {
   "cell_type": "code",
   "execution_count": 27,
   "id": "6e70a806",
   "metadata": {},
   "outputs": [
    {
     "data": {
      "text/plain": [
       "array([ True, False, False, False, False, False, False, False, False,\n",
       "       False, False, False, False, False, False, False, False, False,\n",
       "       False, False, False, False, False, False, False, False, False,\n",
       "       False, False, False, False, False, False, False, False, False,\n",
       "       False, False, False, False, False, False, False, False, False,\n",
       "       False, False, False, False, False, False, False, False, False,\n",
       "       False, False, False, False, False, False, False, False, False,\n",
       "       False, False, False, False, False, False, False,  True, False,\n",
       "       False, False, False, False, False, False, False, False, False,\n",
       "       False, False, False, False, False, False, False, False, False,\n",
       "       False, False, False, False, False, False, False, False, False,\n",
       "       False, False, False, False, False, False, False, False, False,\n",
       "       False, False, False, False, False, False, False, False, False,\n",
       "       False, False, False, False, False, False, False, False, False,\n",
       "       False, False, False, False, False, False, False, False, False,\n",
       "       False, False, False, False,  True, False, False, False, False,\n",
       "        True, False, False, False, False, False, False, False, False,\n",
       "       False, False, False, False, False, False, False])"
      ]
     },
     "execution_count": 27,
     "metadata": {},
     "output_type": "execute_result"
    }
   ],
   "source": [
    "# Osztályozzuk a tesztelésre elkülönített adatunkat\n",
    "\n",
    "prediction = clf.predict(X_test)\n",
    "prediction"
   ]
  },
  {
   "cell_type": "code",
   "execution_count": 28,
   "id": "887eef8a",
   "metadata": {},
   "outputs": [],
   "source": [
    "## Feladat (accuracyt implementálni)\n",
    "\n",
    "# Írjunk egy programot, ami megadja, hogy az esetek hány százalékában sikerült helyesen osztályozni!\n",
    "# Ehhez hasonlítsuk össze a predikciókat a biztosan helyen értékekkel."
   ]
  },
  {
   "cell_type": "code",
   "execution_count": 29,
   "id": "49b62c8c-5f5d-400d-af9c-70babf6b73f8",
   "metadata": {},
   "outputs": [
    {
     "name": "stdout",
     "output_type": "stream",
     "text": [
      "Accuracy: 0.925\n"
     ]
    }
   ],
   "source": [
    "helyes = 0\n",
    "hamis = 0\n",
    "for i in range(len(prediction)):\n",
    "    if prediction[i] == y_test.iloc[i]:\n",
    "        helyes += 1\n",
    "    else:\n",
    "        hamis += 1\n",
    "acc = helyes/(hamis+helyes)\n",
    "print('Accuracy: ' + str(acc))"
   ]
  },
  {
   "cell_type": "code",
   "execution_count": 30,
   "id": "49c0e9c9",
   "metadata": {},
   "outputs": [
    {
     "name": "stdout",
     "output_type": "stream",
     "text": [
      "Accuracy: 0.925\n"
     ]
    }
   ],
   "source": [
    "# Sklearn implementáció accuracy-ra\n",
    "\n",
    "from sklearn import metrics as ms\n",
    "\n",
    "print (\"Accuracy:\", ms.accuracy_score(y_test.values, prediction))\n",
    "\n",
    "# Vagy használhatjuk a KNN beépített függvényét\n",
    "# clf.score(X_test, y_test)"
   ]
  },
  {
   "cell_type": "code",
   "execution_count": 31,
   "id": "bf1ffe2e",
   "metadata": {},
   "outputs": [
    {
     "data": {
      "text/plain": [
       "0.925"
      ]
     },
     "execution_count": 31,
     "metadata": {},
     "output_type": "execute_result"
    }
   ],
   "source": [
    "# KNN osztályozónk paraméterezése\n",
    "# A weights paraméternek megadhatjuk, hogy súlyozza-e a szomszédokat és ha igen, akkor hogyan\n",
    "# A metric paraméterbenm egadhatjuk a távolságfüggvényt\n",
    "# A p paraméter a távolságfüggvényt paraméterezi\n",
    "\n",
    "n_neighbors = 5\n",
    "clf = neighbors.KNeighborsClassifier(n_neighbors, weights='distance', metric='minkowski', p=1)\n",
    "clf.fit(X_train, y_train)\n",
    "clf.score(X_test, y_test)"
   ]
  },
  {
   "cell_type": "code",
   "execution_count": 32,
   "id": "e6deb510",
   "metadata": {},
   "outputs": [],
   "source": [
    "## Feladat 1.\n",
    "\n",
    "# Írjunk egy programot, amelyek elkészít egy KNN osztályozót különböző szomszédság számossággal (pl. 1-15).\n",
    "# Nézzük meg, hogy milyen pontos az osztályozó az egyes esetekben.\n",
    "# Mutassuk meg az eredményt ábra segítségével.\n",
    "\n",
    "## Feladat 2.\n",
    "\n",
    "# Az előző feladatban ne csak a szomszédság méretét változtassuk, hanem a súlyozást és a távolságmetrikát is.\n",
    "# Hogyan tudjuk elérni a legnagyobb pontosságot?\n",
    "\n",
    "## Feladat 3.\n",
    "\n",
    "# Vizsgáljuk meg, hogy további attribútomok alapján tudunk-e pontosabb osztályozót készíteni."
   ]
  },
  {
   "cell_type": "code",
   "execution_count": null,
   "id": "69369dc6-d83f-41b2-b820-3d560f12ad9f",
   "metadata": {},
   "outputs": [],
   "source": []
  },
  {
   "cell_type": "code",
   "execution_count": 33,
   "id": "150b819e",
   "metadata": {},
   "outputs": [
    {
     "name": "stdout",
     "output_type": "stream",
     "text": [
      "[ True]\n"
     ]
    },
    {
     "data": {
      "image/png": "[encoded data removed]",
      "text/plain": [
       "<Figure size 1000x600 with 1 Axes>"
      ]
     },
     "metadata": {},
     "output_type": "display_data"
    }
   ],
   "source": [
    "# Pontok kirajzolása az osztálycímke alapján\n",
    "\n",
    "n_neighbors = 5\n",
    "clf = neighbors.KNeighborsClassifier(n_neighbors, weights='distance', metric='minkowski', p=2)\n",
    "clf.fit(X_train, y_train)\n",
    "\n",
    "new_pokemon = pd.DataFrame({'HP': [106], 'Attack': [110], 'Defense': [90], 'Speed': [130], 'Generation': [1]})\n",
    "pred_label = clf.predict(new_pokemon)\n",
    "\n",
    "colors = y_train.apply(lambda c: 'blue' if c is True else 'red')\n",
    "\n",
    "plt.figure(figsize=(10,6))\n",
    "plt.scatter(X_train['HP'], X_train['Attack'], c=colors, alpha=0.3, s=70)\n",
    "plt.scatter(new_pokemon.loc[0]['HP'], new_pokemon.loc[0]['Attack'], c='green', s=70)\n",
    "print(pred_label)"
   ]
  },
  {
   "cell_type": "code",
   "execution_count": 34,
   "id": "9541f082",
   "metadata": {},
   "outputs": [
    {
     "data": {
      "text/html": [
       "<style>#sk-container-id-2 {color: black;}#sk-container-id-2 pre{padding: 0;}#sk-container-id-2 div.sk-toggleable {background-color: white;}#sk-container-id-2 label.sk-toggleable__label {cursor: pointer;display: block;width: 100%;margin-bottom: 0;padding: 0.3em;box-sizing: border-box;text-align: center;}#sk-container-id-2 label.sk-toggleable__label-arrow:before {content: \"▸\";float: left;margin-right: 0.25em;color: #696969;}#sk-container-id-2 label.sk-toggleable__label-arrow:hover:before {color: black;}#sk-container-id-2 div.sk-estimator:hover label.sk-toggleable__label-arrow:before {color: black;}#sk-container-id-2 div.sk-toggleable__content {max-height: 0;max-width: 0;overflow: hidden;text-align: left;background-color: #f0f8ff;}#sk-container-id-2 div.sk-toggleable__content pre {margin: 0.2em;color: black;border-radius: 0.25em;background-color: #f0f8ff;}#sk-container-id-2 input.sk-toggleable__control:checked~div.sk-toggleable__content {max-height: 200px;max-width: 100%;overflow: auto;}#sk-container-id-2 input.sk-toggleable__control:checked~label.sk-toggleable__label-arrow:before {content: \"▾\";}#sk-container-id-2 div.sk-estimator input.sk-toggleable__control:checked~label.sk-toggleable__label {background-color: #d4ebff;}#sk-container-id-2 div.sk-label input.sk-toggleable__control:checked~label.sk-toggleable__label {background-color: #d4ebff;}#sk-container-id-2 input.sk-hidden--visually {border: 0;clip: rect(1px 1px 1px 1px);clip: rect(1px, 1px, 1px, 1px);height: 1px;margin: -1px;overflow: hidden;padding: 0;position: absolute;width: 1px;}#sk-container-id-2 div.sk-estimator {font-family: monospace;background-color: #f0f8ff;border: 1px dotted black;border-radius: 0.25em;box-sizing: border-box;margin-bottom: 0.5em;}#sk-container-id-2 div.sk-estimator:hover {background-color: #d4ebff;}#sk-container-id-2 div.sk-parallel-item::after {content: \"\";width: 100%;border-bottom: 1px solid gray;flex-grow: 1;}#sk-container-id-2 div.sk-label:hover label.sk-toggleable__label {background-color: #d4ebff;}#sk-container-id-2 div.sk-serial::before {content: \"\";position: absolute;border-left: 1px solid gray;box-sizing: border-box;top: 0;bottom: 0;left: 50%;z-index: 0;}#sk-container-id-2 div.sk-serial {display: flex;flex-direction: column;align-items: center;background-color: white;padding-right: 0.2em;padding-left: 0.2em;position: relative;}#sk-container-id-2 div.sk-item {position: relative;z-index: 1;}#sk-container-id-2 div.sk-parallel {display: flex;align-items: stretch;justify-content: center;background-color: white;position: relative;}#sk-container-id-2 div.sk-item::before, #sk-container-id-2 div.sk-parallel-item::before {content: \"\";position: absolute;border-left: 1px solid gray;box-sizing: border-box;top: 0;bottom: 0;left: 50%;z-index: -1;}#sk-container-id-2 div.sk-parallel-item {display: flex;flex-direction: column;z-index: 1;position: relative;background-color: white;}#sk-container-id-2 div.sk-parallel-item:first-child::after {align-self: flex-end;width: 50%;}#sk-container-id-2 div.sk-parallel-item:last-child::after {align-self: flex-start;width: 50%;}#sk-container-id-2 div.sk-parallel-item:only-child::after {width: 0;}#sk-container-id-2 div.sk-dashed-wrapped {border: 1px dashed gray;margin: 0 0.4em 0.5em 0.4em;box-sizing: border-box;padding-bottom: 0.4em;background-color: white;}#sk-container-id-2 div.sk-label label {font-family: monospace;font-weight: bold;display: inline-block;line-height: 1.2em;}#sk-container-id-2 div.sk-label-container {text-align: center;}#sk-container-id-2 div.sk-container {/* jupyter's `normalize.less` sets `[hidden] { display: none; }` but bootstrap.min.css set `[hidden] { display: none !important; }` so we also need the `!important` here to be able to override the default hidden behavior on the sphinx rendered scikit-learn.org. See: https://github.com/scikit-learn/scikit-learn/issues/21755 */display: inline-block !important;position: relative;}#sk-container-id-2 div.sk-text-repr-fallback {display: none;}</style><div id=\"sk-container-id-2\" class=\"sk-top-container\"><div class=\"sk-text-repr-fallback\"><pre>DecisionTreeClassifier(max_depth=3)</pre><b>In a Jupyter environment, please rerun this cell to show the HTML representation or trust the notebook. <br />On GitHub, the HTML representation is unable to render, please try loading this page with nbviewer.org.</b></div><div class=\"sk-container\" hidden><div class=\"sk-item\"><div class=\"sk-estimator sk-toggleable\"><input class=\"sk-toggleable__control sk-hidden--visually\" id=\"sk-estimator-id-2\" type=\"checkbox\" checked><label for=\"sk-estimator-id-2\" class=\"sk-toggleable__label sk-toggleable__label-arrow\">DecisionTreeClassifier</label><div class=\"sk-toggleable__content\"><pre>DecisionTreeClassifier(max_depth=3)</pre></div></div></div></div></div>"
      ],
      "text/plain": [
       "DecisionTreeClassifier(max_depth=3)"
      ]
     },
     "execution_count": 34,
     "metadata": {},
     "output_type": "execute_result"
    }
   ],
   "source": [
    "# Döntési fa létrehozása\n",
    "\n",
    "from sklearn.tree import DecisionTreeClassifier\n",
    "\n",
    "clf = DecisionTreeClassifier(max_depth=3)\n",
    "clf.fit(X_train, y_train)"
   ]
  },
  {
   "cell_type": "code",
   "execution_count": 35,
   "id": "43527da1-56ad-44ca-b69e-767e98235d0c",
   "metadata": {},
   "outputs": [
    {
     "data": {
      "text/plain": [
       "['HP', 'Attack', 'Defense', 'Speed', 'Generation']"
      ]
     },
     "execution_count": 35,
     "metadata": {},
     "output_type": "execute_result"
    }
   ],
   "source": [
    "features"
   ]
  },
  {
   "cell_type": "code",
   "execution_count": 36,
   "id": "1f0ddc3e",
   "metadata": {},
   "outputs": [
    {
     "data": {
      "image/png": "[encoded data removed]",
      "text/plain": [
       "<Figure size 1500x1000 with 1 Axes>"
      ]
     },
     "metadata": {},
     "output_type": "display_data"
    }
   ],
   "source": [
    "# Döntési fa kirajzolása\n",
    "\n",
    "from sklearn import tree\n",
    "\n",
    "fig = plt.figure(figsize=(15,10))\n",
    "_ = tree.plot_tree(clf, \n",
    "                   feature_names=features,  \n",
    "                   class_names=['Legendary', 'Not legendary'],\n",
    "                   filled=True)"
   ]
  },
  {
   "cell_type": "code",
   "execution_count": 37,
   "id": "1fa39cab",
   "metadata": {},
   "outputs": [
    {
     "name": "stdout",
     "output_type": "stream",
     "text": [
      "Accuracy: 0.94375\n"
     ]
    }
   ],
   "source": [
    "# Pontosság számolás\n",
    "\n",
    "prediction = clf.predict(X_test)\n",
    "print (\"Accuracy:\", ms.accuracy_score(y_test.values, prediction))"
   ]
  },
  {
   "cell_type": "code",
   "execution_count": 38,
   "id": "5961bbeb",
   "metadata": {},
   "outputs": [
    {
     "name": "stdout",
     "output_type": "stream",
     "text": [
      "[0.90625  0.90625  0.921875 0.921875 0.921875 0.9375   0.953125 0.953125\n",
      " 0.96875  0.96875 ]\n",
      "0.9359375\n"
     ]
    }
   ],
   "source": [
    "# Komplexebb kiértékelés - cross-validation\n",
    "\n",
    "from sklearn.model_selection import cross_val_score\n",
    "\n",
    "clf = DecisionTreeClassifier(max_depth=3)\n",
    "scores = cross_val_score(clf, X_train, y_train, cv=10)\n",
    "scores.sort()\n",
    "accuracy = scores.mean()\n",
    "\n",
    "print(scores)\n",
    "print(accuracy)"
   ]
  }
 ],
 "metadata": {
  "kernelspec": {
   "display_name": "Python 3 (ipykernel)",
   "language": "python",
   "name": "python3"
  },
  "language_info": {
   "codemirror_mode": {
    "name": "ipython",
    "version": 3
   },
   "file_extension": ".py",
   "mimetype": "text/x-python",
   "name": "python",
   "nbconvert_exporter": "python",
   "pygments_lexer": "ipython3",
   "version": "3.11.6"
  }
 },
 "nbformat": 4,
 "nbformat_minor": 5
}
