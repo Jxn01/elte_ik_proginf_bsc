{
 "cells": [
  {
   "cell_type": "code",
   "execution_count": 1,
   "id": "9a7d4a05-5e59-44dd-a6d3-0cac83b122d7",
   "metadata": {},
   "outputs": [
    {
     "name": "stderr",
     "output_type": "stream",
     "text": [
      "OpenJDK 64-Bit Server VM warning: Insufficient space for shared memory file:\n",
      "   69793\n",
      "Try using the -Djava.io.tmpdir= option to select an alternate temp location.\n",
      "\n",
      "OpenJDK 64-Bit Server VM warning: Insufficient space for shared memory file:\n",
      "   69789\n",
      "Try using the -Djava.io.tmpdir= option to select an alternate temp location.\n",
      "\n",
      "23/11/06 09:32:14 WARN Utils: Your hostname, jxn-linux resolves to a loopback address: 127.0.1.1; using 10.10.127.176 instead (on interface wlp4s0)\n",
      "23/11/06 09:32:14 WARN Utils: Set SPARK_LOCAL_IP if you need to bind to another address\n",
      "Setting default log level to \"WARN\".\n",
      "To adjust logging level use sc.setLogLevel(newLevel). For SparkR, use setLogLevel(newLevel).\n",
      "23/11/06 09:32:15 WARN NativeCodeLoader: Unable to load native-hadoop library for your platform... using builtin-java classes where applicable\n",
      "23/11/06 09:32:15 WARN SparkConf: Note that spark.local.dir will be overridden by the value set by the cluster manager (via SPARK_LOCAL_DIRS in mesos/standalone/kubernetes and LOCAL_DIRS in YARN).\n"
     ]
    }
   ],
   "source": [
    "from pyspark import SparkConf, SparkContext \n",
    "import findspark\n",
    "findspark.init()\n",
    "findspark.find()\n",
    "conf = SparkConf().set(\"spark.local.dir\", \"/home/jxn/.sparktmp\")\n",
    "sc = SparkContext(conf=conf)\n",
    "\n"
   ]
  },
  {
   "cell_type": "code",
   "execution_count": 2,
   "id": "ac782b5a-1abc-4b9c-9501-d893fd22c213",
   "metadata": {},
   "outputs": [
    {
     "name": "stderr",
     "output_type": "stream",
     "text": [
      "[Stage 0:>                                                        (0 + 12) / 12]\r"
     ]
    },
    {
     "name": "stdout",
     "output_type": "stream",
     "text": [
      "Működik a Spark!\n"
     ]
    },
    {
     "name": "stderr",
     "output_type": "stream",
     "text": [
      "                                                                                \r"
     ]
    }
   ],
   "source": [
    "x = \"MWűGkyösdwinko Qau fSJpDaTrykv!w\"\n",
    "\n",
    "rdd = sc.parallelize([x[i:i+2] for i in range(0, len(x), 2)])\n",
    "res = rdd.map(lambda x: x[0]).collect()\n",
    "print(\"\".join(res))"
   ]
  }
 ],
 "metadata": {
  "kernelspec": {
   "display_name": "Python 3",
   "language": "python",
   "name": "python3"
  },
  "language_info": {
   "codemirror_mode": {
    "name": "ipython",
    "version": 3
   },
   "file_extension": ".py",
   "mimetype": "text/x-python",
   "name": "python",
   "nbconvert_exporter": "python",
   "pygments_lexer": "ipython3",
   "version": "3.10.13"
  }
 },
 "nbformat": 4,
 "nbformat_minor": 5
}
