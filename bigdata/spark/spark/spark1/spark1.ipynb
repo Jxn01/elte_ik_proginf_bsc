{
 "cells": [
  {
   "cell_type": "markdown",
   "metadata": {},
   "source": [
    "# 1. Spark gyakorlat"
   ]
  },
  {
   "cell_type": "markdown",
   "metadata": {},
   "source": [
    "Spark inicializáció"
   ]
  },
  {
   "cell_type": "code",
   "execution_count": 2,
   "metadata": {},
   "outputs": [
    {
     "name": "stderr",
     "output_type": "stream",
     "text": [
      "23/11/07 19:55:48 WARN Utils: Your hostname, jxn-linux resolves to a loopback address: 127.0.1.1; using 192.168.1.7 instead (on interface eno1)\n",
      "23/11/07 19:55:48 WARN Utils: Set SPARK_LOCAL_IP if you need to bind to another address\n",
      "Setting default log level to \"WARN\".\n",
      "To adjust logging level use sc.setLogLevel(newLevel). For SparkR, use setLogLevel(newLevel).\n",
      "23/11/07 19:55:49 WARN NativeCodeLoader: Unable to load native-hadoop library for your platform... using builtin-java classes where applicable\n",
      "23/11/07 19:55:49 WARN SparkConf: Note that spark.local.dir will be overridden by the value set by the cluster manager (via SPARK_LOCAL_DIRS in mesos/standalone/kubernetes and LOCAL_DIRS in YARN).\n",
      "23/11/07 19:55:49 WARN Utils: Service 'SparkUI' could not bind on port 4040. Attempting port 4041.\n"
     ]
    }
   ],
   "source": [
    "from pyspark import SparkConf, SparkContext \n",
    "import findspark\n",
    "findspark.init()\n",
    "findspark.find()\n",
    "conf = SparkConf().set(\"spark.local.dir\", \"/home/jxn/.sparktmp\")\n",
    "sc = SparkContext(conf=conf)"
   ]
  },
  {
   "cell_type": "markdown",
   "metadata": {},
   "source": [
    "RDD = resilient distributed dataset\n",
    "\n",
    "Az RDD objektumok immutábilis elosztott kollekciója\n",
    "\n",
    "RDD létrehozható bármilyen kollekcióból az `sc.parallelize()` függvénnyel.\n",
    "\n",
    "Az `sc.parallelize()` második argumentumában megadhatjuk hány partíción legyenek elosztva az adatok"
   ]
  },
  {
   "cell_type": "code",
   "execution_count": 3,
   "metadata": {},
   "outputs": [
    {
     "data": {
      "text/plain": [
       "ParallelCollectionRDD[0] at readRDDFromFile at PythonRDD.scala:289"
      ]
     },
     "execution_count": 3,
     "metadata": {},
     "output_type": "execute_result"
    }
   ],
   "source": [
    "tomb = ['a', 'b', 'c', 'd', 'e', 'f']\n",
    "\n",
    "rdd = sc.parallelize(tomb, 5)\n",
    "rdd"
   ]
  },
  {
   "cell_type": "markdown",
   "metadata": {},
   "source": [
    "Az alábbi függvény visszaadja az RDD partícióinak a számát."
   ]
  },
  {
   "cell_type": "code",
   "execution_count": 3,
   "metadata": {},
   "outputs": [
    {
     "data": {
      "text/plain": [
       "5"
      ]
     },
     "execution_count": 3,
     "metadata": {},
     "output_type": "execute_result"
    }
   ],
   "source": [
    "rdd.getNumPartitions()"
   ]
  },
  {
   "cell_type": "markdown",
   "metadata": {},
   "source": [
    "Az RDD-ken alkalmazhatunk transzformációkat és akciókat\n",
    "\n",
    "A transzformáció RDD-ből új RDD-t hoz létre\n",
    "\n",
    "Az akciókkat RDD-re alkalmazzuk és egyszerű értékkel térnek vissza\n",
    "\n",
    "Az alábbi kód létrehoz egy RDD-t, amely 1000 számot tartalmaz\n",
    "\n",
    "A `filter()` transzformáció szűr a hárommal osztható számokra\n",
    "\n",
    "A `count()` akicó megszámolja az RDD-ben található értékeket\n"
   ]
  },
  {
   "cell_type": "code",
   "execution_count": 4,
   "metadata": {},
   "outputs": [
    {
     "name": "stderr",
     "output_type": "stream",
     "text": [
      "                                                                                \r"
     ]
    },
    {
     "data": {
      "text/plain": [
       "334"
      ]
     },
     "execution_count": 4,
     "metadata": {},
     "output_type": "execute_result"
    }
   ],
   "source": [
    "\n",
    "szamok = sc.parallelize(range(1000)).filter(lambda x: x % 3 == 0)\n",
    "szamok.count()"
   ]
  },
  {
   "cell_type": "markdown",
   "metadata": {},
   "source": [
    "Transzformációk: `filter`, `map`, `flatMap`, `sort`, `sample`, `union`, `intersection`, `distinct`\n",
    "\n",
    "Akciók: `count`, `take`, `collect`, `max`, `min`, `reduce`, `foreach`\n",
    "\n",
    "A nevük elárulja mit csinálnak, de érdemes kipróbálni őket!\n",
    "\n",
    "Példa: számok összeadása\n",
    "\n",
    "A `reduce()` akció aggregálja az elemeket egy függvénnyel, amely két argumentumot kap és egy értékkel tér vissza \n",
    "\n",
    "Kommutatív és asszociatív függvénynek kell lennie, hogy párhuzamosan végrehajtható legyen\n"
   ]
  },
  {
   "cell_type": "code",
   "execution_count": 6,
   "metadata": {},
   "outputs": [
    {
     "name": "stdout",
     "output_type": "stream",
     "text": [
      "45\n"
     ]
    }
   ],
   "source": [
    "szamok = sc.parallelize(range(10))\\\n",
    ".filter(lambda x: x)\\\n",
    ".reduce(lambda a, b: a + b)\n",
    "\n",
    "szamok = sc.parallelize(range(10)).sum()\n",
    "\n",
    "print(szamok)"
   ]
  },
  {
   "cell_type": "markdown",
   "metadata": {},
   "source": [
    "Lemezen lévő fájlból is készíthetünk RDD-t\n",
    "\n",
    "Az alábbi kód kírja a szöveg első két sorát:"
   ]
  },
  {
   "cell_type": "code",
   "execution_count": 6,
   "metadata": {},
   "outputs": [
    {
     "name": "stdout",
     "output_type": "stream",
     "text": [
      "['Mi, a magyar nemzet tagjai, az új évezred kezdetén, felelősséggel minden magyarért, kinyilvánítjuk az alábbiakat:', 'Büszkék vagyunk arra, hogy Szent István királyunk ezer évvel ezelőtt szilárd alapokra helyezte a magyar államot, és hazánkat a keresztény Európa részévé tette.']\n"
     ]
    }
   ],
   "source": [
    "lines = sc.textFile('alkotmany.txt').take(2)\n",
    "\n",
    "print(lines)"
   ]
  },
  {
   "cell_type": "markdown",
   "metadata": {},
   "source": [
    "Feladat: Grep külön függvénnyel"
   ]
  },
  {
   "cell_type": "code",
   "execution_count": 7,
   "metadata": {},
   "outputs": [
    {
     "data": {
      "text/plain": [
       "['Mi, a magyar nemzet tagjai, az új évezred kezdetén, felelősséggel minden magyarért, kinyilvánítjuk az alábbiakat:',\n",
       " 'Büszkék vagyunk arra, hogy Szent István királyunk ezer évvel ezelőtt szilárd alapokra helyezte a magyar államot, és hazánkat a keresztény Európa részévé tette.']"
      ]
     },
     "execution_count": 7,
     "metadata": {},
     "output_type": "execute_result"
    }
   ],
   "source": [
    "def filter_row(line):\n",
    "  grepWord = 'magyar'\n",
    "  if grepWord in line:\n",
    "    return True\n",
    "  else:\n",
    "    return False\n",
    "\n",
    "\n",
    "lines = sc.textFile('alkotmany.txt')\\\n",
    ".filter(filter_row)\n",
    "\n",
    "lines.take(2)"
   ]
  },
  {
   "cell_type": "markdown",
   "metadata": {},
   "source": [
    "Feladat: Grep"
   ]
  },
  {
   "cell_type": "code",
   "execution_count": 8,
   "metadata": {},
   "outputs": [
    {
     "data": {
      "text/plain": [
       "['Mi, a magyar nemzet tagjai, az új évezred kezdetén, felelősséggel minden magyarért, kinyilvánítjuk az alábbiakat:',\n",
       " 'Büszkék vagyunk arra, hogy Szent István királyunk ezer évvel ezelőtt szilárd alapokra helyezte a magyar államot, és hazánkat a keresztény Európa részévé tette.']"
      ]
     },
     "execution_count": 8,
     "metadata": {},
     "output_type": "execute_result"
    }
   ],
   "source": [
    "grepWord = 'magyar'\n",
    "\n",
    "lines = sc.textFile('alkotmany.txt')\\\n",
    ".filter(lambda line: grepWord in line)\n",
    "\n",
    "lines.take(2)"
   ]
  },
  {
   "cell_type": "code",
   "execution_count": 9,
   "metadata": {},
   "outputs": [
    {
     "data": {
      "text/plain": [
       "[['Mi,',\n",
       "  'a',\n",
       "  'magyar',\n",
       "  'nemzet',\n",
       "  'tagjai,',\n",
       "  'az',\n",
       "  'új',\n",
       "  'évezred',\n",
       "  'kezdetén,',\n",
       "  'felelősséggel',\n",
       "  'minden',\n",
       "  'magyarért,',\n",
       "  'kinyilvánítjuk',\n",
       "  'az',\n",
       "  'alábbiakat:'],\n",
       " ['Büszkék',\n",
       "  'vagyunk',\n",
       "  'arra,',\n",
       "  'hogy',\n",
       "  'Szent',\n",
       "  'István',\n",
       "  'királyunk',\n",
       "  'ezer',\n",
       "  'évvel',\n",
       "  'ezelőtt',\n",
       "  'szilárd',\n",
       "  'alapokra',\n",
       "  'helyezte',\n",
       "  'a',\n",
       "  'magyar',\n",
       "  'államot,',\n",
       "  'és',\n",
       "  'hazánkat',\n",
       "  'a',\n",
       "  'keresztény',\n",
       "  'Európa',\n",
       "  'részévé',\n",
       "  'tette.']]"
      ]
     },
     "execution_count": 9,
     "metadata": {},
     "output_type": "execute_result"
    }
   ],
   "source": [
    "lines = sc.textFile('alkotmany.txt')\\\n",
    ".map(lambda l: l.split(\" \"))\n",
    "\n",
    "lines.take(2)"
   ]
  },
  {
   "cell_type": "code",
   "execution_count": 10,
   "metadata": {},
   "outputs": [
    {
     "data": {
      "text/plain": [
       "['1944.',\n",
       " '1949.',\n",
       " '1956-os',\n",
       " '1990.',\n",
       " 'Alaptörvényünk',\n",
       " 'Becsüljük',\n",
       " 'Bízunk',\n",
       " 'Büszkék',\n",
       " 'Büszkék',\n",
       " 'Büszkék']"
      ]
     },
     "execution_count": 10,
     "metadata": {},
     "output_type": "execute_result"
    }
   ],
   "source": [
    "lines = sc.textFile('alkotmany.txt')\\\n",
    ".flatMap(lambda l: l.split(\" \"))\\\n",
    ".sortBy(lambda word: word)\n",
    "\n",
    "lines.take(10)"
   ]
  },
  {
   "cell_type": "markdown",
   "metadata": {},
   "source": [
    "Kulcs-érték párok készítése\n",
    "\n",
    "Műveletek kulcs-érték párokon: `reduceByKey`, `groupByKey`, `countByKey`"
   ]
  },
  {
   "cell_type": "code",
   "execution_count": 11,
   "metadata": {},
   "outputs": [
    {
     "data": {
      "text/plain": [
       "[('m', 'mi,'),\n",
       " ('a', 'a'),\n",
       " ('m', 'magyar'),\n",
       " ('n', 'nemzet'),\n",
       " ('t', 'tagjai,'),\n",
       " ('a', 'az'),\n",
       " ('ú', 'új'),\n",
       " ('é', 'évezred'),\n",
       " ('k', 'kezdetén,'),\n",
       " ('f', 'felelősséggel')]"
      ]
     },
     "execution_count": 11,
     "metadata": {},
     "output_type": "execute_result"
    }
   ],
   "source": [
    "lines = sc.textFile('alkotmany.txt')\\\n",
    ".flatMap(lambda l: l.split(\" \"))\\\n",
    ".map(lambda w: (w.lower()[0], w.lower()))\n",
    "\n",
    "lines.take(10)"
   ]
  },
  {
   "cell_type": "markdown",
   "metadata": {},
   "source": [
    "Feladat: WordCount\n",
    "\n",
    "Kulcs alapján aggregáló függvények: `reduceByKey`, `aggregateByKey`, `groupByKey`, `sortByKey`\n"
   ]
  },
  {
   "cell_type": "code",
   "execution_count": 12,
   "metadata": {},
   "outputs": [
    {
     "data": {
      "text/plain": [
       "[('a', 41), ('és', 24), ('az', 19), ('hogy', 17), ('valljuk', 9)]"
      ]
     },
     "execution_count": 12,
     "metadata": {},
     "output_type": "execute_result"
    }
   ],
   "source": [
    "lines = sc.textFile('alkotmany.txt')\\\n",
    ".flatMap(lambda l: l.split(\" \"))\\\n",
    ".map(lambda l: l.replace(':',\"\").replace(\",\",\"\").replace(\".\", \"\").replace(\"!\",\"\"))\\\n",
    ".map(lambda w: (w.lower(), 1))\\\n",
    ".reduceByKey(lambda a, b: a + b)\\\n",
    ".sortBy(lambda x: x[1], False)\n",
    "\n",
    "lines.take(5)"
   ]
  }
 ],
 "metadata": {
  "kernelspec": {
   "display_name": "Python 3",
   "language": "python",
   "name": "python3"
  },
  "language_info": {
   "codemirror_mode": {
    "name": "ipython",
    "version": 3
   },
   "file_extension": ".py",
   "mimetype": "text/x-python",
   "name": "python",
   "nbconvert_exporter": "python",
   "pygments_lexer": "ipython3",
   "version": "3.10.13"
  }
 },
 "nbformat": 4,
 "nbformat_minor": 2
}
