{
 "metadata": {
  "kernelspec": {
   "display_name": "SageMath",
   "language": "python",
   "name": "sagemath"
  },
  "language_info": {
   "codemirror_mode": {
    "name": "ipython",
    "version": 2
   },
   "file_extension": ".py",
   "mimetype": "text/x-python",
   "name": "python",
   "nbconvert_exporter": "python",
   "pygments_lexer": "ipython2",
   "version": "2.7.12+"
  }
 },
 "nbformat": 4,
 "nbformat_minor": 4,
 "cells": [
  {
   "metadata": {
    "collapsed": false
   },
   "cell_type": "markdown",
   "source": [
    "### Ide\u00e1l ###\n",
    "\n",
    "$R$ gy\u0171r\u0171 eset\u00e9n az $I\\subset R$ ide\u00e1l, ha\n",
    "- $I+I\\subset I$ \u00e9s\n",
    "- $IR\\subset I$ (bal oldali)."
   ]
  },
  {
   "metadata": {
    "collapsed": false
   },
   "cell_type": "code",
   "source": [
    "6*ZZ"
   ]
  },
  {
   "metadata": {
    "collapsed": false
   },
   "cell_type": "code",
   "source": [
    "3*ZZ"
   ]
  },
  {
   "metadata": {
    "collapsed": false
   },
   "cell_type": "code",
   "source": [
    "I = 6*GF(7); I # test eset\u00e9n egyszer\u0171\n",
    "[(e, e in I) for e in GF(7)]"
   ]
  },
  {
   "metadata": {
    "collapsed": false
   },
   "cell_type": "code",
   "source": [
    "ZZ.ideal(6,14)"
   ]
  },
  {
   "metadata": {
    "collapsed": false
   },
   "cell_type": "markdown",
   "source": [
    "\n",
    "### Marad\u00e9kgy\u0171r\u0171/faktorgy\u0171r\u0171 ###\n",
    "\n",
    "Ha $I$ (k\u00e9toldali) ide\u00e1l, akkor a faktorgy\u0171r\u0171 elemei azok a halmazok, melyek elemeire $(a-b)\\in I$ (ekvivalenciarel\u00e1ci\u00f3 $\\to$ oszt\u00e1lyoz\u00e1sa $R$-nek)."
   ]
  },
  {
   "metadata": {
    "collapsed": false
   },
   "cell_type": "code",
   "source": [
    "Z6 = ZZ.quotient_ring(6); Z6"
   ]
  },
  {
   "metadata": {
    "collapsed": false
   },
   "cell_type": "code",
   "source": [
    "Z6.is_field()"
   ]
  },
  {
   "metadata": {
    "collapsed": false
   },
   "cell_type": "code",
   "source": [
    "ZZ.quotient_ring(2).is_field()"
   ]
  },
  {
   "metadata": {
    "collapsed": false
   },
   "cell_type": "markdown",
   "source": [
    "### Polinomok ###\n",
    "\n",
    "$R$ egys\u00e9gelemes kommutat\u00edv gy\u0171r\u0171\n",
    "\n",
    "Ekkor a $f = (f_0, f_1, f_2, \\dots)$ $R$ f\u00f6l\u00f6tti polinom ($f(x)\\in R[x]$), ha $f_i\\in R$ \u00e9s van olyan $n$, amelyre $k>n:f_k = 0$. Az $f$ foksz\u00e1ma (deg($f$)) $n$ vagy $-\\infty$."
   ]
  },
  {
   "metadata": {
    "collapsed": false
   },
   "cell_type": "code",
   "source": [
    "R.<x> = PolynomialRing(ZZ)\n",
    "R"
   ]
  },
  {
   "metadata": {
    "collapsed": false
   },
   "cell_type": "code",
   "source": [
    "#ut\u00e1na dolgozunk benne (a fent megadott x jel\u00f6li a hat\u00e1rozatlant)\n",
    "f = x^2 + 1"
   ]
  },
  {
   "metadata": {
    "collapsed": false
   },
   "cell_type": "code",
   "source": [
    "g = 7*x^2 - 1"
   ]
  },
  {
   "metadata": {
    "collapsed": false
   },
   "cell_type": "code",
   "source": [
    "f*g"
   ]
  },
  {
   "metadata": {
    "collapsed": false
   },
   "cell_type": "code",
   "source": [
    "factor(_)"
   ]
  },
  {
   "metadata": {
    "collapsed": false
   },
   "cell_type": "code",
   "source": [
    "#Ak\u00e1r ide\u00e1lokat is l\u00e9trehozhatunk\n",
    "I = f * R"
   ]
  },
  {
   "metadata": {
    "collapsed": false
   },
   "cell_type": "code",
   "source": [
    "I"
   ]
  },
  {
   "metadata": {
    "collapsed": false
   },
   "cell_type": "code",
   "source": [
    "x^3+x in I"
   ]
  },
  {
   "metadata": {
    "collapsed": false
   },
   "cell_type": "code",
   "source": [
    "K.<y> = R.quotient_by_principal_ideal(f)"
   ]
  },
  {
   "metadata": {
    "collapsed": false
   },
   "cell_type": "code",
   "source": [
    "K"
   ]
  },
  {
   "metadata": {
    "collapsed": false
   },
   "cell_type": "code",
   "source": [
    "# Egy m\u00e1sik p\u00e9lda polinomgy\u0171r\u0171re\n",
    "R.<x> = PolynomialRing(GF(3))\n",
    "R"
   ]
  },
  {
   "metadata": {
    "collapsed": false
   },
   "cell_type": "code",
   "source": [
    "factor(x^2+2)"
   ]
  },
  {
   "metadata": {
    "collapsed": false
   },
   "cell_type": "code",
   "source": [
    "K.<t> = R.quotient_ring(x^2-2) # (x^2+1)\n",
    "K"
   ]
  },
  {
   "metadata": {
    "collapsed": false
   },
   "cell_type": "code",
   "source": [
    "K.is_field()"
   ]
  },
  {
   "metadata": {
    "collapsed": false
   },
   "cell_type": "code",
   "source": [
    "K.is_finite()"
   ]
  },
  {
   "metadata": {
    "collapsed": false
   },
   "cell_type": "code",
   "source": [
    "K2.<t> = GF(9)\n",
    "K2.multiplication_table(names='elements')"
   ]
  },
  {
   "metadata": {
    "collapsed": false
   },
   "cell_type": "code",
   "source": [
    "reset('x')\n",
    "K.<y> = NumberField(x^2+5)\n",
    "K"
   ]
  },
  {
   "metadata": {
    "collapsed": false
   },
   "cell_type": "code",
   "source": [
    "R = ZZ[y]"
   ]
  },
  {
   "metadata": {
    "collapsed": false
   },
   "cell_type": "code",
   "source": [
    "I = (6)* R\n",
    "I"
   ]
  },
  {
   "metadata": {
    "collapsed": false
   },
   "cell_type": "code",
   "source": [
    "I.is_principal()"
   ]
  },
  {
   "metadata": {
    "collapsed": false
   },
   "cell_type": "markdown",
   "source": [
    "# Blokk titkos\u00edt\u00f3k #\n",
    "\n",
    "...\n",
    "\n",
    "padding!\n",
    "\n",
    "M\u00f3dok:\n",
    "| M\u00f3d                        | Rule                                               | CipherText                     |\n",
    "| -------------------------- | -------------------------------------------------- | ------------------------------ |\n",
    "| Electronic Codebook (ECB)  | $Y_i=F(PT_i,Key)$                                  | $Y$                            |\n",
    "| Cipher Block Chaining (CBC)| $Y_i=PT_i \\otimes CT_{i-1}$                        | $F(Y,Key); CT_0=IV$            |\n",
    "| Propagating CBC (PCBC)     | $Y_i=PT_i \\otimes(CT_{i-1} \\otimes PT_{i-1})$      | $F(Y,Key); CT_0=IV$            |\n",
    "| Cipher Feedback (CFB)      | $Y_i=CT_{i-1}$                                     | $PT \\otimes F(Y,Key); CT_0=IV$ |\n",
    "| Output Feedback (OFB)      | $Y_i=F(Y_{i-1},Key);Y_0=IV$                        | $PT \\otimes Y$                 |\n",
    "| Counter (CTR)              | $Y_i=F(IV + g(i),Key);IV=token();$                 | $PT \\otimes Y$                 |"
   ]
  },
  {
   "metadata": {
    "collapsed": false
   },
   "cell_type": "markdown",
   "source": [
    "\n",
    "# Feladatok #\n",
    "\n",
    "1. Adjuk meg $\\mathbb{Z}_6$  \u00e9s $\\mathbb{Z}_7$ szorz\u00f3t\u00e1bl\u00e1j\u00e1t!\n",
    "1. Adjuk meg $x^5+3x^3+x^2 - 1$ oszt\u00f3it $\\mathbb{Z}, \\mathbb{Z}_2, \\mathbb{Z}_3$ f\u00f6l\u00f6tt!\n",
    "2. Test lesz-e a $\\mathbb{Z}_3 /_{< x^2-1>}$ vagy a $\\mathbb{Z}_6 /_{< x^2+1>}$?\n",
    "1. K\u00e9sz\u00edts\u00fck el a Shamir f\u00e9le titokmegoszt\u00e1st megfelel\u0151 m\u00e9ret\u0171 v\u00e9ges test f\u00f6l\u00f6tt!\n",
    "1. K\u00e9sz\u00edts\u00fcnk blokk titkos\u00edt\u00f3t Vigenere alapj\u00e1n (ECB, CBC, PCBC)! *XOR m\u0171velet helyett lehet haszn\u00e1lni a karakterek \u00f6sszead\u00e1s\u00e1t*\n",
    "1. Chosen PT attack on Vigenere ECB (Visegnere Classic), ha tudom a kulcs m\u00e9ret\u00e9t \u00e9s ha nem.\n",
    "1. Titkos\u00edtsunk egy mondatot [Simplified DES](http://doc.sagemath.org/html/en/reference/cryptography/sage/crypto/block_cipher/sdes.html) seg\u00edts\u00e9g\u00e9vel!\n",
    "1. Titkos\u00edtsunk egy mondatot [Mini-AES](http://doc.sagemath.org/html/en/reference/cryptography/sage/crypto/block_cipher/miniaes.html) seg\u00edts\u00e9g\u00e9vel!\n",
    "1. Titkos\u00edtsunk egy mondatot [PRESENT](http://doc.sagemath.org/html/en/reference/cryptography/sage/crypto/block_cipher/present.html) seg\u00edts\u00e9g\u00e9vel!"
   ]
  },
  {
   "metadata": {
    "collapsed": false
   },
   "cell_type": "code",
   "source": [
    "print(\"4.: 3 pont\")\n",
    "print(\"5.: 2 pont, kiv\u00e9ve ecb\")\n",
    "print(\"7+8+9: 1 pont\")\n",
    "\n",
    "print(\"1.:\")"
   ]
  },
  {
   "metadata": {
    "collapsed": false
   },
   "cell_type": "code",
   "source": [
    "Z6 = ZZ.quotient_ring(6)\n",
    "Z7 = ZZ.quotient_ring(7)\n",
    "\n",
    "Z6.multiplication_table(names=\"elements\")\n",
    "Z7.multiplication_table(names=\"elements\")\n",
    "\n",
    "Z6.is_field()\n",
    "Z7.is_field()\n",
    "\n",
    "print(\"2.:\")\n",
    "\n",
    "print(\"3.:\")\n",
    "\n",
    "Z3 = ZZ.quotient_ring(3)\n",
    "Z6 = ZZ.quotient_ring(6)\n",
    "D.<x> = PolynomialRing(Z3)\n",
    "E.<x> = PolynomialRing(Z6)\n",
    "p1 = x^2+1\n",
    "p2 = x^2-1\n",
    "IPD = p1 * D\n",
    "IPE = p2 * E\n",
    "D2.<x> = D.quotient_by_principal_ideal(IPD)\n",
    "E2.<x> = E.quotient_by_principal_ideal(IPE)\n",
    "\n",
    "D2.is_field()\n",
    "E2.is_field()\n",
    "\n",
    "print(\"4. Shamir:\")\n",
    "import random\n",
    "DEGREE = 2\n",
    "SIZE_OF_FIELD = 103\n",
    "NUMBER_OF_SHARES = 4\n",
    "\n",
    "class Shamir:\n",
    "\n",
    "    def __init__(self, size_of_field):\n",
    "        self.__size_of_field = size_of_field\n",
    "        self.__poly = 0\n",
    "\n",
    "    def set_poly(self, poly):\n",
    "        self.__poly = poly\n",
    "\n",
    "    def set_size_of_field(self, size_of_field):\n",
    "        self.__size_of_field = size_of_field\n",
    "\n",
    "    def generate(self, degree):\n",
    "        if(degree is None or degree < 0):\n",
    "            return None\n",
    "        R.<x> = PolynomialRing(ZZ)\n",
    "        poly = 0\n",
    "        coefficients = random.sample(range(100), degree+1)\n",
    "        for n in coefficients:\n",
    "            poly += n*x^degree\n",
    "            degree=degree-1\n",
    "        self.__poly = poly\n",
    "        return poly\n",
    "\n",
    "    def encode(self, sharenumber):\n",
    "        poly = self.__poly\n",
    "        degree = self.__poly.degree()\n",
    "        if(sharenumber < degree+1):\n",
    "            sharenumber = degree+1\n",
    "        points_on_x = random.sample(range(100), sharenumber)\n",
    "        points_on_y = map(lambda x: poly(x), points_on_x)\n",
    "        points = list(zip(points_on_x, points_on_y))\n",
    "        return points\n",
    "\n",
    "    def decode(self, points):\n",
    "        F = GF(self.__size_of_field)\n",
    "        R = F['x']\n",
    "        poly = R.lagrange_polynomial(points)\n",
    "        return poly\n",
    "\n",
    "shamir = Shamir(SIZE_OF_FIELD)\n",
    "p = shamir.generate(DEGREE); p\n",
    "points = shamir.encode(NUMBER_OF_SHARES); points\n",
    "p2 = shamir.decode(points); p2\n",
    "p == p2\n",
    "\n",
    "print(\"5. Blokk titkos\u00edt\u00f3:\")\n",
    "\n",
    "\n",
    "bin = BinaryStrings()\n",
    "print(\"7. Simplified DES:\")\n",
    "from sage.crypto.block_cipher.sdes import SimplifiedDES\n",
    "sdes = SimplifiedDES()\n",
    "binary_sentence = bin.encoding(\"Encrypt this using S-DES!\")\n",
    "Mod(len(binary_sentence), 8) == 0 #must be a multiple of 8\n",
    "key = sdes.list_to_string(sdes.random_key())\n",
    "encrypted_sentence = sdes(binary_sentence, key, algorithm=\"encrypt\")\n",
    "decrypted_sentence = sdes(encrypted_sentence, key, algorithm=\"decrypt\")\n",
    "decrypted_sentence == binary_sentence\n",
    "\n",
    "print(\"8. Mini-AES:\")\n",
    "from sage.crypto.block_cipher.miniaes import MiniAES\n",
    "maes = MiniAES()\n",
    "key = bin.encoding(\"KE\") #must be 16 bit string\n",
    "binary_sentence = bin.encoding(\"Encrypt this secret message!\") #must be 16 bit or multiple of 16\n",
    "encrypted_sentence = maes(binary_sentence, key, algorithm=\"encrypt\")\n",
    "decrypted_sentence = maes(encrypted_sentence, key, algorithm=\"decrypt\")\n",
    "decrypted_sentence == binary_sentence\n",
    "\n",
    "print(\"9. PRESENT:\")\n",
    "from sage.crypto.block_cipher.present import PRESENT\n",
    "present = PRESENT()\n",
    "sentence = b'secccret' #must be 64 bit string or multiple of 64\n",
    "sentence_block = int.from_bytes(sentence, 'big')\n",
    "key = 0\n",
    "encrypted_sentence_block = present.encrypt(sentence_block, key)\n",
    "decrypted_sentence_block = present.decrypt(encrypted_sentence_block, key)\n",
    "decrypted_sentence = int(decrypted_sentence_block).to_bytes(8, 'big')\n",
    "sentence == decrypted_sentence"
   ]
  },
  {
   "metadata": {
    "collapsed": false
   },
   "cell_type": "code",
   "source": [
    ""
   ]
  }
 ]
}