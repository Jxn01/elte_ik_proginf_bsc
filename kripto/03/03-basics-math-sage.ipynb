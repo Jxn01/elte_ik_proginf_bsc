{
 "cells": [
  {
   "cell_type": "markdown",
   "metadata": {
    "collapsed": false
   },
   "source": [
    "\n",
    "# Matematikai (és Sage) alapok (röviden) #\n",
    "\n",
    "Motiváció: szeretnénk garantálni, hogy\n",
    "\n",
    "- a párosítás 1/2 valószínűséggel történik és\n",
    "- az alaphalmaz elég nagy.\n",
    "\n",
    "\n",
    "### 1. Kifejezések ##\n",
    "\n",
    "Egy beírt szimbólumot (`SR` eleme) tartalmazó inputot a sage kifejezésként értelmez (minden kifejezés, legfeljebb  speciális kifejezés)"
   ]
  },
  {
   "cell_type": "code",
   "execution_count": 0,
   "metadata": {
    "collapsed": false
   },
   "outputs": [
   ],
   "source": [
    "type(x); type(x^2); type(x^2 == 2); type(x^2 < x); type(sin(3))"
   ]
  },
  {
   "cell_type": "markdown",
   "metadata": {
    "collapsed": false
   },
   "source": [
    "Amikor létrehozunk egy változót érték nélkül, akkor az az `SR` eleme lesz (kivéve az `x`, ami amúgy is az)"
   ]
  },
  {
   "cell_type": "code",
   "execution_count": 0,
   "metadata": {
    "collapsed": false
   },
   "outputs": [
   ],
   "source": [
    "type(SR)\n",
    "x.base_ring()"
   ]
  },
  {
   "cell_type": "code",
   "execution_count": 0,
   "metadata": {
    "collapsed": false
   },
   "outputs": [
   ],
   "source": [
    "var('y')\n",
    "type(y)\n",
    "y.base_ring()\n",
    "y.is_symbol()"
   ]
  },
  {
   "cell_type": "markdown",
   "metadata": {
    "collapsed": false
   },
   "source": [
    "A kifejezés lehet speciálisabb is"
   ]
  },
  {
   "cell_type": "code",
   "execution_count": 0,
   "metadata": {
    "collapsed": false
   },
   "outputs": [
   ],
   "source": [
    "type(pi) # de nem symbol pi.is_symbol() -> false\n",
    "type(i)\n",
    "type(oo) #!\n",
    "type(SR(oo)); SR(oo); bool(_ > 12452353246234525234216245)"
   ]
  },
  {
   "cell_type": "markdown",
   "metadata": {
    "collapsed": false
   },
   "source": [
   ]
  },
  {
   "cell_type": "code",
   "execution_count": 0,
   "metadata": {
    "collapsed": false
   },
   "outputs": [
   ],
   "source": [
    "e0 = x^2 + y\n",
    "e1 = x^3-3 == 3\n",
    "e2 = sin(x) <= 2\n",
    "e0 + e1\n",
    "e0 * e1\n",
    "e0^e1.simplify()"
   ]
  },
  {
   "cell_type": "markdown",
   "metadata": {
    "collapsed": false
   },
   "source": [
   ]
  },
  {
   "cell_type": "code",
   "execution_count": 0,
   "metadata": {
    "collapsed": false
   },
   "outputs": [
   ],
   "source": [
    "e3 = sin(x) >= -2\n",
    "e1 + e2\n",
    "e2 + e3"
   ]
  },
  {
   "cell_type": "markdown",
   "metadata": {
    "collapsed": false
   },
   "source": [
    "Vannak \"callable\" kifejezések is"
   ]
  },
  {
   "cell_type": "code",
   "execution_count": 0,
   "metadata": {
    "collapsed": false
   },
   "outputs": [
   ],
   "source": [
    "var('x,y,z,f,g')\n",
    "f(x,z) = x^2 + 2 - z\n",
    "g(y,z) = sin(y) + exp(z)\n",
    "f + g\n",
    "(f+g)(3,2,1)\n",
    "(f+g).arguments()"
   ]
  },
  {
   "cell_type": "markdown",
   "metadata": {
    "collapsed": false
   },
   "source": [
    "### 2. Kifejezések átalakítása ###\n",
    "Egyszerű szabályok mentén automatikusan"
   ]
  },
  {
   "cell_type": "code",
   "execution_count": 0,
   "metadata": {
    "collapsed": false
   },
   "outputs": [
   ],
   "source": [
    "20/10\n",
    "x/x\n",
    "x+x"
   ]
  },
  {
   "cell_type": "markdown",
   "metadata": {
    "collapsed": false
   },
   "source": [
    "ha nem szeretnénk akkor `hold=True` opció (a műveletek prefix formájánál)"
   ]
  },
  {
   "cell_type": "code",
   "execution_count": 0,
   "metadata": {
    "collapsed": false
   },
   "outputs": [
   ],
   "source": [
    "x.add(x,hold=True)\n",
    "a = x.add(x,hold=True)\n",
    "a\n",
    "a+2\n",
    "sin(a)\n",
    "a.unhold() # nem hold-olt verzió\n",
    "sin(a).unhold() #!!\n",
    "cos(pi, hold=True)"
   ]
  },
  {
   "cell_type": "markdown",
   "metadata": {
    "collapsed": false
   },
   "source": [
    "Bonyolultabb kifejezések esetén nekünk kell megadni (amúgy sem egyértelmű egy matematikai objektum reprezentációja)"
   ]
  },
  {
   "cell_type": "code",
   "execution_count": 0,
   "metadata": {
    "collapsed": false
   },
   "outputs": [
   ],
   "source": [
    "(1/x + 1/x^2 + (x+1)/x).combine()\n",
    "ex = 1/x + ((x + 1)/x - 1/x)/x^2 + (x+1)/x; ex\n",
    "ex.combine()\n",
    "ex.combine(deep=True)\n",
    "(1+sin((x + 1)/x - 1/x)).combine(deep=True)"
   ]
  },
  {
   "cell_type": "code",
   "execution_count": 0,
   "metadata": {
    "collapsed": false
   },
   "outputs": [
   ],
   "source": [
    "(x+1)^20\n",
    "_.expand()\n",
    "sin(5*x).expand_trig() #van log, sum, stb...)"
   ]
  },
  {
   "cell_type": "code",
   "execution_count": 0,
   "metadata": {
    "collapsed": false
   },
   "outputs": [
   ],
   "source": [
    "var('z')\n",
    "(x^3-y^3).factor()\n",
    "factor(-8*y - 4*x + z^2*(2*y + x))\n",
    "f = -1 - 2*x - x^2 + y^2 + 2*x*y^2 + x^2*y^2\n",
    "factor(f/(36*(1 + 2*y + y^2)), dontfactor=[x])"
   ]
  },
  {
   "cell_type": "code",
   "execution_count": 0,
   "metadata": {
    "collapsed": false
   },
   "outputs": [
   ],
   "source": [
    "a = var('a')\n",
    "x*sin(2)/(x^a).simplify_full()\n",
    "simplify(1/tan(2*x)+tan(x))\n",
    "_.simplify_trig() #sok féle simplify együtt simplyfy_full"
   ]
  },
  {
   "cell_type": "code",
   "execution_count": 0,
   "metadata": {
    "collapsed": false
   },
   "outputs": [
   ],
   "source": [
    "(x + y/(x + 2)).normalize()"
   ]
  },
  {
   "cell_type": "code",
   "execution_count": 0,
   "metadata": {
    "collapsed": false
   },
   "outputs": [
   ],
   "source": [
    "(sin(x)*cos(x)^3+sin(y)^2).reduce_trig()"
   ]
  },
  {
   "cell_type": "markdown",
   "metadata": {
    "collapsed": false
   },
   "source": [
    "#### Érdekesség: többletinformáció hozzáadása kifejezésekhez ####"
   ]
  },
  {
   "cell_type": "code",
   "execution_count": 0,
   "metadata": {
    "collapsed": false
   },
   "outputs": [
   ],
   "source": [
    "var('a,q,k')\n",
    "(a*q^k).sum(k, 0, oo)"
   ]
  },
  {
   "cell_type": "code",
   "execution_count": 0,
   "metadata": {
    "collapsed": false
   },
   "outputs": [
   ],
   "source": [
    "assume(abs(q) < 1)\n",
    "(a*q^k).sum(k, 0, x)"
   ]
  },
  {
   "cell_type": "code",
   "execution_count": 0,
   "metadata": {
    "collapsed": false
   },
   "outputs": [
   ],
   "source": [
    "x = var('x')\n",
    "bool(x<1)\n",
    "(x > 2).assume()\n",
    "bool(x>1)\n",
    "assumptions(x)\n",
    "forget(x>2)\n",
    "(x > 2).assume()\n",
    "(x > 2).assume()\n",
    "forget(x>2)\n",
    "assumptions()"
   ]
  },
  {
   "cell_type": "code",
   "execution_count": 0,
   "metadata": {
    "collapsed": false
   },
   "outputs": [
   ],
   "source": [
    "with assuming(x, 'even'):\n",
    "    cos(x*pi).simplify()"
   ]
  },
  {
   "cell_type": "code",
   "execution_count": 0,
   "metadata": {
    "collapsed": false
   },
   "outputs": [
   ],
   "source": [
    "with assuming(x, 'complex'):\n",
    "    arcsin(2).n()"
   ]
  },
  {
   "cell_type": "code",
   "execution_count": 0,
   "metadata": {
    "collapsed": false
   },
   "outputs": [
   ],
   "source": [
    "maxima('features')"
   ]
  },
  {
   "cell_type": "code",
   "execution_count": 0,
   "metadata": {
    "collapsed": false
   },
   "outputs": [
   ],
   "source": [
   ]
  },
  {
   "cell_type": "markdown",
   "metadata": {
    "collapsed": false
   },
   "source": [
    "## Algebrai alapok ##\n",
    "\n",
    "### Csoport ###\n",
    "\n",
    "A $G$ halmaz és $\\circ$ binér művelet $G$-n csoportot alkot, ha\n",
    "- $G$ zárt $\\circ$ műveletre,\n",
    "- $\\circ$ asszociatív $G$,\n",
    "- van semleges (egység/nullelem) $G$-ben,\n",
    "- minden elemnek van inverze, azaz bármely $a\\in G$ esetén van olyan $b\\in G$, hogy $a\\circ b = e$ ahol $e$ a semleges elem"
   ]
  },
  {
   "cell_type": "code",
   "execution_count": 0,
   "metadata": {
    "collapsed": false
   },
   "outputs": [
   ],
   "source": [
    "G = SymmetricGroup(3); G #máshogy is lehet csoportot definiálni, ez csak egy példa"
   ]
  },
  {
   "cell_type": "code",
   "execution_count": 0,
   "metadata": {
    "collapsed": false
   },
   "outputs": [
   ],
   "source": [
    "G.cardinality()"
   ]
  },
  {
   "cell_type": "code",
   "execution_count": 0,
   "metadata": {
    "collapsed": false
   },
   "outputs": [
   ],
   "source": [
    "G.subgroups()"
   ]
  },
  {
   "cell_type": "code",
   "execution_count": 0,
   "metadata": {
    "collapsed": false
   },
   "outputs": [
   ],
   "source": [
    "G.is_finite()"
   ]
  },
  {
   "cell_type": "code",
   "execution_count": 0,
   "metadata": {
    "collapsed": false
   },
   "outputs": [
   ],
   "source": [
    "G.is_abelian()"
   ]
  },
  {
   "cell_type": "code",
   "execution_count": 0,
   "metadata": {
    "collapsed": false
   },
   "outputs": [
   ],
   "source": [
    "G.multiplication_table(names='elements')"
   ]
  },
  {
   "cell_type": "markdown",
   "metadata": {
    "collapsed": false
   },
   "source": [
    "\n",
    "#### Ciklikus csoport ####\n",
    "(multiplikatív csoportra)\n",
    "\n",
    "Ha van olyan $g\\in G$, amely generálja a csoportot, azaz $\\{g^k:k\\in\\mathbb{N}\\} = G$, akkor a csoport ciklikus csoport és $g$ egy generátora.\n",
    "\n",
    "Ha $|G| = n$, akkor ez azzal ekvivalens, hogy $g^n=1$, de minden $0<k<n$ egész számra $g^k\\neq 1$.\n",
    "\n",
    "Egy csoportban értelmezhetjük az elemek rendjét a fentieknek megfelelően (azaz az a legkisebb hatvány, amire emelve az egységelemet kapjuk).\n",
    "\n",
    "Elem rendje osztja a csoport rendjét."
   ]
  },
  {
   "cell_type": "code",
   "execution_count": 0,
   "metadata": {
    "collapsed": false
   },
   "outputs": [
   ],
   "source": [
    "G.is_cyclic() # nem jó"
   ]
  },
  {
   "cell_type": "code",
   "execution_count": 0,
   "metadata": {
    "collapsed": false
   },
   "outputs": [
   ],
   "source": [
    "[(g, g.order()) for g in G] # de a rend értelmezhető"
   ]
  },
  {
   "cell_type": "code",
   "execution_count": 0,
   "metadata": {
    "collapsed": false
   },
   "outputs": [
   ],
   "source": [
    "H = G.subgroup(G((1,2)));  H # generált részcsoport"
   ]
  },
  {
   "cell_type": "code",
   "execution_count": 0,
   "metadata": {
    "collapsed": false
   },
   "outputs": [
   ],
   "source": [
    "H.is_cyclic()"
   ]
  },
  {
   "cell_type": "code",
   "execution_count": 0,
   "metadata": {
    "collapsed": false
   },
   "outputs": [
   ],
   "source": [
    "H.gens()"
   ]
  },
  {
   "cell_type": "code",
   "execution_count": 0,
   "metadata": {
    "collapsed": false
   },
   "outputs": [
   ],
   "source": [
    "G = AbelianGroup(1,[7]); G\n",
    "G.order()\n",
    "G.is_cyclic()\n",
    "G.multiplication_table(names='digits')"
   ]
  },
  {
   "cell_type": "code",
   "execution_count": 0,
   "metadata": {
    "collapsed": false
   },
   "outputs": [
   ],
   "source": [
    "G = AbelianGroup(8,[2]*8); G\n",
    "G.order()\n",
    "G.is_cyclic()"
   ]
  },
  {
   "cell_type": "markdown",
   "metadata": {
    "collapsed": false
   },
   "source": [
    "#### Gyűrűk, testek ####\n",
    "\n",
    "Az $(R; +, \\cdot)$ gyűrű/test, ha $(R;+)$ kommutatív csoport és $(R\\setminus\\{0\\}; \\cdot)$ félcsoport/Abel-csoport és teljesül az multiplikatív művelet disztributív (mindkét oldalról) a szorzásra nézve."
   ]
  },
  {
   "cell_type": "code",
   "execution_count": 0,
   "metadata": {
    "collapsed": false
   },
   "outputs": [
   ],
   "source": [
    "ZZ.is_ring()"
   ]
  },
  {
   "cell_type": "code",
   "execution_count": 0,
   "metadata": {
    "collapsed": false
   },
   "outputs": [
   ],
   "source": [
    "ZZ.is_field()"
   ]
  },
  {
   "cell_type": "code",
   "execution_count": 0,
   "metadata": {
    "collapsed": false
   },
   "outputs": [
   ],
   "source": [
    "QQ.is_field()"
   ]
  },
  {
   "cell_type": "code",
   "execution_count": 0,
   "metadata": {
    "collapsed": false
   },
   "outputs": [
   ],
   "source": [
    "R1 = IntegerModRing(15); R1.is_ring(); R1.is_field();"
   ]
  },
  {
   "cell_type": "code",
   "execution_count": 0,
   "metadata": {
    "collapsed": false
   },
   "outputs": [
   ],
   "source": [
    "R1 = IntegerModRing(17); R1.is_ring(); R1.is_field();"
   ]
  },
  {
   "cell_type": "code",
   "execution_count": 0,
   "metadata": {
    "collapsed": false
   },
   "outputs": [
   ],
   "source": [
    "R1.multiplicative_generator()"
   ]
  },
  {
   "cell_type": "code",
   "execution_count": 0,
   "metadata": {
    "collapsed": false
   },
   "outputs": [
   ],
   "source": [
    "R1.multiplication_table(names='digits')"
   ]
  },
  {
   "cell_type": "code",
   "execution_count": 0,
   "metadata": {
    "collapsed": false
   },
   "outputs": [
   ],
   "source": [
    "F = GF(16); G.order()\n",
    "F.gens()\n",
    "F.multiplicative_generator() #...\n",
    "F.<g> = GF(43)\n",
    "g"
   ]
  },
  {
   "cell_type": "code",
   "execution_count": 0,
   "metadata": {
    "collapsed": false
   },
   "outputs": [
   ],
   "source": [
    "F.<g> = GF(43, modulus='primitive'); g"
   ]
  },
  {
   "cell_type": "code",
   "execution_count": 0,
   "metadata": {
    "collapsed": false
   },
   "outputs": [
   ],
   "source": [
    "%latex\n",
    "\\begin{center}\\large Feladatok \\end{center}\n",
    "\n",
    "\\begin{enumerate}\n",
    "    \\item Fejezzük ki $sin(7a)$-t $cos(a)$ és $sin(a)$ függvényeként!\n",
    "    \\item Alakítsuk szorzattá a \\[a^3b+b^3c+c^3a-ab^3-bc^3-ca^3\\] kifejezést!\n",
    "    \\item Ellenőrizzük, hogy \\[\n",
    "        \\sin(x) + \\sin(y) = 2\\sin\\left(\\frac{x+y}{2}\\right)\\cos\\left(\\frac{x-y}{2}\\right)!\\]\n",
    "    \\item Mutassuk meg, hogy \\[\n",
    "        \\sum_{k=1}^{\\infty}\\frac{1}{k^2+1} = \\frac{\\pi\\coth(\\pi)}{2}-\\frac{1}{2}!\n",
    "        \\]\n",
    "    \\item Írj eljárást, amely az egyváltozós ($x$) egész együtthatós polinomokra megkeresi azt a tagot, melynek együtthatója abszolútértékben a legnagyobb.\\\\\n",
    "        pl. \\texttt{maxcoeff(15+16*x+2) $\\to$ 0, maxcoeff(15+x+17*x**2) $\\to$ 2, maxcoeff((x+1)**2) $\\to$ 1}\n",
    "    \\item Keressük meg a 10 elemű ciklikus csoport generátorait.\n",
    "    \\item Döntsük el, hogy izomorf-e a következő két csoport: a modulo 15 redukált maradékosztályok a szorzással, illetve a modulo 24 redukált maradékosztályok a szorzással.\n",
    "    \\item Írjuk fel a 9 elemű test műveleti tábláit.\n",
    "    \\item Írj eljárást, amely egy adott szám esetén megkeresi azt a legkisebb elemszámú testet, amelynek adott számú generátora van.\n",
    "    \\item Írj eljárást, amely egy adott csoport, generátor és elem, alapján megadja azt a számot amire a generátort emelve megkapjuk az elemet.(Tudunk-e jobb megoldást mint brute-force?)\n",
    "\\end{enumerate}"
   ]
  },
  {
   "cell_type": "code",
   "execution_count": 0,
   "metadata": {
    "collapsed": false
   },
   "outputs": [
   ],
   "source": [
   ]
  },
  {
   "cell_type": "code",
   "execution_count": 0,
   "metadata": {
    "collapsed": false
   },
   "outputs": [
   ],
   "source": [
    "a, b, c, x, y, k = var(\"a, b, c, x, y, k\")\n",
    "print(\"1. f\")\n",
    "sin(7*a).expand_trig()\n",
    "\n",
    "print(\"\\n2. f\")\n",
    "((a^3*b)+(b^3*c)+(c^3*a)-(a*b^3)-(b*c^3)-(c*a^3)).factor()\n",
    "\n",
    "print(\"\\n3. f\")\n",
    "sin(x) + sin(y) == (2 * sin((x+y)/2)*cos((x-y)/2)).reduce_trig()\n",
    "\n",
    "print(\"\\n4. f\")\n",
    "a1 = (pi*coth(pi)/2) - 1/2; RR(a1)\n",
    "b1 = sum(1/(k^2+1), k, 1, oo); RR(b1)\n",
    "RR(a1) == RR(b1)\n",
    "\n",
    "b1.simplify_full()"
   ]
  },
  {
   "cell_type": "code",
   "execution_count": 0,
   "metadata": {
    "collapsed": false
   },
   "outputs": [
   ],
   "source": [
   ]
  }
 ],
 "metadata": {
  "kernelspec": {
   "argv": [
    "sage-9.8",
    "--python",
    "-m",
    "sage.repl.ipython_kernel",
    "--matplotlib=inline",
    "-f",
    "{connection_file}"
   ],
   "display_name": "SageMath 9.8",
   "env": {
   },
   "language": "sagemath",
   "metadata": {
    "cocalc": {
     "description": "Open-source mathematical software system",
     "priority": 10,
     "url": "https://www.sagemath.org/"
    }
   },
   "name": "sage-9.8",
   "resource_dir": "/ext/jupyter/kernels/sage-9.8"
  },
  "language_info": {
   "codemirror_mode": {
    "name": "ipython",
    "version": 2
   },
   "file_extension": ".py",
   "mimetype": "text/x-python",
   "name": "python",
   "nbconvert_exporter": "python",
   "pygments_lexer": "ipython2",
   "version": "2.7.12+"
  }
 },
 "nbformat": 4,
 "nbformat_minor": 4
}