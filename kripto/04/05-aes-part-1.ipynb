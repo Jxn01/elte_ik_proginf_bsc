{
 "cells": [
  {
   "cell_type": "markdown",
   "metadata": {
    "collapsed": false
   },
   "source": [
    "\n",
    "# AES (Advanced Encrypton Standard) #\n",
    "\n",
    "[Leírás](https://nvlpubs.nist.gov/nistpubs/FIPS/NIST.FIPS.197.pdf)\n",
    "\n",
    "DES (Feistel network alapú) leváltására\n",
    "\n",
    "Spec. Rijndael network\n",
    "substitution-permutation network\n",
    "\n",
    "Kulcs méretek: 128, 192, 256 bits (van egyéb Rijndael network is, de ezek kerültek be a szabványba)\n",
    "\n",
    "Blokkok:\n",
    "\n",
    "$\\left(\\begin{array}{rrrr}\n",
    "k_0 & k_4 & k_8    & k_{12} \\\\\n",
    "k_1 & k_5 & k_9    & k_{13} \\\\\n",
    "k_2 & k_6 & k_{10} & k_{14} \\\\\n",
    "k_3 & k_7 & k_{11} & k_{15}\n",
    "\\end{array}\\right)\\quad k_i\\in \\mathbb{F}_{2^8}$\n",
    "\n",
    "Kulcsok méretének megfelelően 10, 12, 14 lépésben kapjuk meg a titkosított blokkot"
   ]
  },
  {
   "cell_type": "markdown",
   "metadata": {
    "collapsed": false
   },
   "source": [
    "\n",
    "### Rijndael véges test ###\n",
    "\n",
    "$\\mathbb{F}_2[x]/_{x^8+x^4+x^3+x+1}$"
   ]
  },
  {
   "cell_type": "code",
   "execution_count": 0,
   "metadata": {
    "collapsed": false
   },
   "outputs": [
   ],
   "source": [
    "Z2x.<x> = PolynomialRing(GF(2))\n",
    "f = x^8+x^4+x^3+x+1; factor(f)\n",
    "RF.<y> = Z2x.quotient_ring(f); RF.is_field()\n",
    "RF.cardinality()\n",
    "1/(y+1)\n",
    "1/RF('y+1')"
   ]
  },
  {
   "cell_type": "markdown",
   "metadata": {
    "collapsed": false
   },
   "source": [
    "\n",
    "és kell a rotációhoz is egy gyűrű"
   ]
  },
  {
   "cell_type": "code",
   "execution_count": 0,
   "metadata": {
    "collapsed": false
   },
   "outputs": [
   ],
   "source": [
    "factor(x^8+1) #nem lesz test\n",
    "FR.<z> = Z2x.quotient_ring(x^8+1); FR.is_field()\n",
    "[1/z^i for i in range(8)] #szerencsere minden forgatásnak van inverze"
   ]
  },
  {
   "cell_type": "markdown",
   "metadata": {
    "collapsed": false
   },
   "source": [
    "\n",
    "### Rijndael S-Box ###\n",
    "(spec. Nyberg S-box)\n",
    "\n",
    "byte $\\to$ byte transzformáció (cryptoanalízis ellen)\n",
    "\n",
    "Ha $c$ eleme a Rijndael testnek akkor a transzformáció: elem inverzének (RF-ben) affin transzformációját vesszük a következő mátrixal és vektorral"
   ]
  },
  {
   "cell_type": "code",
   "execution_count": 0,
   "metadata": {
    "collapsed": false
   },
   "outputs": [
   ],
   "source": [
    "print(\"Mátrix (M):\")\n",
    "M = Matrix(GF(2),8,lambda i,j: (i-j) % 8 < 5); pretty_print(M)\n",
    "print(\"Vektor (V):\")\n",
    "V = Matrix(GF(2), [0,1,1,0,0,0,1,1]); pretty_print(V) #0x63"
   ]
  },
  {
   "cell_type": "markdown",
   "metadata": {
    "collapsed": false
   },
   "source": [
    "\n",
    "S-Box: $c \\mapsto M*tobin(c^{-1}) + V$\n",
    "\n",
    "vagy azaz a korábban definiált strukturák segítségével:"
   ]
  },
  {
   "cell_type": "code",
   "execution_count": 0,
   "metadata": {
    "collapsed": false
   },
   "outputs": [
   ],
   "source": [
    "m = z^4+z^3+z^2+z+1\n",
    "v = z^6+z^5+z+1\n",
    "c = y^7+y^4+y^3+y #0x9A\n",
    "def SBox(c):\n",
    "    return RF(FR(1/c)*m + v)\n",
    "SBox(c) #0xB8 = x^7+x^5+x^4+x^3\n",
    "SBox(1) #0x01 -> 0x7C\n",
    "FR(y^(-7))"
   ]
  },
  {
   "cell_type": "markdown",
   "metadata": {
    "collapsed": false
   },
   "source": [
    "\n",
    "Inverz S-Box\n",
    "* V additív inverze $\\checkmark$\n",
    "* M inverze $\\checkmark$\n",
    "* Rijandel testben inverz $\\checkmark$\n",
    "\n",
    "de megadható affin transformációval is\n",
    "\n",
    "Inv-SBox: $c\\mapsto \\frac{1}{toRF(M^{-1}*c + M^{-1}*V)}$"
   ]
  },
  {
   "cell_type": "code",
   "execution_count": 0,
   "metadata": {
    "collapsed": false
   },
   "outputs": [
   ],
   "source": [
    "print(\"Mátrix az inverzhez:\")\n",
    "invM = M.inverse();\n",
    "pretty_print(invM)\n",
    "print(\"Vektor az inverzhez:\")\n",
    "invV = invM*V.transpose();\n",
    "pretty_print(invV.transpose())"
   ]
  },
  {
   "cell_type": "code",
   "execution_count": 0,
   "metadata": {
    "collapsed": false
   },
   "outputs": [
   ],
   "source": [
    "def InvSBox(c):\n",
    "    return 1/RF((FR(c)-v)*1/m)\n",
    "mul([c == InvSBox(SBox(c)) for c in RF if c != 0]) #should be one"
   ]
  },
  {
   "cell_type": "markdown",
   "metadata": {
    "collapsed": false
   },
   "source": [
    "\n",
    "## Kulcs készítése minden körhöz ##\n",
    "\n",
    "A szükséges $k$ körhöz $k+1$ 'round key' készítése a bemeneti kulcs méretének megfelelően, azaz 11,13 vagy 15 db kell."
   ]
  },
  {
   "cell_type": "code",
   "execution_count": 0,
   "metadata": {
    "collapsed": false
   },
   "outputs": [
   ],
   "source": [
    "Nb = 6\n",
    "Ok = [[RF.random_element() for i in range(4)] for j in range(Nb)]; #original key 192 bit - something random\n",
    "print('Original %d (%d*4*8bit = %d*32bit = 6w) bit (random) key' % (32*Nb, Nb, Nb))\n",
    "pretty_print(Matrix(Ok))\n",
    "\n",
    "def make_round_keys(key):\n",
    "    rks = key\n",
    "    N = len(key) # number of input words\n",
    "    for i in range(N,N+8):\n",
    "        nk = rks[i-N]\n",
    "        pk = rks[i-1]\n",
    "        if i % N == 0:\n",
    "            nk = [nk[j] + SBox(pk[(j+1) % 4]) + y^int(i/N) for j in range(4)]\n",
    "        elif N > 6 and i % N == 4:\n",
    "            nk = [nk[j] + SBox(pk[j]) for j in range(4)]\n",
    "        else:\n",
    "            nk = [nk[j] + pk[j] for j in range(4)]\n",
    "        rks.append(nk)\n",
    "    return rks\n",
    "\n",
    "print('Round keys:'); i = 1\n",
    "round_keys = make_round_keys(Ok)\n",
    "pretty_print(Matrix(round_keys))"
   ]
  },
  {
   "cell_type": "markdown",
   "metadata": {
    "collapsed": false
   },
   "source": [
    "\n",
    "## Shift rows ##\n",
    "\n",
    "A bemenet egy 32 bites blokk, ahogy ez itt szokott lenni"
   ]
  },
  {
   "cell_type": "code",
   "execution_count": 0,
   "metadata": {
    "collapsed": false
   },
   "outputs": [
   ],
   "source": [
    "ri = [[RF.random_element() for i in range(4)] for j in range(4)]\n",
    "print('Input')\n",
    "pretty_print(Matrix(ri))\n",
    "\n",
    "def shiftrows(d):\n",
    "    r = []\n",
    "    for i in range(4):\n",
    "        r.append([d[i][(j+i) % 4] for j in range(4)])\n",
    "    return r\n",
    "\n",
    "print('Result')\n",
    "pretty_print(Matrix(shiftrows(ri)))"
   ]
  },
  {
   "cell_type": "markdown",
   "metadata": {
    "collapsed": false
   },
   "source": [
    "\n",
    "## AES ##\n",
    "\n",
    "1. AddRoundKey\n",
    "2. n-2 kör: SubBytes, ShiftRows, MixClumns, AddRoundKey\n",
    "3. SubBytes, ShiftRows, AddroundKey"
   ]
  },
  {
   "cell_type": "markdown",
   "metadata": {
    "collapsed": false
   },
   "source": [
    "### Feladatok ###\n",
    "\n",
    "1. Írjunk függvényt, amely $\\mathbb{Z_2}[x]$ beli poinomot ír fel egy 0 és 1-et tartalmazó string formájában (a változó is bemenet).\n",
    "2. Írjunk függvényt, amely egy bitsorozatot alakít a két elemű test feletti polinommá (a változó is bemenet).\n",
    "3. Ellenőrizzük le, hogy a rotációhoz tartozó gyűrőben az $y^i$ tényleg rotálja a polinomokhoz tartozó bitvektorokat.\n",
    "3. Készíts táblázatot (dictionary/hashmap) az S-Box számolásához.\n",
    "4. Készíts táblázatot az inverz S-Box számolásához.\n",
    "5. Írjuk meg a kulcs kiterjesztést bináris adatokra (lehetőleg \"bináris\" műveleteket használva).\n",
    "6. Írjuk meg a ShiftRows függvény inverzét.\n",
    "7. Írjuk meg a ShiftRows függvényt és inverzét bináris adatokra. (Tekinthető 2db feladatnak.)"
   ]
  },
  {
   "cell_type": "code",
   "execution_count": 0,
   "metadata": {
    "collapsed": false
   },
   "outputs": [
   ],
   "source": [
   ]
  },
  {
   "cell_type": "code",
   "execution_count": 0,
   "metadata": {
    "collapsed": false
   },
   "outputs": [
   ],
   "source": [
   ]
  }
 ],
 "metadata": {
  "kernelspec": {
   "argv": [
    "sage-9.8",
    "--python",
    "-m",
    "sage.repl.ipython_kernel",
    "--matplotlib=inline",
    "-f",
    "{connection_file}"
   ],
   "display_name": "SageMath 9.8",
   "env": {
   },
   "language": "sagemath",
   "metadata": {
    "cocalc": {
     "description": "Open-source mathematical software system",
     "priority": 10,
     "url": "https://www.sagemath.org/"
    }
   },
   "name": "sage-9.8",
   "resource_dir": "/ext/jupyter/kernels/sage-9.8"
  },
  "language_info": {
   "codemirror_mode": {
    "name": "ipython",
    "version": 2
   },
   "file_extension": ".py",
   "mimetype": "text/x-python",
   "name": "python",
   "nbconvert_exporter": "python",
   "pygments_lexer": "ipython2",
   "version": "2.7.12+"
  }
 },
 "nbformat": 4,
 "nbformat_minor": 4
}