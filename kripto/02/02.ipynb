{
 "metadata": {
  "kernelspec": {
   "display_name": "SageMath",
   "language": "python",
   "name": "sagemath"
  },
  "language_info": {
   "codemirror_mode": {
    "name": "ipython",
    "version": 2
   },
   "file_extension": ".py",
   "mimetype": "text/x-python",
   "name": "python",
   "nbconvert_exporter": "python",
   "pygments_lexer": "ipython2",
   "version": "2.7.12+"
  }
 },
 "nbformat": 4,
 "nbformat_minor": 4,
 "cells": [
  {
   "metadata": {
    "collapsed": false
   },
   "cell_type": "markdown",
   "source": [
    "# Klasszikus kriptogr\u00e1fiai rendszerek\n",
    "\n",
    "- Kriptogr\u00e1fia feladatai\n",
    "\n",
    "- Helyettes\u00edt\u00e9ses rendszerek\n",
    "    - Atbash\n",
    "    - Caesar (shift)\n",
    "    - Vigen\u00e9re (keystream)\n",
    "\n",
    "- Nem helyettes\u00edt\u00e9ses: Grille\n",
    "\n",
    "- T\u00e1mad\u00e1sok form\u00e1i\n",
    "    - ciphertext-only\n",
    "    - chosen-plaintext\n",
    "    - adaptive chosen-plaintext\n",
    "    - chosen-ciphertext\n",
    "    - lunchtime (adaptive chosen-ciphertext)\n",
    "    - known-plaintext\n",
    "    - side-channel\n",
    "    - related-key (Kasiski for Vigener\u00e9)\n",
    "    - known-key"
   ]
  },
  {
   "metadata": {
    "collapsed": false
   },
   "cell_type": "markdown",
   "source": [
    "\n",
    "### N\u00e9h\u00e1ny hasznos dolog\n",
    "\n",
    "[Tesztel\u00e9shez](https://doc.sagemath.org/html/en/reference/cryptography/sage/crypto/classical.html)"
   ]
  },
  {
   "metadata": {
    "collapsed": false
   },
   "cell_type": "code",
   "source": [
    ""
   ]
  },
  {
   "metadata": {
    "collapsed": false
   },
   "cell_type": "code",
   "source": [
    "#conversions\n",
    "text=\"example\"\n",
    "# char-byte\n",
    "bytes = [ord(c) for c in text]; bytes\n",
    "# byte-char\n",
    "chars = [chr(b) for b in bytes]; chars\n",
    "# chars-str\n",
    "\"\".join(chars)"
   ]
  },
  {
   "metadata": {
    "collapsed": false
   },
   "cell_type": "code",
   "source": [
    "#base64\n",
    "import base64\n",
    "b64text = base64.urlsafe_b64encode(bytearray([ord(c) for c in text])); b64text\n",
    "base64.urlsafe_b64decode(b64text)"
   ]
  },
  {
   "metadata": {
    "collapsed": false
   },
   "cell_type": "code",
   "source": [
    "# char frequency\n",
    "from sage.coding.source_coding.huffman import frequency_table\n",
    "frequency_table(\"asdgashasgaer\")\n",
    "F = frequency_distribution(\"asfahshasdgasdgasdg\").function(); F\n",
    "sorted(F.items(), key=lambda a: a[1])"
   ]
  },
  {
   "metadata": {
    "collapsed": false
   },
   "cell_type": "code",
   "source": [
    "# caesar\n",
    "S = ShiftCryptosystem(AlphabeticStrings())\n",
    "s = S.encoding(\"asdfhasfdgtewr asdgasd|\"); s\n",
    "E = S(5)\n",
    "D = S(S.inverse_key(5))\n",
    "es = E(s); es\n",
    "D(es)"
   ]
  },
  {
   "metadata": {
    "collapsed": false
   },
   "cell_type": "code",
   "source": [
    "# classes\n",
    "class Caesar():\n",
    "    def __init__(self, k):\n",
    "        self.__k = k\n",
    "    def __repr__(self):\n",
    "        return \"Caesar encoder (shift is \" + str(self.__k) + \")\"\n",
    "    def encode(self, text):\n",
    "        return None #TODO\n",
    "    def decode(self, secret):\n",
    "        return None #TODO\n",
    "C = Caesar(5);\n",
    "C.encode(\"plain-text\")\n",
    "C.decode(\"cipher-text\")"
   ]
  },
  {
   "metadata": {
    "collapsed": false
   },
   "cell_type": "code",
   "source": [
    "#letter frequency in english alphbet\n",
    "Lf = {'a': 0.0816700000000000, 'b': 0.0149200000000000, 'c': 0.0278200000000000, 'd': 0.0425300000000000, 'e': 0.127020000000000, 'f': 0.0222800000000000, 'g': 0.0201500000000000, 'h': 0.0609400000000000, 'i': 0.0696600000000000, 'j': 0.00153000000000000, 'k': 0.00772000000000000, 'l': 0.0402500000000000, 'm': 0.0240600000000000, 'n': 0.0674900000000000, 'o': 0.0750700000000000, 'p': 0.0192900000000000, 'q': 0.000950000000000000, 'r': 0.0598700000000000, 's': 0.0632700000000000, 't': 0.0905600000000000, 'u': 0.0275800000000000, 'v': 0.00978000000000000, 'w': 0.0236000000000000, 'x': 0.00150000000000000, 'y': 0.0197400000000000, 'z': 0.000740000000000000}\n",
    "Lf['e']"
   ]
  },
  {
   "metadata": {
    "collapsed": false
   },
   "cell_type": "markdown",
   "source": [
    "## Feladatok\n",
    "1. K\u00e9sz\u00edts\u00fck el az Atbash titkos\u00edt\u00f3 oszt\u00e1lyt!\n",
    "1. K\u00e9sz\u00edts\u00fck el az Caesar titkos\u00edt\u00f3 oszt\u00e1lyt!\n",
    "1. K\u00e9sz\u00edts\u00fck el az Vigen\u00edre titkos\u00edt\u00f3 oszt\u00e1lyt!\n",
    "1. K\u00e9sz\u00edts\u00fck el az Grille titkos\u00edt\u00f3 oszt\u00e1lyt!\n",
    "1. K\u00e9sz\u00edts\u00fcnk az angol ABC eloszl\u00e1sainak felhaszn\u00e1l\u00e1s\u00e1val elj\u00e1r\u00e1st, ami felt\u00f6ri a Caesar \u00e9s Atbash titkos\u00edt\u00e1st!\n",
    "1. Vizsg\u00e1ljuk meg milyen hossz\u00fa sz\u00f6vegre volt sz\u00fcks\u00e9g a t\u00f6r\u00e9shez?\n",
    "1. Adjunk t\u00f6r\u00e9st a Vigen\u00e9r rendszerhez is ha ismert a kulcs hossza!\n",
    "1. Hogyan tudn\u00e1nk meghat\u00e1rozni a kulcs hossz\u00e1t?"
   ]
  },
  {
   "metadata": {
    "collapsed": false
   },
   "cell_type": "code",
   "source": [
    ""
   ]
  },
  {
   "metadata": {
    "collapsed": false
   },
   "cell_type": "code",
   "source": [
    ""
   ]
  },
  {
   "metadata": {
    "collapsed": false
   },
   "cell_type": "code",
   "source": [
    ""
   ]
  },
  {
   "metadata": {
    "collapsed": false
   },
   "cell_type": "code",
   "source": [
    ""
   ]
  },
  {
   "metadata": {
    "collapsed": false
   },
   "cell_type": "code",
   "source": [
    ""
   ]
  },
  {
   "metadata": {
    "collapsed": false
   },
   "cell_type": "code",
   "source": [
    ""
   ]
  },
  {
   "metadata": {
    "collapsed": false
   },
   "cell_type": "code",
   "source": [
    ""
   ]
  },
  {
   "metadata": {
    "collapsed": false
   },
   "cell_type": "code",
   "source": [
    ""
   ]
  },
  {
   "metadata": {
    "collapsed": false
   },
   "cell_type": "code",
   "source": [
    ""
   ]
  },
  {
   "metadata": {
    "collapsed": false
   },
   "cell_type": "code",
   "source": [
    ""
   ]
  }
 ]
}