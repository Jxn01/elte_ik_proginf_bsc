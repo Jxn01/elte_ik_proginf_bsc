{
 "metadata": {
  "kernelspec": {
   "display_name": "SageMath",
   "language": "python",
   "name": "sagemath"
  },
  "language_info": {
   "codemirror_mode": {
    "name": "ipython",
    "version": 2
   },
   "file_extension": ".py",
   "mimetype": "text/x-python",
   "name": "python",
   "nbconvert_exporter": "python",
   "pygments_lexer": "ipython2",
   "version": "2.7.12+"
  }
 },
 "nbformat": 4,
 "nbformat_minor": 4,
 "cells": [
  {
   "metadata": {
    "collapsed": false
   },
   "cell_type": "markdown",
   "source": [
    "\n",
    "# AES (Advanced Encrypton Standard) #\n",
    "\n",
    "[Le\u00edr\u00e1s](https://nvlpubs.nist.gov/nistpubs/FIPS/NIST.FIPS.197.pdf)\n",
    "\n",
    "DES (Feistel network alap\u00fa) lev\u00e1lt\u00e1s\u00e1ra\n",
    "\n",
    "Spec. Rijndael network\n",
    "substitution-permutation network\n",
    "\n",
    "Kulcs m\u00e9retek: 128, 192, 256 bits (van egy\u00e9b Rijndael network is, de ezek ker\u00fcltek be a szabv\u00e1nyba)\n",
    "\n",
    "Blokkok:\n",
    "\n",
    "$\\left(\\begin{array}{rrrr}\n",
    "k_0 & k_4 & k_8    & k_{12} \\\\\n",
    "k_1 & k_5 & k_9    & k_{13} \\\\\n",
    "k_2 & k_6 & k_{10} & k_{14} \\\\\n",
    "k_3 & k_7 & k_{11} & k_{15}\n",
    "\\end{array}\\right)\\quad k_i\\in \\mathbb{F}_{2^8}$\n",
    "\n",
    "Kulcsok m\u00e9ret\u00e9nek megfelel\u0151en 10, 12, 14 l\u00e9p\u00e9sben kapjuk meg a titkos\u00edtott blokkot\n",
    "\n",
    "**Rijndael v\u00e9ges test** (RF):  $\\mathbb{F}_2[x]/_{x^8+x^4+x^3+x+1}$\n",
    "\n",
    "**Rot\u00e1ci\u00f3k gy\u0171r\u0171je** (FR): $\\mathbb{F}_2[x]/_{x^8+1}$\n",
    "\n",
    "**SubBytes** (SBox): $c \\mapsto M*tobin(c^{-1}) + V$, ahol $M = \\left(\\begin{array}{rrrrrrrr}\n",
    "1 & 0 & 0 & 0 & 1 & 1 & 1 & 1 \\\\\n",
    "1 & 1 & 0 & 0 & 0 & 1 & 1 & 1 \\\\\n",
    "1 & 1 & 1 & 0 & 0 & 0 & 1 & 1 \\\\\n",
    "1 & 1 & 1 & 1 & 0 & 0 & 0 & 1 \\\\\n",
    "1 & 1 & 1 & 1 & 1 & 0 & 0 & 0 \\\\\n",
    "0 & 1 & 1 & 1 & 1 & 1 & 0 & 0 \\\\\n",
    "0 & 0 & 1 & 1 & 1 & 1 & 1 & 0 \\\\\n",
    "0 & 0 & 0 & 1 & 1 & 1 & 1 & 1\n",
    "\\end{array}\\right)$ \u00e9s $V = \\left(\\begin{array}{rrrrrrrr}\n",
    "0 & 1 & 1 & 0 & 0 & 0 & 1 & 1\n",
    "\\end{array}\\right)$\n",
    "\n",
    "![](sbox.png)\n",
    "\n",
    "**AddRoundKey**:\n",
    "\n",
    "![](addroundkey.png)\n",
    "\n",
    "**ShiftRows**:\n",
    "\n",
    "![](shiftrows.png)\n",
    "\n",
    "**MixColumns**:\n",
    "\n",
    "![](mixcolumns.png)\n",
    "\n",
    "## AES ##\n",
    "\n",
    "0. AddRoundKey\n",
    "2. (r-1)x SubBytes, ShiftRows, MixClumns, AddRoundKey\n",
    "3. SubBytes, ShiftRows, AddroundKey"
   ]
  },
  {
   "metadata": {
    "collapsed": false
   },
   "cell_type": "code",
   "source": [
    "# From previous class\n",
    "Z2x.<x> = PolynomialRing(GF(2))\n",
    "RF.<y> = Z2x.quotient_ring(x^8+x^4+x^3+x+1) # Rijndael test\n",
    "FR.<z> = Z2x.quotient_ring(x^8+1) # Ring for rotations\n",
    "\n",
    "# SubBytes\n",
    "m = z^4+z^3+z^2+z+1\n",
    "v = z^6+z^5+z+1\n",
    "def SBox(c):\n",
    "    return RF((FR((1/c).list())*m + v).list()) if c != 0 else RF(v.list())\n",
    "def InvSBox(c):\n",
    "    return 1/RF(((FR(c.list())-v)/m).list())\n",
    "\n",
    "def make_round_keys(key):\n",
    "    rks = key\n",
    "    N = len(key) # number of input words\n",
    "    for i in range(N,4*(N+7)):\n",
    "        nk = rks[i-N]\n",
    "        pk = rks[i-1]\n",
    "        if i % N == 0:\n",
    "            nk = [nk[j] + SBox(pk[(j+1) % 4]) + y^int(i/N) for j in range(4)]\n",
    "        elif N > 6 and i % N == 4:\n",
    "            nk = [nk[j] + SBox(pk[j]) for j in range(4)]\n",
    "        else:\n",
    "            nk = [nk[j] + pk[j] for j in range(4)]\n",
    "        rks.append(nk)\n",
    "    return rks\n",
    "\n",
    "# Create a random key\n",
    "Nr = 6 # 4 -> 128 bit, 6-> 192bit, 8->256 bit\n",
    "key = [[RF.random_element() for i in range(4)] for j in range(Nr)]\n",
    "#Create round keys\n",
    "round_keys = make_round_keys(key)\n",
    "\n",
    "#ShiftRows\n",
    "def shiftrows(d):\n",
    "    return [[d[i][(j+i) % 4] for j in range(4)] for i in range(4)]"
   ]
  },
  {
   "metadata": {
    "collapsed": false
   },
   "cell_type": "markdown",
   "source": [
    "\n",
    "## Mix Columns ##\n",
    "\n",
    "Minden oszlopot egy polinomnak tekint\u00fcnk \u00e9s beszorzunk egy konstans polinommal, ami megfelel a k\u00f6vetkez\u0151 m\u00e1trixal val\u00f3 szorz\u00e1snak."
   ]
  },
  {
   "metadata": {
    "collapsed": false
   },
   "cell_type": "code",
   "source": [
    "print('Matrix for multiplication:\\n',table([[f\"{[3,1,1,2][(i+3-j)&3]:#0{4}x}\" for i in range(4)] for j in range(4)]), sep='')\n",
    "\n",
    "\n",
    "MCRR.<w> = PolynomialRing(RF)\n",
    "MCR.<w> = MCRR.quotient_ring(w^4+1)\n",
    "a = (y+1)*w^3+w^2+w+y;\n",
    "print('a: ', end=''); pretty_print(a)\n",
    "print('1/a: ', end=''); pretty_print(1/a)\n",
    "\n",
    "def MixColumns(d, a):\n",
    "    r = [[0 for j in range(4)] for i in range(4)];\n",
    "    for i in range(4):\n",
    "        cp = sum([d[i][j]*w^j for j in range(4)]) # create a polynomial in MCR\n",
    "        cp = cp * a # mulitply with a\n",
    "        cpl = cp.list() # write back to the column\n",
    "        for j in range(4):\n",
    "            r[i][j] = cpl[j]\n",
    "    return r\n",
    "\n",
    "ri = [[RF.random_element() for i in range(4)] for j in range(4)]\n",
    "mixed = MixColumns(ri, a)\n",
    "remixed = MixColumns(mixed, 1/a)\n",
    "print('Input:', end=''); pretty_print(Matrix(ri))\n",
    "print('After mixing columns:', end=''); pretty_print(Matrix(mixed))\n",
    "print('After mixing columns using inverse:', end=''); pretty_print(Matrix(remixed))"
   ]
  },
  {
   "metadata": {
    "collapsed": false
   },
   "cell_type": "markdown",
   "source": [
    "## AddRoundKeys ##"
   ]
  },
  {
   "metadata": {
    "collapsed": false
   },
   "cell_type": "code",
   "source": [
    "def AddRoundKeys(block, round_keys, round_number):\n",
    "    return [[block[j][i]+round_keys[4*round_number+i][j] for i in range(4)] for j in range(4)]\n",
    "\n",
    "print('Input:', end=''); pretty_print(Matrix(ri))\n",
    "print('After keys added:', end=''); pretty_print(Matrix(AddRoundKeys(ri, round_keys, 2)))"
   ]
  },
  {
   "metadata": {
    "collapsed": false
   },
   "cell_type": "markdown",
   "source": [
    "### Feladatok ###\n",
    "\n",
    "9. \u00cdrjuk meg a MixColumns f\u00fcggv\u00e9nyt \u00e9s inverz\u00e9t bin\u00e1ris adatokra. (Tekinthet\u0151 2db feladatnak.) 1-1p\n",
    "8. \u00c1ll\u00edtsuk \u00f6ssze az AES encrypt f\u00fcggv\u00e9nyt a fentiek alapj\u00e1n. - 3p\n",
    "9. \u00c1ll\u00edtsuk \u00f6ssze az AES decrypt f\u00fcggv\u00e9nyt a fentiek alapj\u00e1n. - 3p\n",
    "9. \u00cdrjuk meg az AES encrypt/decrypt f\u00fcggv\u00e9nyeket bin\u00e1ris form\u00e1ban. - 3-3p"
   ]
  },
  {
   "metadata": {
    "collapsed": false
   },
   "cell_type": "code",
   "source": [
    "print(\"9. feladat\")\n",
    "\n",
    "def MixColumnsBin(d, a):\n",
    "    r = [[0 for j in range(4)] for i in range(4)]\n",
    "    for i in range(4):\n",
    "\n",
    "        for j in range(4):\n",
    "            r[i][j] = cpl[j]\n",
    "\n",
    "\n",
    "Z2x.<x> = PolynomialRing(GF(2))\n",
    "RF.<y> = Z2x.quotient_ring(x^8+x^4+x^3+x+1) # Rijndael test\n",
    "FR.<z> = Z2x.quotient_ring(x^8+1) # Ring for rotations\n",
    "print('Matrix for multiplication:\\n',table([[f\"{[3,1,1,2][(i+3-j)&3]:#0{4}x}\" for i in range(4)] for j in range(4)]), sep='')\n",
    "\n",
    "MCRR.<w> = PolynomialRing(RF); MCRR\n",
    "MCR.<w> = MCRR.quotient_ring(w^4+1); MCR\n",
    "a = (y+1)*w^3+w^2+w+y\n",
    "print('a: ', end=''); pretty_print(a)\n",
    "print('1/a: ', end=''); pretty_print(1/a)\n",
    "\n",
    "def MixColumns(d, a):\n",
    "    r = [[0 for j in range(4)] for i in range(4)]; r\n",
    "    for i in range(4):\n",
    "        cp = sum([d[i][j]*w^j for j in range(4)]) # create a polynomial in MCR\n",
    "        cp = cp * a # mulitply with a\n",
    "        \n",
    "        cpl = cp.list() # write back to the column\n",
    "        for j in range(4):\n",
    "            r[i][j] = cpl[j]\n",
    "    return r\n",
    "\n",
    "ri = [[RF.random_element() for i in range(4)] for j in range(4)];\n",
    "mixed = MixColumns(ri, a);\n",
    "remixed = MixColumns(mixed, 1/a)\n",
    "print('Input:', end=''); pretty_print(Matrix(ri))\n",
    "print('After mixing columns:', end=''); pretty_print(Matrix(mixed))\n",
    "print('After mixing columns using inverse:', end=''); pretty_print(Matrix(remixed))"
   ]
  },
  {
   "metadata": {
    "collapsed": false
   },
   "cell_type": "code",
   "source": [
    ""
   ]
  }
 ]
}