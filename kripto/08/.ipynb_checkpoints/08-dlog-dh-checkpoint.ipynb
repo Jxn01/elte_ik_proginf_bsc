{
 "cells": [
  {
   "cell_type": "markdown",
   "metadata": {},
   "source": [
    "\n",
    "#### Emlékeztető: Ciklikus csoport ####\n",
    "(multiplikatív csoportra)\n",
    "\n",
    "Ha van olyan $g\\in G$, amely generálja a csoportot, azaz $\\{g^k:k\\in\\mathbb{N}\\} = G$, akkor a csoport ciklikus csoport és $g$ egy generátora.\n",
    "\n",
    "Ha $|G| = n$, akkor ez azzal ekvivalens, hogy $g^n=1$, de minden $0<k<n$ egész számra $g^k\\neq 1$.\n",
    "\n",
    "Egy csoportban értelmezhetjük az elemek rendjét a fentieknek megfelelően (azaz az a legkisebb hatvány, amire emelve az egységelemet kapjuk).\n",
    "\n",
    "Elem rendje osztja a csoport rendjét."
   ]
  },
  {
   "cell_type": "code",
   "execution_count": 16,
   "metadata": {
    "ExecuteTime": {
     "end_time": "2023-04-18T08:54:03.149359Z",
     "start_time": "2023-04-18T08:54:03.084009Z"
    }
   },
   "outputs": [
    {
     "name": "stdout",
     "output_type": "stream",
     "text": [
      "Generator:  3\n",
      "Order:  16\n"
     ]
    },
    {
     "data": {
      "text/plain": [
       "16"
      ]
     },
     "execution_count": 16,
     "metadata": {},
     "output_type": "execute_result"
    }
   ],
   "source": [
    "G.<g> = GF(17, modulus='primitive')\n",
    "print('Generator: ', g)\n",
    "print('Order: ', g.multiplicative_order())\n",
    "a = G.random_element()\n",
    "a.multiplicative_order()"
   ]
  },
  {
   "cell_type": "markdown",
   "metadata": {},
   "source": [
    "\n",
    "#### Emlékeztető: Gyorshatványozás ####"
   ]
  },
  {
   "cell_type": "code",
   "execution_count": 17,
   "metadata": {
    "ExecuteTime": {
     "end_time": "2023-04-18T08:54:03.188117Z",
     "start_time": "2023-04-18T08:54:03.105162Z"
    }
   },
   "outputs": [
    {
     "data": {
      "text/plain": [
       "81"
      ]
     },
     "execution_count": 17,
     "metadata": {},
     "output_type": "execute_result"
    }
   ],
   "source": [
    "def fastpow(a,k):\n",
    "    if k == 0:\n",
    "        return 1\n",
    "    r = a\n",
    "    for b in bin(k)[3:]:\n",
    "        r = r*r\n",
    "        if b == '1':\n",
    "            r = r*a\n",
    "    return r\n",
    "fastpow(3,4)"
   ]
  },
  {
   "cell_type": "markdown",
   "metadata": {},
   "source": [
    "\n",
    "## Discrete Log ##\n",
    "\n",
    "Egy $G$ csoport esetén a $g\\in G$ elem $k$-adik hatványából $g^k=b$ általában nehéz feladat (~BF az összes elemre) meghatározni, mi volt a $k$.\n",
    "\n",
    "1. Minél nagyobb $g$ rendje annál nehezebb.\n",
    "1. $k$ nyilvánvalóan kisebb mint a csoport rendje"
   ]
  },
  {
   "cell_type": "code",
   "execution_count": 20,
   "metadata": {
    "ExecuteTime": {
     "end_time": "2023-04-18T08:54:19.105593Z",
     "start_time": "2023-04-18T08:54:19.093845Z"
    }
   },
   "outputs": [
    {
     "data": {
      "text/plain": [
       "6"
      ]
     },
     "execution_count": 20,
     "metadata": {},
     "output_type": "execute_result"
    }
   ],
   "source": [
    "b = g^6\n",
    "discrete_log(b,g)"
   ]
  },
  {
   "cell_type": "markdown",
   "metadata": {},
   "source": []
  },
  {
   "cell_type": "markdown",
   "metadata": {},
   "source": [
    "\n",
    "#### [Baby step - Giant step](https://en.wikipedia.org/wiki/Baby-step_giant-step) ####"
   ]
  },
  {
   "cell_type": "markdown",
   "metadata": {},
   "source": [
    "\n",
    "## Diffie-Hellman ##\n",
    "\n",
    "- Nyilvános: $G, g$\n",
    "- Alice: titkos $a$, nyilvános: $g^a$\n",
    "- Bob: tikos $b$, nyilvános: $g^b$\n",
    "\n",
    "Közös kulcs: $g^{ab}=(g^a)^b=(g^b)^a$"
   ]
  },
  {
   "cell_type": "code",
   "execution_count": null,
   "metadata": {
    "ExecuteTime": {
     "end_time": "2023-04-18T08:53:05.697832Z",
     "start_time": "2023-04-18T08:53:05.607691Z"
    }
   },
   "outputs": [],
   "source": [
    "class DHPerson():\n",
    "    def __init__(self, p,g):\n",
    "        self.__p = p\n",
    "        self.__g = g\n",
    "        self.__rA = randint(1,p-1)\n",
    "        print(\"rand: \" + str(self.__rA))\n",
    "    def get_public(self):\n",
    "        return self.__g^(self.__rA % (p-1)) % self.__p\n",
    "    def get_key(self, pub_key):\n",
    "        return power_mod(pub_key, self.__rA, self.__p)\n",
    "p = next_prime(112352435453412345342451)\n",
    "G.<g> = GF(p, modulus='primitive')\n",
    "Alice = DHPerson(p,g)\n",
    "Bob = DHPerson(p,g)\n",
    "Alice.get_key(Bob.get_public())\n",
    "Bob.get_key(Alice.get_public())"
   ]
  },
  {
   "cell_type": "markdown",
   "metadata": {},
   "source": [
    "\n",
    "#### ElGamal ####\n",
    "\n",
    "- Alice pk: $(x)$, pubk: $(G,g,g^x)$\n",
    "- Bob enctypts: $(c_1=g^y, c_2=m(g^x)^y)$\n",
    "- Alice decrypts: $m = c_2c_1^{-x}$"
   ]
  },
  {
   "cell_type": "markdown",
   "metadata": {},
   "source": [
    "\n",
    "#### Dining Cryptographers ####\n",
    "\n",
    "Adott $n$ résztvevő egy-egy titkos $s_i\\in\\mathbb{N}$ titkos értékkel és szeretnék kiszámolni a $S =\\displaystyle \\sum_{i=1}^{n} s_i$ összeget úgy, hogy a titkos értékeket nem osztják meg egymással.\n",
    "\n",
    "1. Válasszunk egy $G$ (biztonságos) ciklikus csoportot és hozzá egy $g$ generátort úgy, hogy $|G|>S$.\n",
    "2. Páronként végezzünk DH kulcscserét: $k_{i,j}$ az $i.$ és a $j.$ résztvevő közös kulcsa.\n",
    "3. Minden résztvevő kiszámolja a $P_i = s_i + \\displaystyle\\sum_{j=1}^n \\text{sign}(i-j)k_{i,j}$ és megosztja a többiekkel.\n",
    "4. Kiszámoljuk a $\\displaystyle \\sum_{i=1}^n P_i = \\sum_{i=1}^n\\sum_{j=1}^n \\text{sign}(i-j)k_{i,j} + \\sum_{i=1}^n s_i = 0 + S$."
   ]
  },
  {
   "cell_type": "code",
   "execution_count": null,
   "metadata": {
    "ExecuteTime": {
     "end_time": "2023-04-18T08:53:05.698066Z",
     "start_time": "2023-04-18T08:53:05.653091Z"
    }
   },
   "outputs": [],
   "source": []
  },
  {
   "cell_type": "markdown",
   "metadata": {},
   "source": [
    "\n",
    "## Feladatok ##\n",
    "\n",
    "1. (1p) Keressünk egy tetszőleges csoportban olyan elemeket, amelyek multiplikatív rendje 1, 5, 9, 32.\n",
    "7. Írjunk programot a diszkrét log számolására $\\mathbb{Z}_p$ esetén (paraméter: $p,b,g$) és hasonlítsuk össze a futási időt a `discrete_log` utasítás futási idejével különböző nagyságrendű $p$-k esetén!\n",
    "9. Mutassuk be, hogyan működik egy MitM támadás a fent alkotott osztályok segítségével.\n",
    "9. (2p) Alkossunk asszimetrikus titkosítást a DH kulcscsere alapján [ElGamal](https://en.wikipedia.org/wiki/ElGamal_encryption).\n",
    "1. (3p) Valósítsuk meg azt az eljárást, amely segíthet, ha nem szeretnénk, ha a többiek tudnák mennyi borravalót adtunk: (Étkező kriptográfusok)\n",
    "1. (3p) Valósítsuk meg a [szociális milliomos](https://en.wikipedia.org/wiki/Socialist_millionaire_problem) probléma megoldását DH alapján."
   ]
  },
  {
   "cell_type": "code",
   "execution_count": null,
   "metadata": {
    "ExecuteTime": {
     "end_time": "2023-04-18T08:53:05.698177Z",
     "start_time": "2023-04-18T08:53:05.653287Z"
    }
   },
   "outputs": [],
   "source": []
  }
 ],
 "metadata": {
  "kernelspec": {
   "display_name": "SageMath 9.8",
   "language": "sage",
   "name": "sagemath"
  },
  "language_info": {
   "codemirror_mode": {
    "name": "ipython",
    "version": 3
   },
   "file_extension": ".py",
   "mimetype": "text/x-python",
   "name": "python",
   "nbconvert_exporter": "python",
   "pygments_lexer": "ipython3",
   "version": "3.10.10"
  }
 },
 "nbformat": 4,
 "nbformat_minor": 4
}
