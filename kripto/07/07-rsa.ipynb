{
 "cells": [
  {
   "cell_type": "markdown",
   "metadata": {
    "collapsed": false
   },
   "source": [
    "\n",
    "## Számelméleti alapok RSA-hoz ##\n",
    "\n",
    "1. Prímek\n",
    "1. Kongruenciák\n",
    "1. GCD, moduláris inverz $ax\\equiv 1\\mod m$; feltétel: $(a,m) = 1$\n",
    "1. Euler-$\\varphi$\n",
    "1. Euler-Fermat tétel\n",
    "1. Gyors hatványozás"
   ]
  },
  {
   "cell_type": "code",
   "execution_count": null,
   "metadata": {
    "collapsed": false
   },
   "outputs": [],
   "source": [
    "#primes\n",
    "is_prime(2^31-1)\n",
    "next_prime(2^200)\n",
    "previous_prime(2^200)\n",
    "nth_prime(1000)\n",
    "[p for p in primes(100)]"
   ]
  },
  {
   "cell_type": "code",
   "execution_count": null,
   "metadata": {
    "collapsed": false
   },
   "outputs": [],
   "source": [
    "# modulo\n",
    "122 % 54\n",
    "mod(122, 54)\n",
    "IntegerModRing(54)(122)\n",
    "# with prime moduli\n",
    "GF(7)(11)"
   ]
  },
  {
   "cell_type": "code",
   "execution_count": null,
   "metadata": {
    "collapsed": false
   },
   "outputs": [],
   "source": [
    "# modular inverse\n",
    "inverse_mod(12, 17)\n",
    "mod(12*_,17)\n",
    "\n",
    "1/IntegerModRing(17)(12)\n",
    "12*_\n",
    "\n",
    "1/GF(17)(12)\n",
    "12*_"
   ]
  },
  {
   "cell_type": "code",
   "execution_count": null,
   "metadata": {
    "collapsed": false
   },
   "outputs": [],
   "source": [
    "euler_phi(100)\n",
    "euler_phi(4)*euler_phi(25)\n",
    "euler_phi(17)"
   ]
  },
  {
   "cell_type": "markdown",
   "metadata": {
    "collapsed": false
   },
   "source": [
    "Ha $(a,n)=1$, akkor $a^{\\varphi(n)}\\equiv 1\\ (n)$."
   ]
  },
  {
   "cell_type": "code",
   "execution_count": null,
   "metadata": {
    "collapsed": false
   },
   "outputs": [],
   "source": [
    "#Gyors hatványozás\n",
    "17^37 # 36 szorzás\n",
    "(17^18)^2*17\n",
    "((17^9)^2)^2*17\n",
    "(((17^4)^2*17)^2)^2*17\n",
    "((((17^2)^2)^2*17)^2)^2*17 # 7 szorzás"
   ]
  },
  {
   "cell_type": "markdown",
   "metadata": {
    "collapsed": false
   },
   "source": [
    "\n",
    "## RSA ##\n",
    "\n",
    "[Credit](http://doc.sagemath.org/html/en/thematic_tutorials/numtheory_rsa.html)\n",
    "\n",
    "1. Válasszunk két megfelelő $p,q$ prímet és $n=pq$.\n",
    "1. Vegyünk egy $e$ számot, amelyre $(e,\\varphi(n))\\equiv1$.\n",
    "1. Számoljuk ki $d$-t úgy, hogy $de\\equiv 1\\ (\\varphi(n))$.\n",
    "1. pubk = [$n,e$], pk = [$p,q,d$].\n",
    "1. Titkosítás $c\\equiv m^e\\ (n)$.\n",
    "1. Fejtés: $m \\equiv c^d\\ (n)$."
   ]
  },
  {
   "cell_type": "code",
   "execution_count": null,
   "metadata": {
    "collapsed": false
   },
   "outputs": [],
   "source": [
    "p = (2^31) - 1\n",
    "is_prime(p)\n",
    "q = (2^61) - 1\n",
    "is_prime(q)\n",
    "n = p * q ; n"
   ]
  },
  {
   "cell_type": "code",
   "execution_count": null,
   "metadata": {
    "collapsed": false
   },
   "outputs": [],
   "source": [
    "phi = (p - 1)*(q - 1); phi\n",
    "e = ZZ.random_element(phi)\n",
    "while gcd(e, phi) != 1:\n",
    "    e = ZZ.random_element(phi) # eletben nem random\n",
    "e  # random\n",
    "e < n"
   ]
  },
  {
   "cell_type": "code",
   "execution_count": null,
   "metadata": {
    "collapsed": false
   },
   "outputs": [],
   "source": [
    "bezout = xgcd(e, phi); bezout  # random\n",
    "d = Integer(mod(bezout[1], phi)) ; d  # random\n",
    "mod(d * e, phi)"
   ]
  },
  {
   "cell_type": "code",
   "execution_count": null,
   "metadata": {
    "collapsed": false
   },
   "outputs": [],
   "source": [
    "m = \"HELLOWORLD\"\n",
    "m = [ord(x) for x in m]; m\n",
    "m.reverse()\n",
    "m = ZZ(m, 100); m"
   ]
  },
  {
   "cell_type": "code",
   "execution_count": null,
   "metadata": {
    "collapsed": false
   },
   "outputs": [],
   "source": [
    "# encrypt\n",
    "# instead c = mod(m^e, n)\n",
    "c = power_mod(m, e, n); c"
   ]
  },
  {
   "cell_type": "code",
   "execution_count": null,
   "metadata": {
    "collapsed": false
   },
   "outputs": [],
   "source": [
    "# decrypt\n",
    "m = power_mod(c, d, n); m"
   ]
  },
  {
   "cell_type": "code",
   "execution_count": null,
   "metadata": {
    "collapsed": false
   },
   "outputs": [],
   "source": [
    "\"\".join([chr((m//100^i)%100) for i in range(ceil(log(m, 100))-1,-1,-1)])"
   ]
  },
  {
   "cell_type": "markdown",
   "metadata": {
    "collapsed": false
   },
   "source": [
    "#### (Naiv) alkalmazások:\n",
    "\n",
    "Titkosítás:\n",
    "1. Bontsuk fel az üzenetet legfeljebb $n$ nagyságú darabokra.\n",
    "2. Minden darabot titkosítsunk a címzett publikus kulcsával.\n",
    "3. Csak a címzett tudja visszafejteni blokkonként.\n",
    "\n",
    "Hitelesítés:\n",
    "1. Adjuk meg az üzenetet legfeljebb $n$ hosszon (hash).\n",
    "2. Titkosítsuk a tömörített változatot a privát kulccsal.\n",
    "3. Csatoljuk az üzenet mellé a titkosított változatát (mint aláírást).\n",
    "4. Ha a küldő publikus kulcsával sikerült megkapnunk az üzenet tömörített változatát, akkor biztosak lehetünk, hogy a készítő birtokában van a küldő privát kulcsa."
   ]
  },
  {
   "cell_type": "markdown",
   "metadata": {
    "collapsed": false
   },
   "source": [
    "\n",
    "## Feladatok ##\n",
    "\n",
    "1. Írjunk rekurzív eljárást az Euler-féle $\\varphi$ függvény kiszámílására ($\\varphi(ab) = \\varphi(a)\\varphi(b)$, ha $(a,b) = 1$; $\\varphi(p^n)=p^{n-1}-p^{n-2}$, ha $p$ prím és $1 < n\\in\\mathbb{N}$)!\n",
    "2. Írjunk eljárást, amely egy adott bemetre az Euler-Fermat tétel helyességét ellenőrzi!\n",
    "3. Írjunk programot a gyors hatványozásra!\n",
    "4. Írjunk programot a gyors hatványozásra modulo n (input: a,b,n)!\n",
    "5. Készítsünk osztályt az RSA titkosításhoz (konstruktorának meghívásakor elkészülnek/megadásra kerülnek a kulcsok)!\n",
    "6. Egészítsük ki az előző feladat osztályát hitelesítéssel is.\n",
    "6. Ha $p$ és $q$ közeli prímek, akkor $n$ viszonylag könnyen felbontható. Írjunk eljárást, amely ezt használja ki az RSA töréséhez!"
   ]
  },
  {
   "cell_type": "markdown",
   "metadata": {
    "collapsed": false
   },
   "source": [
    "- 4: 2p\n",
    "- 5+6: 3p\n",
    "- 7: 1p"
   ]
  },
  {
   "cell_type": "code",
   "execution_count": 1,
   "metadata": {
    "collapsed": false
   },
   "outputs": [
    {
     "name": "stdout",
     "output_type": "stream",
     "text": [
      "1. feladat:\n"
     ]
    },
    {
     "data": {
      "text/plain": [
       "40"
      ]
     },
     "execution_count": 1,
     "metadata": {},
     "output_type": "execute_result"
    }
   ],
   "source": [
    "print(\"1. feladat:\")\n",
    "\n",
    "def eulerphi(n):\n",
    "    if(n==1):\n",
    "        return 1\n",
    "    elif(is_prime(n)):\n",
    "        return n-1\n",
    "    else:\n",
    "        p = next_prime(1)\n",
    "        while(n % p) != 0:\n",
    "            p = next_prime(p)\n",
    "        k = valuation(n, p)\n",
    "        return (p-1) * pow(p, k-1) * eulerphi(n // pow(p, k))\n",
    "\n",
    "eulerphi(100)"
   ]
  }
 ],
 "metadata": {
  "kernelspec": {
   "display_name": "SageMath 10.1",
   "language": "sage",
   "name": "sagemath"
  },
  "language_info": {
   "codemirror_mode": {
    "name": "ipython",
    "version": 3
   },
   "file_extension": ".py",
   "mimetype": "text/x-python",
   "name": "python",
   "nbconvert_exporter": "python",
   "pygments_lexer": "ipython3",
   "version": "3.11.5"
  }
 },
 "nbformat": 4,
 "nbformat_minor": 4
}
