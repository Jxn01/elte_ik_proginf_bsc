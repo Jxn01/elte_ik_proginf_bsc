{
 "cells": [
  {
   "cell_type": "markdown",
   "metadata": {},
   "source": [
    "# 1. feladat\n",
    "## Írj programot, amely egy egész számokat tartalmazó halmaz elemeit osztályozza modulo m, ahol az m a második paraméter."
   ]
  },
  {
   "cell_type": "code",
   "execution_count": 1,
   "metadata": {
    "vscode": {
     "languageId": "python"
    }
   },
   "outputs": [
    {
     "data": {
      "text/plain": [
       "{1: [1, 4, 7, 10], 2: [2, 5, 8], 0: [3, 6, 9]}"
      ]
     },
     "execution_count": 1,
     "metadata": {},
     "output_type": "execute_result"
    }
   ],
   "source": [
    "def classify(set, m):\n",
    "  classes = {}\n",
    "  for num in set:\n",
    "    mod = num % m\n",
    "    if mod not in classes:\n",
    "      classes[mod] = [num]\n",
    "    else:\n",
    "      classes[mod].append(num)\n",
    "  return classes\n",
    "\n",
    "classify([1, 2, 3, 4, 5, 6, 7, 8, 9, 10], 3)\n",
    "  "
   ]
  }
 ],
 "metadata": {
  "kernelspec": {
   "display_name": "SageMath 10.1",
   "language": "sage",
   "name": "sagemath"
  },
  "language_info": {
   "codemirror_mode": {
    "name": "ipython",
    "version": 3
   },
   "file_extension": ".py",
   "mimetype": "text/x-python",
   "name": "sage",
   "nbconvert_exporter": "python",
   "pygments_lexer": "ipython3",
   "version": "3.11.5"
  }
 },
 "nbformat": 4,
 "nbformat_minor": 4
}
