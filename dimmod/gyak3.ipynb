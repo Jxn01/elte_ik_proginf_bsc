{
 "cells": [
  {
   "cell_type": "markdown",
   "metadata": {
    "collapsed": false
   },
   "source": [
    "\n",
    "# Legnagyobb közös osztó"
   ]
  },
  {
   "cell_type": "code",
   "execution_count": null,
   "metadata": {
    "collapsed": false
   },
   "outputs": [],
   "source": []
  },
  {
   "cell_type": "markdown",
   "metadata": {
    "collapsed": false
   },
   "source": [
    "\n",
    "## 1. Feladat\n",
    "**Feladat**\n",
    "Írj programot, amely adott egész számokra kiszámolja a legnagyobb közös osztót a `factor` parancs segítségével!\n",
    "\n",
    "Tesztelésre használható a `gcd` SageMath parancs."
   ]
  },
  {
   "cell_type": "code",
   "execution_count": null,
   "metadata": {
    "collapsed": false
   },
   "outputs": [],
   "source": []
  },
  {
   "cell_type": "markdown",
   "metadata": {
    "collapsed": false
   },
   "source": [
    "## 2. Feladat\n",
    "***Feladat***\n",
    "Írj programot, amely adott egész számokra kiszámolja a legkisebb közös többszöröst a `factor` parancs segítségével!\n",
    "\n",
    "Tesztelésre használható az `lcm` SageMath parancs."
   ]
  },
  {
   "cell_type": "code",
   "execution_count": 1,
   "metadata": {
    "collapsed": false
   },
   "outputs": [
    {
     "data": {
      "text/plain": [
       "True"
      ]
     },
     "execution_count": 1,
     "metadata": {},
     "output_type": "execute_result"
    }
   ],
   "source": [
    "list = [n+36 for n in range(100)]\n",
    "\n",
    "def lkkt(list):\n",
    "    common_factors = []\n",
    "    for num in list:\n",
    "        factors = factor(num)\n",
    "        common_factors.append(factors)\n",
    "\n",
    "    factors_init = {}\n",
    "    for factors in common_factors:\n",
    "        for f, exponent in factors:\n",
    "            if f in factors_init:\n",
    "                factors_init[f] = max(factors_init[f], exponent)\n",
    "            else:\n",
    "                factors_init[f] = exponent\n",
    "\n",
    "    result = 1\n",
    "    for f, exponent in factors_init.items():\n",
    "        result *= f^exponent\n",
    "\n",
    "    return result\n",
    "\n",
    "def test_lkkt(list):\n",
    "    return lcm(list) == lkkt(list)\n",
    "\n",
    "test_lkkt(list)"
   ]
  },
  {
   "cell_type": "markdown",
   "metadata": {
    "collapsed": false
   },
   "source": [
    "## 3. Feladat\n",
    "***Feladat***\n",
    "Készítsd el a fenti algoritmust és hasonlítsd össze a korábbi legnagyobb közös osztót számoló program futási idejével!"
   ]
  },
  {
   "cell_type": "markdown",
   "metadata": {
    "collapsed": false
   },
   "source": [
    "## 4. Feladat\n",
    "***Feladat***\n",
    "Írj olyan programot két természetes szám a legnagyobb közös osztójának kiszámolására, ami csak additív (`+`,`-`) és shift (`<<`,`>>`) műveleteket használ (hatékony számítógépen)! A megoldáshoz használd az alábbi összefüggéseket!"
   ]
  },
  {
   "cell_type": "markdown",
   "metadata": {
    "collapsed": false
   },
   "source": [
    "## 5. Feladat\n",
    "***Feladat***\n",
    "Írj programot, ami a bővített Euklideszi-algoritmust valósítja meg természetes számokra! Ellenőrzéshez használható az `xgcd` parancs."
   ]
  },
  {
   "cell_type": "markdown",
   "metadata": {
    "collapsed": false
   },
   "source": [
    "## 6. Feladat\n",
    "***Feladat***\n",
    "Implementáld a bináris gcd bővített változatát!"
   ]
  }
 ],
 "metadata": {
  "kernelspec": {
   "argv": [
    "sage-10.0",
    "--python",
    "-m",
    "sage.repl.ipython_kernel",
    "--matplotlib=inline",
    "-f",
    "{connection_file}"
   ],
   "display_name": "SageMath 10.1",
   "env": {},
   "language": "sage",
   "name": "sagemath",
   "resource_dir": "/ext/jupyter/kernels/sage-10.0"
  },
  "language_info": {
   "codemirror_mode": {
    "name": "ipython",
    "version": 3
   },
   "file_extension": ".py",
   "mimetype": "text/x-python",
   "name": "python",
   "nbconvert_exporter": "python",
   "pygments_lexer": "ipython3",
   "version": "3.11.5"
  }
 },
 "nbformat": 4,
 "nbformat_minor": 4
}
