{
 "cells": [
  {
   "cell_type": "markdown",
   "metadata": {
    "collapsed": false
   },
   "source": [
    "# Valósítsd meg a **LinDiofantianEq** osztályt a következőknek megfelelően!\n",
    "\n",
    "- Konstruktorában megadhatóak az a,b,c értékek.\n",
    "- Van egy is_solvable függvénye.\n",
    "- Fel tudja sorolni a megoldásokat egy next_solution és egy prev_solution függvény segítségével.\n",
    "- Az első megoldás, amivel a next_solution visszatér az legyen, amely esetén az x a legkisebb nemnegatív szám.\n",
    "- Csak egy megoldást tároljunk az objektum használata közben."
   ]
  },
  {
   "cell_type": "code",
   "execution_count": 1,
   "metadata": {
    "collapsed": false
   },
   "outputs": [
    {
     "name": "stdout",
     "output_type": "stream",
     "text": [
      "(2, 208)\n"
     ]
    }
   ],
   "source": [
    "class LinDiofantianEq:\n",
    "    def __init__(self, a, b, c):\n",
    "        self.a = a\n",
    "        self.b = b\n",
    "        self.c = c\n",
    "        self.x0 = None\n",
    "        self.y0 = None\n",
    "        self.xa = None\n",
    "        self.ya = None\n",
    "        self.t = None\n",
    "        self.init_result()\n",
    "\n",
    "    def is_solvable(self):\n",
    "        if self.c % gcd(self.a, self.b) == 0:\n",
    "            return True\n",
    "        else:\n",
    "            return False\n",
    "\n",
    "    def init_result(self):\n",
    "        if self.is_solvable():\n",
    "            x = var(\"x\")\n",
    "            y = var(\"y\")\n",
    "            assume(x, \"integer\")\n",
    "            assume(y, \"integer\")\n",
    "            xn, yn = solve(self.a*x+self.b*y == self.c, x, y)\n",
    "            self.x0 = xn.operands()[1]\n",
    "            self.y0 = yn.operands()[1]\n",
    "            self.xa = xn.operands()[0].operands()[1]\n",
    "            self.ya = yn.operands()[0].operands()[1]\n",
    "        else:\n",
    "            raise ValueError(\"Not solvable!\")\n",
    "\n",
    "    def next_solution(self):\n",
    "        if self.is_solvable():\n",
    "            if self.t == None:\n",
    "                self.t = 0\n",
    "                x = self.x0 + self.xa * self.t\n",
    "                x1 = self.x0 + self.xa * (self.t+1)\n",
    "                t_increment = False\n",
    "                if x < x1:\n",
    "                    t_increment = True\n",
    "                else:\n",
    "                    t_increment = False\n",
    "                if x < 0:\n",
    "                    while x < 0:\n",
    "                        if t_increment:\n",
    "                            self.t += 1\n",
    "                            x = self.x0 + self.xa * self.t\n",
    "                        else:\n",
    "                            self.t -= 1\n",
    "                            x = self.x0 + self.xa * self.t\n",
    "                elif x > 0:\n",
    "                    while x > 0:\n",
    "                        if t_increment:\n",
    "                            self.t -= 1\n",
    "                            x = self.x0 + self.xa * self.t\n",
    "                        else:\n",
    "                            self.t += 1\n",
    "                            x = self.x0 + self.xa * self.t\n",
    "                if x < 0:\n",
    "                    self.t += 1\n",
    "                result = self.x0 + self.xa * self.t, self.y0 - self.ya * self.t\n",
    "                return result\n",
    "            else:\n",
    "                self.t += 1\n",
    "                result = self.x0 + self.xa * self.t, self.y0 - self.ya * self.t\n",
    "                return result\n",
    "        else:\n",
    "            raise ValueError(\"Not solvable!\")\n",
    "\n",
    "    def prev_solution(self):\n",
    "        if self.is_solvable():\n",
    "            self.t -= 1\n",
    "            result = self.x0 + self.xa * self.t, self.y0 - self.ya * self.t\n",
    "            return result\n",
    "        else:\n",
    "            raise ValueError(\"Not solvable!\")\n",
    "\n",
    "solver = LinDiofantianEq(54,11,20)\n",
    "print(solver.next_solution())"
   ]
  },
  {
   "cell_type": "code",
   "execution_count": null,
   "metadata": {
    "collapsed": false
   },
   "outputs": [],
   "source": []
  }
 ],
 "metadata": {
  "kernelspec": {
   "argv": [
    "sage-10.0",
    "--python",
    "-m",
    "sage.repl.ipython_kernel",
    "--matplotlib=inline",
    "-f",
    "{connection_file}"
   ],
   "display_name": "SageMath 10.1",
   "env": {},
   "language": "sage",
   "name": "sagemath",
   "resource_dir": "/ext/jupyter/kernels/sage-10.0"
  },
  "language_info": {
   "codemirror_mode": {
    "name": "ipython",
    "version": 3
   },
   "file_extension": ".py",
   "mimetype": "text/x-python",
   "name": "python",
   "nbconvert_exporter": "python",
   "pygments_lexer": "ipython3",
   "version": "3.11.5"
  }
 },
 "nbformat": 4,
 "nbformat_minor": 4
}
