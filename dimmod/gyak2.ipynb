{
 "cells": [
  {
   "cell_type": "markdown",
   "metadata": {
    "collapsed": false
   },
   "source": [
    "# Oszthatóság\n",
    "\n",
    "**Feladat**\n",
    "Írd meg azt a függvényt, amely eldönti, hogy az első argumentuma osztható-e a másodikkal az alábbi\n",
    "példán kívűl még 4 különböző módon!\n",
    "\n",
    "``` pyhon advanced\n",
    "def divides0(a,b):\n",
    "     return (a/b).is_integer()\n",
    "print(\"2|5: \", divides0(5,2))\n",
    "print(\"3|6: \", divides0(6,3))\n",
    "```"
   ]
  },
  {
   "cell_type": "code",
   "execution_count": 1,
   "metadata": {
    "collapsed": false
   },
   "outputs": [
    {
     "name": "stdout",
     "output_type": "stream",
     "text": [
      "1. Feladat:\n",
      "\n",
      "divides1(12,2): 12 % 2 == 0: True\n",
      "divides1(13,2): 13 % 2 == 0: False\n",
      "divides2(12,2): 12 // 2 == 12*(1/2): True\n",
      "divides2(13,2): 13 // 2 == 13*(1/2): False\n",
      "divides3(12,2): (12 // 2) * 2 == 12: True\n",
      "divides3(13,2): (13 // 2) * 2 == 13: False\n",
      "divides4(12,2): ((12 // 2) * 2) // (12 / 2) == 2: True\n",
      "divides4(13,2): ((13 // 2) * 2) // (13 / 2) == 2: False\n"
     ]
    }
   ],
   "source": [
    "def divides1(a,b):\n",
    "    return (a%b) == 0\n",
    "\n",
    "def divides2(a,b):\n",
    "    return (a//b) == a*(1/b)\n",
    "\n",
    "def divides3(a,b):\n",
    "    return (a//b)*b == a\n",
    "\n",
    "def divides4(a,b):\n",
    "    return ((a//b)*b)//(a/b) == b\n",
    "\n",
    "print(\"1. Feladat:\\n\")\n",
    "\n",
    "print(\"divides1(12,2): 12 % 2 == 0: \" + str(divides1(12,2)))\n",
    "print(\"divides1(13,2): 13 % 2 == 0: \" + str(divides1(13,2)))\n",
    "print(\"divides2(12,2): 12 // 2 == 12*(1/2): \" + str(divides2(12,2)))\n",
    "print(\"divides2(13,2): 13 // 2 == 13*(1/2): \" + str(divides2(13,2)))\n",
    "print(\"divides3(12,2): (12 // 2) * 2 == 12: \" + str(divides3(12,2)))\n",
    "print(\"divides3(13,2): (13 // 2) * 2 == 13: \" + str(divides3(13,2)))\n",
    "print(\"divides4(12,2): ((12 // 2) * 2) // (12 / 2) == 2: \" + str(divides4(12,2)))\n",
    "print(\"divides4(13,2): ((13 // 2) * 2) // (13 / 2) == 2: \" + str(divides4(13,2)))"
   ]
  },
  {
   "cell_type": "markdown",
   "metadata": {
    "collapsed": false
   },
   "source": [
    "**Feladat**\n",
    "Írj programot, amely egy adott számhalmaz esetén megszámolja hány él van az oszthatóság relációhoz tartozó  Hasse-diagramban! Ellenőrzésre lehet használni az alábbi kódot.\n",
    "\n",
    "``` python advanced\n",
    "k = 18\n",
    "P = Poset((Set([2..k]), lambda a,b: b % a == 0))\n",
    "len(P.cover_relations_graph().edges())\n",
    "```"
   ]
  },
  {
   "cell_type": "code",
   "execution_count": 2,
   "metadata": {
    "collapsed": false
   },
   "outputs": [
    {
     "name": "stdout",
     "output_type": "stream",
     "text": [
      "2. Feladat:\n",
      "\n",
      "283\n",
      "Ellenőrzés...\n",
      "Ellenőrzött érték: 146\n"
     ]
    }
   ],
   "source": [
    "print(\"2. Feladat:\\n\")\n",
    "\n",
    "\n",
    "k = 100\n",
    "set = Set[2..k]\n",
    "\n",
    "def count_divisibles(s):\n",
    "    i = 0\n",
    "    for num in s:\n",
    "        for num2 in reversed(range(2, num-1)):\n",
    "            if(num % num2 == 0):\n",
    "                i += 1\n",
    "    return i\n",
    "\n",
    "print(count_divisibles(set))\n",
    "\n",
    "print(\"Ellenőrzés...\")\n",
    "P = Poset((Set([2..k]), lambda a,b: b % a == 0))\n",
    "print(\"Ellenőrzött érték: \" + str(len(P.cover_relations_graph().edges())))"
   ]
  },
  {
   "cell_type": "code",
   "execution_count": null,
   "metadata": {
    "collapsed": false
   },
   "outputs": [],
   "source": []
  },
  {
   "cell_type": "code",
   "execution_count": null,
   "metadata": {
    "collapsed": false
   },
   "outputs": [],
   "source": []
  },
  {
   "cell_type": "markdown",
   "metadata": {
    "collapsed": false
   },
   "source": [
    "\n",
    "**Feladat**\n",
    "Írj programot, amely egy adott egész szám esetén kiírja osztóinak számát, illetve osztóinak összegét! Ellenőrzéshez használhatjuk a `sigma(n,0)` és `sigma(n,1)` parancsokat."
   ]
  },
  {
   "cell_type": "code",
   "execution_count": 3,
   "metadata": {
    "collapsed": false
   },
   "outputs": [
    {
     "name": "stdout",
     "output_type": "stream",
     "text": [
      "100\n",
      "50\n",
      "25\n",
      "20\n",
      "10\n",
      "5\n",
      "4\n",
      "2\n",
      "1\n",
      "True\n",
      "True\n"
     ]
    }
   ],
   "source": [
    "n = 100\n",
    "\n",
    "divisible_num = 0\n",
    "divisible_sum = 0\n",
    "\n",
    "for i in reversed(range(1, n+1)):\n",
    "    if(n % i == 0):\n",
    "        print(i)\n",
    "        divisible_num += 1\n",
    "        divisible_sum += i\n",
    "\n",
    "print(divisible_num == sigma(n,0))\n",
    "print(divisible_sum == sigma(n,1))"
   ]
  },
  {
   "cell_type": "markdown",
   "metadata": {
    "collapsed": false
   },
   "source": [
    "\n",
    "**Feladat**\n",
    "Írj programot, amely a természetes számok egy adott halmazában megkeresi a tökéletes számokat (tökéletes szám: osztóinak összege megegyezik a számmal, pl. 6."
   ]
  },
  {
   "cell_type": "code",
   "execution_count": null,
   "metadata": {
    "collapsed": false
   },
   "outputs": [],
   "source": []
  },
  {
   "cell_type": "markdown",
   "metadata": {
    "collapsed": false
   },
   "source": [
    "\n",
    "**Feladat**\n",
    "*(Aliquot)* Természetes számok esetén definiálhatjuk a következő sorozatot:\n",
    "\n",
    "$(s_0 = n; s_{i+1} = \\sigma(s_i) - s_i)$, ahol a $\\sigma(n)$ az $n$ osztóinak összege.\n",
    "\n",
    "  A sorozat vagy terminál nulla értékkel vagy periodikussá válik. Készíts programot, amely egy adott természetes szám\n",
    "  esetén kiszámolja az említett sorozatot! (Ha nem terminál, akkor csak az első periódust írja ki.)"
   ]
  },
  {
   "cell_type": "code",
   "execution_count": null,
   "metadata": {
    "collapsed": false
   },
   "outputs": [],
   "source": []
  },
  {
   "cell_type": "markdown",
   "metadata": {
    "collapsed": false
   },
   "source": [
    "# Prímek és a számelmélet alaptétele\n",
    "\n",
    "**Feladat**\n",
    "A $\\mathbb{Z}_m$ struktúra alatt a ${0,1,\\dots, m-1}$ számokat értjük úgy, hogy az összeadás és szorzás műveletet $\\mod m$ végezzük el. Írj programot\n",
    "amely egy adott $m$ esetén definíció alapján meghatározza az egységeket, irreducibiliseket és prímeket!"
   ]
  },
  {
   "cell_type": "code",
   "execution_count": null,
   "metadata": {
    "collapsed": false
   },
   "outputs": [],
   "source": []
  },
  {
   "cell_type": "markdown",
   "metadata": {
    "collapsed": false
   },
   "source": [
    "**Feladat**\n",
    "(*Erasztotenész szitája*) Adj programot, amely megadja az összes prímet egy adott számig, azaz ugyanazt az eredmény adja mint a `primes_first_n(n)`!"
   ]
  },
  {
   "cell_type": "code",
   "execution_count": null,
   "metadata": {
    "collapsed": false
   },
   "outputs": [],
   "source": []
  },
  {
   "cell_type": "markdown",
   "metadata": {
    "collapsed": false
   },
   "source": [
    "**Feladat**\n",
    "Írd meg az előző feladatot hatékonyabban úgy, hogy a páros számok ne is kerüljenek be a táblába!"
   ]
  },
  {
   "cell_type": "code",
   "execution_count": null,
   "metadata": {
    "collapsed": false
   },
   "outputs": [],
   "source": []
  },
  {
   "cell_type": "markdown",
   "metadata": {
    "collapsed": false
   },
   "source": [
    "**Feladat**\n",
    "Írd meg a prímszitát úgy, hogy a $2,3$ és $5$-tel osztható számok ne kerüljenek a táblába! Ehhez a számokat $30i+M[j]$ alakban tárold\n",
    "($30=2\\cdot 3\\cdot 5$), ahol $i\\in[1,\\lceil n\\rceil]$; $j\\in[1,8]$ és $M=[1,7,11,13,17,19,23,29]$."
   ]
  },
  {
   "cell_type": "code",
   "execution_count": null,
   "metadata": {
    "collapsed": false
   },
   "outputs": [],
   "source": []
  },
  {
   "cell_type": "markdown",
   "metadata": {
    "collapsed": false
   },
   "source": [
    "**Feladat** (*Ikerprímek*)\n",
    "Természetes számok esetén az olyan prímeket melyeknek különbsége 2 ikerprímeknek hívjuk. Írj programot, amely megkeresi az összes ikerprímet adott $a$ és $b$ között."
   ]
  },
  {
   "cell_type": "code",
   "execution_count": null,
   "metadata": {
    "collapsed": false
   },
   "outputs": [],
   "source": []
  },
  {
   "cell_type": "markdown",
   "metadata": {
    "collapsed": false
   },
   "source": [
    "# Legnagyobb közös osztó\n",
    "\n",
    "**Feladat**\n",
    "Írj programot, kiszámolja a legnagyobb közös osztót a `factor` parancs segítségével! Tesztelésre használható a `gcd(a,b)` parancs."
   ]
  },
  {
   "cell_type": "code",
   "execution_count": null,
   "metadata": {
    "collapsed": false
   },
   "outputs": [],
   "source": []
  },
  {
   "cell_type": "markdown",
   "metadata": {
    "collapsed": false
   },
   "source": [
    "**Feladat**\n",
    "Írj programot, kiszámolja a legkisebb közös többszöröst a `factor` parancs segítségével (és `gcd` használata nélkül)! Tesztelésre használható a `lcm(a,b)` parancs."
   ]
  },
  {
   "cell_type": "code",
   "execution_count": null,
   "metadata": {
    "collapsed": false
   },
   "outputs": [],
   "source": []
  },
  {
   "cell_type": "code",
   "execution_count": null,
   "metadata": {
    "collapsed": false
   },
   "outputs": [],
   "source": []
  }
 ],
 "metadata": {
  "kernelspec": {
   "argv": [
    "sage-10.0",
    "--python",
    "-m",
    "sage.repl.ipython_kernel",
    "--matplotlib=inline",
    "-f",
    "{connection_file}"
   ],
   "display_name": "SageMath 10.1",
   "env": {},
   "language": "sage",
   "name": "sagemath",
   "resource_dir": "/ext/jupyter/kernels/sage-10.0"
  },
  "language_info": {
   "codemirror_mode": {
    "name": "ipython",
    "version": 3
   },
   "file_extension": ".py",
   "mimetype": "text/x-python",
   "name": "python",
   "nbconvert_exporter": "python",
   "pygments_lexer": "ipython3",
   "version": "3.11.5"
  }
 },
 "nbformat": 4,
 "nbformat_minor": 4
}
